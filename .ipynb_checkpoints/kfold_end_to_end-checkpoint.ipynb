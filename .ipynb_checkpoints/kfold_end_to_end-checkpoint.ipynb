{
 "cells": [
  {
   "cell_type": "markdown",
   "metadata": {},
   "source": [
    "https://camelyon16.grand-challenge.org/Data"
   ]
  },
  {
   "cell_type": "code",
   "execution_count": 7,
   "metadata": {},
   "outputs": [
    {
     "name": "stdout",
     "output_type": "stream",
     "text": [
      "[NbConvertApp] Converting notebook ./kfold_end_to_end.ipynb to script\n",
      "[NbConvertApp] Writing 6844 bytes to ./kfold_end_to_end.py\n"
     ]
    }
   ],
   "source": [
    "!jupyter nbconvert --to script './kfold_end_to_end.ipynb'"
   ]
  },
  {
   "cell_type": "code",
   "execution_count": 8,
   "metadata": {},
   "outputs": [
    {
     "name": "stdout",
     "output_type": "stream",
     "text": [
      "The autoreload extension is already loaded. To reload it, use:\n",
      "  %reload_ext autoreload\n"
     ]
    }
   ],
   "source": [
    "%load_ext autoreload\n",
    "%autoreload 2"
   ]
  },
  {
   "cell_type": "code",
   "execution_count": 9,
   "metadata": {
    "scrolled": true
   },
   "outputs": [],
   "source": [
    "import warnings\n",
    "warnings.filterwarnings('ignore')"
   ]
  },
  {
   "cell_type": "code",
   "execution_count": 10,
   "metadata": {},
   "outputs": [],
   "source": [
    "from fastai.vision import *\n",
    "sys.path.append(\"dev/\")"
   ]
  },
  {
   "cell_type": "code",
   "execution_count": 11,
   "metadata": {},
   "outputs": [],
   "source": [
    "path = Path('../data/histopathologic/')"
   ]
  },
  {
   "cell_type": "code",
   "execution_count": 12,
   "metadata": {},
   "outputs": [
    {
     "data": {
      "text/plain": [
       "[PosixPath('../data/histopathologic/train'),\n",
       " PosixPath('../data/histopathologic/sample_submission.csv'),\n",
       " PosixPath('../data/histopathologic/preds'),\n",
       " PosixPath('../data/histopathologic/submissions'),\n",
       " PosixPath('../data/histopathologic/train_labels.csv'),\n",
       " PosixPath('../data/histopathologic/logs'),\n",
       " PosixPath('../data/histopathologic/models'),\n",
       " PosixPath('../data/histopathologic/test')]"
      ]
     },
     "execution_count": 12,
     "metadata": {},
     "output_type": "execute_result"
    }
   ],
   "source": [
    "path.ls()"
   ]
  },
  {
   "cell_type": "code",
   "execution_count": 13,
   "metadata": {},
   "outputs": [
    {
     "data": {
      "text/plain": [
       "(220025, 57458)"
      ]
     },
     "execution_count": 13,
     "metadata": {},
     "output_type": "execute_result"
    }
   ],
   "source": [
    "len((path/'train').ls()), len((path/'test').ls())"
   ]
  },
  {
   "cell_type": "markdown",
   "metadata": {},
   "source": [
    "### Overview\n",
    "\n",
    "Main folders : `{model_name}/models`, `{model_name}/preds`, `{model_name}/submissions`"
   ]
  },
  {
   "cell_type": "markdown",
   "metadata": {},
   "source": [
    "### cv data"
   ]
  },
  {
   "cell_type": "code",
   "execution_count": 7,
   "metadata": {},
   "outputs": [],
   "source": [
    "# from sklearn.model_selection import KFold\n",
    "# kfold = KFold(5, random_state=42)\n",
    "# n_train = len((path/'train').ls())\n",
    "# cv_idxs = kfold.split(X=range(n_train))\n",
    "# df = pd.read_csv(path/'train_labels.csv')"
   ]
  },
  {
   "cell_type": "code",
   "execution_count": 8,
   "metadata": {},
   "outputs": [],
   "source": [
    "# def get_data(trn_idx, val_idx):\n",
    "#     tfms = get_transforms(True, True, max_rotate=None, max_zoom=1., max_lighting=None,\n",
    "#                       max_warp=0, p_affine=0.5, p_lighting=0.5, xtra_tfms=[])\n",
    "#     data = (ImageList.from_df(df=df, path=path, folder='train', suffix='.tif')\n",
    "#         .split_by_idx(valid_idx=val_idx)\n",
    "#         .label_from_lists(train_labels=list(df['label'].iloc[trn_idx].values),\n",
    "#                                         valid_labels=list(df['label'].iloc[val_idx].values))\n",
    "#         .transform(tfms)\n",
    "#         .databunch()\n",
    "#         .normalize(imagenet_stats))\n",
    "#     data.add_test(ImageList.from_folder(path/'test'))\n",
    "#     return data"
   ]
  },
  {
   "cell_type": "code",
   "execution_count": 15,
   "metadata": {},
   "outputs": [],
   "source": [
    "# cv_data = [get_data(*idxs) for idxs in cv_idxs]\n",
    "# pd.to_pickle(cv_data, path/'models/cv_data.pkl')"
   ]
  },
  {
   "cell_type": "markdown",
   "metadata": {},
   "source": [
    "### kfold training"
   ]
  },
  {
   "cell_type": "code",
   "execution_count": 14,
   "metadata": {},
   "outputs": [],
   "source": [
    "from metric_utils import AUC\n",
    "from fastai.callbacks import *"
   ]
  },
  {
   "cell_type": "code",
   "execution_count": 15,
   "metadata": {},
   "outputs": [
    {
     "name": "stdout",
     "output_type": "stream",
     "text": [
      "Starting Training with model: densenet169\n"
     ]
    }
   ],
   "source": [
    "cv_data = pd.read_pickle(path/'models/cv_data.pkl')\n",
    "arch = models.densenet169\n",
    "model_name = arch.__name__ \n",
    "print(f\"Starting Training with model: {model_name}\")"
   ]
  },
  {
   "cell_type": "code",
   "execution_count": 12,
   "metadata": {},
   "outputs": [
    {
     "name": "stdout",
     "output_type": "stream",
     "text": [
      "0\n",
      "1\n",
      "2\n",
      "3\n",
      "4\n"
     ]
    }
   ],
   "source": [
    "# Train with kfold models\n",
    "for i in range(len(cv_data)):\n",
    "    fold_num = i\n",
    "    fold_data = cv_data[i]\n",
    "    \n",
    "    # Initialize Learner\n",
    "    print(f\"Initialize Learner at fold{fold_num}\")\n",
    "    auc = AUC()\n",
    "    os.makedirs(path/f'models/best_of_{model_name}', exist_ok=True)\n",
    "    learn_callbacks = [TerminateOnNaNCallback()]\n",
    "    learn_callback_fns = [partial(EarlyStoppingCallback, monitor='auc', mode='max', patience=2),\n",
    "                          partial(SaveModelCallback, monitor='auc', mode='max', every='improvement',\n",
    "                                  name=f'best_of_{model_name}/fold{fold_num}'),\n",
    "                          partial(CSVLogger, filename=f'logs/{model_name}')]\n",
    "    learn = cnn_learner(data=fold_data, base_arch=arch, metrics=[accuracy, auc], callbacks=learn_callbacks,\n",
    "                   callback_fns=learn_callback_fns)\n",
    "    \n",
    "    # Stage-1 training\n",
    "    print(\"Stage-1\")\n",
    "    learn.lr_find()\n",
    "    try:\n",
    "        learn.recorder.plot(suggestion=True, k=5)\n",
    "    except: \n",
    "         learn.recorder.plot(suggestion=True)\n",
    "    max_lr = learn.recorder.min_grad_lr\n",
    "    print(f\"Stage-1 training with lr={max_lr}\")\n",
    "    learn.fit_one_cycle(50, max_lr=max_lr)\n",
    "    \n",
    "    # Stage-2 training\n",
    "    print(\"Stage-2\")\n",
    "    learn.freeze_to(1)\n",
    "    learn.lr_find()\n",
    "    try:\n",
    "        learn.recorder.plot(suggestion=True, k=5)\n",
    "    except: \n",
    "         learn.recorder.plot(suggestion=True)\n",
    "    max_lr = learn.recorder.min_grad_lr\n",
    "    print(f\"Stage-2 training with lr={max_lr}\")\n",
    "    learn.fit_one_cycle(20, max_lr=[max_lr/10, max_lr/3, max_lr])\n",
    "    \n",
    "    # Stage-3 training\n",
    "    print(\"Stage-3\")\n",
    "    learn.unfreeze()\n",
    "    learn.lr_find()\n",
    "    try:\n",
    "        learn.recorder.plot(suggestion=True, k=5)\n",
    "    except: \n",
    "         learn.recorder.plot(suggestion=True)\n",
    "    max_lr = learn.recorder.min_grad_lr\n",
    "    print(f\"Stage-3 training with lr={max_lr}\")\n",
    "    learn.fit_one_cycle(5, max_lr=[max_lr/10, max_lr/3, max_lr])\n",
    "    \n",
    "    print(f\"Training of fold{fold_num} model is done...destroying learner\")\n",
    "    learn.destroy()"
   ]
  },
  {
   "cell_type": "markdown",
   "metadata": {},
   "source": [
    "### get_preds"
   ]
  },
  {
   "cell_type": "code",
   "execution_count": null,
   "metadata": {},
   "outputs": [],
   "source": [
    "# create preds and submissions directory for the model\n",
    "os.makedirs(path/f'preds/best_of_{model_name}', exist_ok=True)\n",
    "os.makedirs(path/f\"submissions/best_of_{model_name}\", exist_ok=True)\n",
    "\n",
    "for i in range(5):\n",
    "    # disable TerminateOnNaNCallback for get_preds to work\n",
    "    learn.callbacks = [cb for cb in learn.callbacks if\n",
    "                       cb.__class__ == TerminateOnNaNCallback.__class__]\n",
    "\n",
    "    # load fold model\n",
    "    load_fold_num = i\n",
    "    learn.load(f'best_of_{model_name}/fold{load_fold_num}');\n",
    "\n",
    "    # get preds\n",
    "    test_preds, _ = learn.get_preds(ds_type=DatasetType.Test)\n",
    "\n",
    "    # save preds as pickle file\n",
    "    pd.to_pickle(test_preds, path/f'preds/best_of_{model_name}/fold{load_fold_num}_preds.pkl')\n",
    "    "
   ]
  },
  {
   "cell_type": "markdown",
   "metadata": {},
   "source": [
    "### get_preds with TTA"
   ]
  },
  {
   "cell_type": "code",
   "execution_count": 47,
   "metadata": {},
   "outputs": [
    {
     "data": {
      "text/html": [
       "Total time: 03:05 <p>"
      ],
      "text/plain": [
       "<IPython.core.display.HTML object>"
      ]
     },
     "metadata": {},
     "output_type": "display_data"
    }
   ],
   "source": [
    "for i in range(5):\n",
    "    # disable TerminateOnNaNCallback for get_preds to work\n",
    "    learn.callbacks = [cb for cb in learn.callbacks if\n",
    "                       cb.__class__ == TerminateOnNaNCallback.__class__]\n",
    "\n",
    "    # load fold model\n",
    "    load_fold_num = i\n",
    "    learn.load(f'best_of_{model_name}/fold{load_fold_num}');\n",
    "\n",
    "    # get preds\n",
    "    tta_preds,_  = learn.TTA(ds_type=DatasetType.Test)\n",
    "\n",
    "    # save preds as pickle file\n",
    "    pd.to_pickle(tta_preds, path/f'preds/best_of_{model_name}/fold{load_fold_num}_TTA_preds.pkl')\n",
    "    "
   ]
  },
  {
   "cell_type": "markdown",
   "metadata": {},
   "source": [
    "### create submission"
   ]
  },
  {
   "cell_type": "code",
   "execution_count": null,
   "metadata": {},
   "outputs": [],
   "source": [
    "sample_submission = pd.read_csv(path/'sample_submission.csv')\n",
    "test_names = [o.name.split('.')[0] for o in learn.data.test_ds.items]"
   ]
  },
  {
   "cell_type": "code",
   "execution_count": 23,
   "metadata": {},
   "outputs": [],
   "source": [
    "pred_fnames = (path/f'preds/best_of_{model_name}').ls()"
   ]
  },
  {
   "cell_type": "code",
   "execution_count": 61,
   "metadata": {},
   "outputs": [],
   "source": [
    "TTA_fnames = [o for o in pred_fnames if \"TTA\" in str(o)]\n",
    "non_TTA_fnames = [o for o in pred_fnames if \"TTA\" not in str(o)]"
   ]
  },
  {
   "cell_type": "code",
   "execution_count": 62,
   "metadata": {},
   "outputs": [
    {
     "data": {
      "text/plain": [
       "[PosixPath('../data/histopathologic/preds/best_of_vgg16_bn/fold2_TTA_preds.pkl'),\n",
       " PosixPath('../data/histopathologic/preds/best_of_vgg16_bn/fold3_TTA_preds.pkl'),\n",
       " PosixPath('../data/histopathologic/preds/best_of_vgg16_bn/fold1_TTA_preds.pkl'),\n",
       " PosixPath('../data/histopathologic/preds/best_of_vgg16_bn/fold0_TTA_preds.pkl'),\n",
       " PosixPath('../data/histopathologic/preds/best_of_vgg16_bn/fold4_TTA_preds.pkl')]"
      ]
     },
     "execution_count": 62,
     "metadata": {},
     "output_type": "execute_result"
    }
   ],
   "source": [
    "TTA_fnames"
   ]
  },
  {
   "cell_type": "code",
   "execution_count": 63,
   "metadata": {},
   "outputs": [
    {
     "data": {
      "text/plain": [
       "[PosixPath('../data/histopathologic/preds/best_of_vgg16_bn/fold0_preds.pkl'),\n",
       " PosixPath('../data/histopathologic/preds/best_of_vgg16_bn/fold1_preds.pkl'),\n",
       " PosixPath('../data/histopathologic/preds/best_of_vgg16_bn/fold4_preds.pkl'),\n",
       " PosixPath('../data/histopathologic/preds/best_of_vgg16_bn/fold3_preds.pkl'),\n",
       " PosixPath('../data/histopathologic/preds/best_of_vgg16_bn/fold2_preds.pkl')]"
      ]
     },
     "execution_count": 63,
     "metadata": {},
     "output_type": "execute_result"
    }
   ],
   "source": [
    "non_TTA_fnames"
   ]
  },
  {
   "cell_type": "code",
   "execution_count": 71,
   "metadata": {},
   "outputs": [],
   "source": [
    "# average TTA_preds\n",
    "avg_TTA_labels = np.mean([pd.read_pickle(fn).numpy() for fn in TTA_fnames], axis=0)[:, 1]\n",
    "avg_non_TTA_labels = np.mean([pd.read_pickle(fn).numpy() for fn in non_TTA_fnames], axis=0)[:, 1]"
   ]
  },
  {
   "cell_type": "code",
   "execution_count": 76,
   "metadata": {},
   "outputs": [],
   "source": [
    "# create submission file\n",
    "avg_TTA_submission = sample_submission.copy()\n",
    "avg_non_TTA_submission = sample_submission.copy()\n",
    "\n",
    "avg_TTA_submission['label'] = sample_submission['id'].map(dict(zip(test_names, avg_TTA_labels)))\n",
    "avg_non_TTA_submission['label'] = sample_submission['id'].map(dict(zip(test_names, avg_non_TTA_labels)))"
   ]
  },
  {
   "cell_type": "code",
   "execution_count": 78,
   "metadata": {},
   "outputs": [],
   "source": [
    "# save submissions\n",
    "avg_TTA_path = path/f\"submissions/best_of_{model_name}/{model_name}_avg_TTA.csv\"\n",
    "avg_non_TTA_path = path/f\"submissions/best_of_{model_name}/{model_name}_avg_non_TTA.csv\"\n",
    "avg_TTA_submission.to_csv(avg_TTA_path, index=False)\n",
    "avg_non_TTA_submission.to_csv(avg_non_TTA_path, index=False)"
   ]
  },
  {
   "cell_type": "code",
   "execution_count": 79,
   "metadata": {},
   "outputs": [
    {
     "data": {
      "text/plain": [
       "PosixPath('../data/histopathologic/submissions/best_of_vgg16_bn/vgg16_bn_avg_TTA.csv')"
      ]
     },
     "execution_count": 79,
     "metadata": {},
     "output_type": "execute_result"
    }
   ],
   "source": [
    "avg_TTA_path"
   ]
  },
  {
   "cell_type": "code",
   "execution_count": null,
   "metadata": {},
   "outputs": [],
   "source": [
    "# submit to Kaggle\n",
    "!kaggle competitions submit -c histopathologic-cancer-detection -f {avg_TTA_path} -m f\"{model_name}_avg_TTA\"\n",
    "!kaggle competitions submit -c histopathologic-cancer-detection -f {avg_non_TTA_path} -m f\"{model_name}_avg_non_TTA\""
   ]
  },
  {
   "cell_type": "code",
   "execution_count": null,
   "metadata": {},
   "outputs": [],
   "source": []
  }
 ],
 "metadata": {
  "kernelspec": {
   "display_name": "Python 3",
   "language": "python",
   "name": "python3"
  },
  "language_info": {
   "codemirror_mode": {
    "name": "ipython",
    "version": 3
   },
   "file_extension": ".py",
   "mimetype": "text/x-python",
   "name": "python",
   "nbconvert_exporter": "python",
   "pygments_lexer": "ipython3",
   "version": "3.7.0"
  }
 },
 "nbformat": 4,
 "nbformat_minor": 2
}
