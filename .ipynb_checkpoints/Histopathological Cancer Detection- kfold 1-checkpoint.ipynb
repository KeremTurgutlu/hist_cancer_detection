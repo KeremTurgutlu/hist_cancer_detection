{
 "cells": [
  {
   "cell_type": "markdown",
   "metadata": {},
   "source": [
    "https://camelyon16.grand-challenge.org/Data"
   ]
  },
  {
   "cell_type": "code",
   "execution_count": 1,
   "metadata": {},
   "outputs": [],
   "source": [
    "%load_ext autoreload\n",
    "%autoreload 2"
   ]
  },
  {
   "cell_type": "code",
   "execution_count": 2,
   "metadata": {
    "scrolled": true
   },
   "outputs": [],
   "source": [
    "import warnings\n",
    "warnings.filterwarnings('ignore')"
   ]
  },
  {
   "cell_type": "code",
   "execution_count": 3,
   "metadata": {},
   "outputs": [],
   "source": [
    "from fastai.vision import *\n",
    "sys.path.append(\"dev/\")"
   ]
  },
  {
   "cell_type": "code",
   "execution_count": 4,
   "metadata": {},
   "outputs": [],
   "source": [
    "path = Path('../data/histopathologic/')"
   ]
  },
  {
   "cell_type": "code",
   "execution_count": 5,
   "metadata": {},
   "outputs": [
    {
     "data": {
      "text/plain": [
       "[PosixPath('../data/histopathologic/train'),\n",
       " PosixPath('../data/histopathologic/sample_submission.csv'),\n",
       " PosixPath('../data/histopathologic/train_labels.csv'),\n",
       " PosixPath('../data/histopathologic/logs'),\n",
       " PosixPath('../data/histopathologic/models'),\n",
       " PosixPath('../data/histopathologic/test')]"
      ]
     },
     "execution_count": 5,
     "metadata": {},
     "output_type": "execute_result"
    }
   ],
   "source": [
    "path.ls()"
   ]
  },
  {
   "cell_type": "code",
   "execution_count": 6,
   "metadata": {},
   "outputs": [
    {
     "data": {
      "text/plain": [
       "(220025, 57458)"
      ]
     },
     "execution_count": 6,
     "metadata": {},
     "output_type": "execute_result"
    }
   ],
   "source": [
    "len((path/'train').ls()), len((path/'test').ls())"
   ]
  },
  {
   "cell_type": "markdown",
   "metadata": {},
   "source": [
    "### data"
   ]
  },
  {
   "cell_type": "markdown",
   "metadata": {},
   "source": [
    "**Important note:** resizing happens before tfms"
   ]
  },
  {
   "cell_type": "code",
   "execution_count": 7,
   "metadata": {},
   "outputs": [],
   "source": [
    "# For each id in the test set, you must predict a probability that\n",
    "# center 32x32px region of a patch contains at least one pixel of tumor tissue. \n",
    "from fastai.vision.transform import _crop_default\n",
    "def _rand_center_crop(x, a=40, b=96):\n",
    "    \"x: tensor, center crop an image creating a patch randomly between a,b\"\n",
    "    crop_sz = np.random.randint(a,b)\n",
    "    return _crop_default(x, crop_sz)\n",
    "\n",
    "def _rand_center_crop_and_resize(x, a=40, b=96, targ_sz=(96, 96)):\n",
    "    \"x: tensor, center crop an image creating a patch randomly between a,b with a tuple targ_sz\"\n",
    "    crop_sz = np.random.randint(a,b)\n",
    "    x = _crop_default(x, crop_sz)\n",
    "    return Image(x).resize((x.shape[0],) + targ_sz).data\n",
    "\n",
    "center_crop = TfmPixel(_rand_center_crop)\n",
    "center_crop_and_resize = TfmPixel(_rand_center_crop_and_resize)\n",
    "center_crop.order = 0\n",
    "center_crop_and_resize.order = 0\n",
    "center_crop_tfm, center_crop_and_resize_tfm = center_crop(p=1.), center_crop_and_resize(p=1.)"
   ]
  },
  {
   "cell_type": "markdown",
   "metadata": {},
   "source": [
    "### cv data"
   ]
  },
  {
   "cell_type": "code",
   "execution_count": 8,
   "metadata": {},
   "outputs": [],
   "source": [
    "from sklearn.model_selection import KFold"
   ]
  },
  {
   "cell_type": "code",
   "execution_count": 9,
   "metadata": {},
   "outputs": [],
   "source": [
    "kfold = KFold(5, random_state=42)\n",
    "n_train = len((path/'train').ls())\n",
    "cv_idxs = kfold.split(X=range(n_train))\n",
    "df = pd.read_csv(path/'train_labels.csv')\n",
    "\n",
    "def get_data(trn_idx, val_idx):\n",
    "    tfms = get_transforms(True, True, max_rotate=None, max_zoom=1., max_lighting=None,\n",
    "                      max_warp=0, p_affine=0.5, p_lighting=0.5, xtra_tfms=[])\n",
    "    data = (ImageList.from_df(df=df, path=path, folder='train', suffix='.tif')\n",
    "        .split_by_idx(valid_idx=val_idx)\n",
    "        .label_from_lists(train_labels=list(df['label'].iloc[trn_idx].values),\n",
    "                                        valid_labels=list(df['label'].iloc[val_idx].values))\n",
    "        .transform(tfms)\n",
    "        .databunch()\n",
    "        .normalize(imagenet_stats))\n",
    "    data.add_test(ImageList.from_folder(path/'test'))\n",
    "    return data"
   ]
  },
  {
   "cell_type": "code",
   "execution_count": 10,
   "metadata": {},
   "outputs": [],
   "source": [
    "cv_data = [get_data(*idxs) for idxs in cv_idxs]"
   ]
  },
  {
   "cell_type": "code",
   "execution_count": 11,
   "metadata": {},
   "outputs": [
    {
     "data": {
      "text/plain": [
       "5"
      ]
     },
     "execution_count": 11,
     "metadata": {},
     "output_type": "execute_result"
    }
   ],
   "source": [
    "len(cv_data)"
   ]
  },
  {
   "cell_type": "markdown",
   "metadata": {},
   "source": [
    "### model"
   ]
  },
  {
   "cell_type": "code",
   "execution_count": 12,
   "metadata": {},
   "outputs": [],
   "source": [
    "from metric_utils import AUC\n",
    "from fastai.callbacks import *"
   ]
  },
  {
   "cell_type": "code",
   "execution_count": 13,
   "metadata": {},
   "outputs": [],
   "source": [
    "i = 1\n",
    "fold_num = i\n",
    "fold_data = cv_data[i]"
   ]
  },
  {
   "cell_type": "code",
   "execution_count": 14,
   "metadata": {},
   "outputs": [],
   "source": [
    "auc = AUC()\n",
    "arch = models.vgg16_bn\n",
    "model_name = arch.__name__ \n",
    "os.makedirs(path/f'models/best_of_{model_name}', exist_ok=True)\n",
    "learn_callbacks = TerminateOnNaNCallback()\n",
    "learn_callback_fns = [partial(EarlyStoppingCallback, monitor='auc', mode='max', patience=2),\n",
    "                      partial(SaveModelCallback, monitor='auc', mode='max', every='improvement',\n",
    "                              name=f'best_of_{model_name}/fold{fold_num}'),\n",
    "                      partial(CSVLogger, filename=f'logs/{model_name}')]"
   ]
  },
  {
   "cell_type": "code",
   "execution_count": 15,
   "metadata": {},
   "outputs": [],
   "source": [
    "learn = cnn_learner(data=fold_data, base_arch=arch, metrics=[accuracy, auc], callbacks=learn_callbacks,\n",
    "                   callback_fns=learn_callback_fns)"
   ]
  },
  {
   "cell_type": "code",
   "execution_count": 16,
   "metadata": {},
   "outputs": [
    {
     "data": {
      "text/html": [],
      "text/plain": [
       "<IPython.core.display.HTML object>"
      ]
     },
     "metadata": {},
     "output_type": "display_data"
    },
    {
     "name": "stdout",
     "output_type": "stream",
     "text": [
      "LR Finder is complete, type {learner_name}.recorder.plot() to see the graph.\n"
     ]
    }
   ],
   "source": [
    "learn.lr_find()"
   ]
  },
  {
   "cell_type": "code",
   "execution_count": 17,
   "metadata": {},
   "outputs": [
    {
     "name": "stdout",
     "output_type": "stream",
     "text": [
      "Min numerical gradient: 7.59E-03\n"
     ]
    },
    {
     "data": {
      "image/png": "[encoded data removed]",
      "text/plain": [
       "<Figure size 432x288 with 1 Axes>"
      ]
     },
     "metadata": {
      "needs_background": "light"
     },
     "output_type": "display_data"
    }
   ],
   "source": [
    "learn.recorder.plot(suggestion=True, k=5)\n",
    "max_lr = learn.recorder.min_grad_lr"
   ]
  },
  {
   "cell_type": "code",
   "execution_count": 18,
   "metadata": {
    "scrolled": true
   },
   "outputs": [
    {
     "data": {
      "text/html": [
       "\n",
       "    <div>\n",
       "        <style>\n",
       "            /* Turns off some styling */\n",
       "            progress {\n",
       "                /* gets rid of default border in Firefox and Opera. */\n",
       "                border: none;\n",
       "                /* Needs to be in here for Safari polyfill so background images work as expected. */\n",
       "                background-size: auto;\n",
       "            }\n",
       "            .progress-bar-interrupted, .progress-bar-interrupted::-webkit-progress-bar {\n",
       "                background: #F44336;\n",
       "            }\n",
       "        </style>\n",
       "      <progress value='8' class='' max='50', style='width:300px; height:20px; vertical-align: middle;'></progress>\n",
       "      16.00% [8/50 1:30:15<7:53:49]\n",
       "    </div>\n",
       "    \n",
       "<table style='width:450px; margin-bottom:10px'>\n",
       "  <tr>\n",
       "    <th>epoch</th>\n",
       "    <th>train_loss</th>\n",
       "    <th>valid_loss</th>\n",
       "    <th>accuracy</th>\n",
       "    <th>auc</th>\n",
       "    <th>time</th>\n",
       "  </tr>\n",
       "  <tr>\n",
       "    <th>0</th>\n",
       "    <th>0.213308</th>\n",
       "    <th>0.183137</th>\n",
       "    <th>0.931644</th>\n",
       "    <th>0.972372</th>\n",
       "    <th>09:21</th>\n",
       "  </tr>\n",
       "  <tr>\n",
       "    <th>1</th>\n",
       "    <th>0.183120</th>\n",
       "    <th>0.156166</th>\n",
       "    <th>0.942097</th>\n",
       "    <th>0.980973</th>\n",
       "    <th>11:44</th>\n",
       "  </tr>\n",
       "  <tr>\n",
       "    <th>2</th>\n",
       "    <th>0.164868</th>\n",
       "    <th>0.140224</th>\n",
       "    <th>0.949119</th>\n",
       "    <th>0.985833</th>\n",
       "    <th>11:46</th>\n",
       "  </tr>\n",
       "  <tr>\n",
       "    <th>3</th>\n",
       "    <th>0.177012</th>\n",
       "    <th>0.146844</th>\n",
       "    <th>0.947779</th>\n",
       "    <th>0.985527</th>\n",
       "    <th>11:44</th>\n",
       "  </tr>\n",
       "  <tr>\n",
       "    <th>4</th>\n",
       "    <th>0.165180</th>\n",
       "    <th>0.157133</th>\n",
       "    <th>0.940552</th>\n",
       "    <th>0.983893</th>\n",
       "    <th>11:44</th>\n",
       "  </tr>\n",
       "  <tr>\n",
       "    <th>5</th>\n",
       "    <th>0.166288</th>\n",
       "    <th>0.143751</th>\n",
       "    <th>0.946552</th>\n",
       "    <th>0.986485</th>\n",
       "    <th>10:09</th>\n",
       "  </tr>\n",
       "  <tr>\n",
       "    <th>6</th>\n",
       "    <th>0.158100</th>\n",
       "    <th>0.170892</th>\n",
       "    <th>0.933712</th>\n",
       "    <th>0.981625</th>\n",
       "    <th>11:53</th>\n",
       "  </tr>\n",
       "  <tr>\n",
       "    <th>7</th>\n",
       "    <th>0.176422</th>\n",
       "    <th>0.155479</th>\n",
       "    <th>0.942552</th>\n",
       "    <th>0.983913</th>\n",
       "    <th>11:50</th>\n",
       "  </tr>\n",
       "</table>\n",
       "\n",
       "\n",
       "    <div>\n",
       "        <style>\n",
       "            /* Turns off some styling */\n",
       "            progress {\n",
       "                /* gets rid of default border in Firefox and Opera. */\n",
       "                border: none;\n",
       "                /* Needs to be in here for Safari polyfill so background images work as expected. */\n",
       "                background-size: auto;\n",
       "            }\n",
       "            .progress-bar-interrupted, .progress-bar-interrupted::-webkit-progress-bar {\n",
       "                background: #F44336;\n",
       "            }\n",
       "        </style>\n",
       "      <progress value='688' class='' max='688', style='width:300px; height:20px; vertical-align: middle;'></progress>\n",
       "      100.00% [688/688 01:10<00:00]\n",
       "    </div>\n",
       "    "
      ],
      "text/plain": [
       "<IPython.core.display.HTML object>"
      ]
     },
     "metadata": {},
     "output_type": "display_data"
    },
    {
     "name": "stdout",
     "output_type": "stream",
     "text": [
      "Better model found at epoch 0 with auc value: 0.9723719246084643.\n",
      "Better model found at epoch 1 with auc value: 0.9809733907027682.\n",
      "Better model found at epoch 2 with auc value: 0.9858334099705592.\n",
      "Better model found at epoch 5 with auc value: 0.9864854277353402.\n",
      "Epoch 8: early stopping\n"
     ]
    }
   ],
   "source": [
    "learn.fit_one_cycle(50, max_lr=max_lr)"
   ]
  },
  {
   "cell_type": "code",
   "execution_count": 21,
   "metadata": {},
   "outputs": [
    {
     "data": {
      "text/html": [],
      "text/plain": [
       "<IPython.core.display.HTML object>"
      ]
     },
     "metadata": {},
     "output_type": "display_data"
    },
    {
     "name": "stdout",
     "output_type": "stream",
     "text": [
      "LR Finder is complete, type {learner_name}.recorder.plot() to see the graph.\n",
      "Min numerical gradient: 5.75E-06\n"
     ]
    },
    {
     "data": {
      "image/png": "[encoded data removed]",
      "text/plain": [
       "<Figure size 432x288 with 1 Axes>"
      ]
     },
     "metadata": {
      "needs_background": "light"
     },
     "output_type": "display_data"
    }
   ],
   "source": [
    "learn.freeze_to(1)\n",
    "learn.lr_find()\n",
    "learn.recorder.plot(suggestion=True, k=5)\n",
    "max_lr = learn.recorder.min_grad_lr"
   ]
  },
  {
   "cell_type": "code",
   "execution_count": 23,
   "metadata": {
    "scrolled": true
   },
   "outputs": [
    {
     "data": {
      "text/html": [
       "\n",
       "    <div>\n",
       "        <style>\n",
       "            /* Turns off some styling */\n",
       "            progress {\n",
       "                /* gets rid of default border in Firefox and Opera. */\n",
       "                border: none;\n",
       "                /* Needs to be in here for Safari polyfill so background images work as expected. */\n",
       "                background-size: auto;\n",
       "            }\n",
       "            .progress-bar-interrupted, .progress-bar-interrupted::-webkit-progress-bar {\n",
       "                background: #F44336;\n",
       "            }\n",
       "        </style>\n",
       "      <progress value='19' class='' max='20', style='width:300px; height:20px; vertical-align: middle;'></progress>\n",
       "      95.00% [19/20 4:12:54<13:18]\n",
       "    </div>\n",
       "    \n",
       "<table style='width:450px; margin-bottom:10px'>\n",
       "  <tr>\n",
       "    <th>epoch</th>\n",
       "    <th>train_loss</th>\n",
       "    <th>valid_loss</th>\n",
       "    <th>accuracy</th>\n",
       "    <th>auc</th>\n",
       "    <th>time</th>\n",
       "  </tr>\n",
       "  <tr>\n",
       "    <th>0</th>\n",
       "    <th>0.146929</th>\n",
       "    <th>0.129608</th>\n",
       "    <th>0.953642</th>\n",
       "    <th>0.988056</th>\n",
       "    <th>12:29</th>\n",
       "  </tr>\n",
       "  <tr>\n",
       "    <th>1</th>\n",
       "    <th>0.145450</th>\n",
       "    <th>0.126364</th>\n",
       "    <th>0.954892</th>\n",
       "    <th>0.988703</th>\n",
       "    <th>13:19</th>\n",
       "  </tr>\n",
       "  <tr>\n",
       "    <th>2</th>\n",
       "    <th>0.155274</th>\n",
       "    <th>0.125236</th>\n",
       "    <th>0.953982</th>\n",
       "    <th>0.989050</th>\n",
       "    <th>13:18</th>\n",
       "  </tr>\n",
       "  <tr>\n",
       "    <th>3</th>\n",
       "    <th>0.141486</th>\n",
       "    <th>0.123174</th>\n",
       "    <th>0.955710</th>\n",
       "    <th>0.989528</th>\n",
       "    <th>13:17</th>\n",
       "  </tr>\n",
       "  <tr>\n",
       "    <th>4</th>\n",
       "    <th>0.132445</th>\n",
       "    <th>0.117660</th>\n",
       "    <th>0.957823</th>\n",
       "    <th>0.990181</th>\n",
       "    <th>13:19</th>\n",
       "  </tr>\n",
       "  <tr>\n",
       "    <th>5</th>\n",
       "    <th>0.132551</th>\n",
       "    <th>0.115411</th>\n",
       "    <th>0.958755</th>\n",
       "    <th>0.990587</th>\n",
       "    <th>13:19</th>\n",
       "  </tr>\n",
       "  <tr>\n",
       "    <th>6</th>\n",
       "    <th>0.125714</th>\n",
       "    <th>0.112928</th>\n",
       "    <th>0.959232</th>\n",
       "    <th>0.990852</th>\n",
       "    <th>13:19</th>\n",
       "  </tr>\n",
       "  <tr>\n",
       "    <th>7</th>\n",
       "    <th>0.130800</th>\n",
       "    <th>0.109905</th>\n",
       "    <th>0.960959</th>\n",
       "    <th>0.991266</th>\n",
       "    <th>13:19</th>\n",
       "  </tr>\n",
       "  <tr>\n",
       "    <th>8</th>\n",
       "    <th>0.137757</th>\n",
       "    <th>0.109133</th>\n",
       "    <th>0.961414</th>\n",
       "    <th>0.991372</th>\n",
       "    <th>13:19</th>\n",
       "  </tr>\n",
       "  <tr>\n",
       "    <th>9</th>\n",
       "    <th>0.139552</th>\n",
       "    <th>0.106974</th>\n",
       "    <th>0.962368</th>\n",
       "    <th>0.991705</th>\n",
       "    <th>13:18</th>\n",
       "  </tr>\n",
       "  <tr>\n",
       "    <th>10</th>\n",
       "    <th>0.117092</th>\n",
       "    <th>0.106302</th>\n",
       "    <th>0.962459</th>\n",
       "    <th>0.991833</th>\n",
       "    <th>13:18</th>\n",
       "  </tr>\n",
       "  <tr>\n",
       "    <th>11</th>\n",
       "    <th>0.111895</th>\n",
       "    <th>0.105270</th>\n",
       "    <th>0.963141</th>\n",
       "    <th>0.991921</th>\n",
       "    <th>13:19</th>\n",
       "  </tr>\n",
       "  <tr>\n",
       "    <th>12</th>\n",
       "    <th>0.113336</th>\n",
       "    <th>0.103970</th>\n",
       "    <th>0.963300</th>\n",
       "    <th>0.992135</th>\n",
       "    <th>13:18</th>\n",
       "  </tr>\n",
       "  <tr>\n",
       "    <th>13</th>\n",
       "    <th>0.112354</th>\n",
       "    <th>0.103483</th>\n",
       "    <th>0.963186</th>\n",
       "    <th>0.992203</th>\n",
       "    <th>13:09</th>\n",
       "  </tr>\n",
       "  <tr>\n",
       "    <th>14</th>\n",
       "    <th>0.109939</th>\n",
       "    <th>0.104061</th>\n",
       "    <th>0.963686</th>\n",
       "    <th>0.992223</th>\n",
       "    <th>13:26</th>\n",
       "  </tr>\n",
       "  <tr>\n",
       "    <th>15</th>\n",
       "    <th>0.115184</th>\n",
       "    <th>0.102493</th>\n",
       "    <th>0.964118</th>\n",
       "    <th>0.992330</th>\n",
       "    <th>13:33</th>\n",
       "  </tr>\n",
       "  <tr>\n",
       "    <th>16</th>\n",
       "    <th>0.113427</th>\n",
       "    <th>0.102078</th>\n",
       "    <th>0.964322</th>\n",
       "    <th>0.992385</th>\n",
       "    <th>13:26</th>\n",
       "  </tr>\n",
       "  <tr>\n",
       "    <th>17</th>\n",
       "    <th>0.119782</th>\n",
       "    <th>0.102294</th>\n",
       "    <th>0.964277</th>\n",
       "    <th>0.992377</th>\n",
       "    <th>13:26</th>\n",
       "  </tr>\n",
       "  <tr>\n",
       "    <th>18</th>\n",
       "    <th>0.109819</th>\n",
       "    <th>0.102563</th>\n",
       "    <th>0.964299</th>\n",
       "    <th>0.992308</th>\n",
       "    <th>13:27</th>\n",
       "  </tr>\n",
       "</table>\n",
       "\n",
       "\n",
       "    <div>\n",
       "        <style>\n",
       "            /* Turns off some styling */\n",
       "            progress {\n",
       "                /* gets rid of default border in Firefox and Opera. */\n",
       "                border: none;\n",
       "                /* Needs to be in here for Safari polyfill so background images work as expected. */\n",
       "                background-size: auto;\n",
       "            }\n",
       "            .progress-bar-interrupted, .progress-bar-interrupted::-webkit-progress-bar {\n",
       "                background: #F44336;\n",
       "            }\n",
       "        </style>\n",
       "      <progress value='688' class='' max='688', style='width:300px; height:20px; vertical-align: middle;'></progress>\n",
       "      100.00% [688/688 01:21<00:00]\n",
       "    </div>\n",
       "    "
      ],
      "text/plain": [
       "<IPython.core.display.HTML object>"
      ]
     },
     "metadata": {},
     "output_type": "display_data"
    },
    {
     "name": "stdout",
     "output_type": "stream",
     "text": [
      "Better model found at epoch 0 with auc value: 0.9880563521546409.\n",
      "Better model found at epoch 1 with auc value: 0.9887031315884024.\n",
      "Better model found at epoch 2 with auc value: 0.9890499361301154.\n",
      "Better model found at epoch 3 with auc value: 0.989528020712112.\n",
      "Better model found at epoch 4 with auc value: 0.9901809415634443.\n",
      "Better model found at epoch 5 with auc value: 0.9905874978293745.\n",
      "Better model found at epoch 6 with auc value: 0.9908516517182746.\n",
      "Better model found at epoch 7 with auc value: 0.9912664869926278.\n",
      "Better model found at epoch 8 with auc value: 0.9913720333563876.\n",
      "Better model found at epoch 9 with auc value: 0.9917045987329469.\n",
      "Better model found at epoch 10 with auc value: 0.99183304724295.\n",
      "Better model found at epoch 11 with auc value: 0.991921056352309.\n",
      "Better model found at epoch 12 with auc value: 0.9921349012414579.\n",
      "Better model found at epoch 13 with auc value: 0.9922031046545433.\n",
      "Better model found at epoch 14 with auc value: 0.9922229403821985.\n",
      "Better model found at epoch 15 with auc value: 0.9923303755053615.\n",
      "Better model found at epoch 16 with auc value: 0.9923850701593998.\n",
      "Epoch 19: early stopping\n"
     ]
    }
   ],
   "source": [
    "learn.fit_one_cycle(20, max_lr=[max_lr/10, max_lr/3, max_lr])"
   ]
  },
  {
   "cell_type": "code",
   "execution_count": 24,
   "metadata": {},
   "outputs": [
    {
     "data": {
      "text/html": [],
      "text/plain": [
       "<IPython.core.display.HTML object>"
      ]
     },
     "metadata": {},
     "output_type": "display_data"
    },
    {
     "name": "stdout",
     "output_type": "stream",
     "text": [
      "LR Finder is complete, type {learner_name}.recorder.plot() to see the graph.\n",
      "Min numerical gradient: 2.75E-06\n"
     ]
    },
    {
     "data": {
      "text/html": [
       "Total time: 1:15:41 <p><table style='width:450px; margin-bottom:10px'>\n",
       "  <tr>\n",
       "    <th>epoch</th>\n",
       "    <th>train_loss</th>\n",
       "    <th>valid_loss</th>\n",
       "    <th>accuracy</th>\n",
       "    <th>auc</th>\n",
       "    <th>time</th>\n",
       "  </tr>\n",
       "  <tr>\n",
       "    <th>0</th>\n",
       "    <th>0.121803</th>\n",
       "    <th>0.101909</th>\n",
       "    <th>0.963959</th>\n",
       "    <th>0.992392</th>\n",
       "    <th>14:40</th>\n",
       "  </tr>\n",
       "  <tr>\n",
       "    <th>1</th>\n",
       "    <th>0.120012</th>\n",
       "    <th>0.101883</th>\n",
       "    <th>0.963800</th>\n",
       "    <th>0.992409</th>\n",
       "    <th>14:34</th>\n",
       "  </tr>\n",
       "  <tr>\n",
       "    <th>2</th>\n",
       "    <th>0.120429</th>\n",
       "    <th>0.100826</th>\n",
       "    <th>0.964459</th>\n",
       "    <th>0.992586</th>\n",
       "    <th>14:50</th>\n",
       "  </tr>\n",
       "  <tr>\n",
       "    <th>3</th>\n",
       "    <th>0.102700</th>\n",
       "    <th>0.100572</th>\n",
       "    <th>0.964822</th>\n",
       "    <th>0.992572</th>\n",
       "    <th>15:19</th>\n",
       "  </tr>\n",
       "  <tr>\n",
       "    <th>4</th>\n",
       "    <th>0.115333</th>\n",
       "    <th>0.100712</th>\n",
       "    <th>0.964686</th>\n",
       "    <th>0.992563</th>\n",
       "    <th>16:15</th>\n",
       "  </tr>\n",
       "</table>\n"
      ],
      "text/plain": [
       "<IPython.core.display.HTML object>"
      ]
     },
     "metadata": {},
     "output_type": "display_data"
    },
    {
     "name": "stdout",
     "output_type": "stream",
     "text": [
      "Better model found at epoch 0 with auc value: 0.9923923055773065.\n",
      "Better model found at epoch 1 with auc value: 0.9924088013862898.\n",
      "Better model found at epoch 2 with auc value: 0.9925858771386655.\n"
     ]
    },
    {
     "data": {
      "image/png": "[encoded data removed]",
      "text/plain": [
       "<Figure size 432x288 with 1 Axes>"
      ]
     },
     "metadata": {
      "needs_background": "light"
     },
     "output_type": "display_data"
    }
   ],
   "source": [
    "learn.unfreeze()\n",
    "learn.lr_find()\n",
    "learn.recorder.plot(suggestion=True, k=5)\n",
    "max_lr = learn.recorder.min_grad_lr\n",
    "learn.fit_one_cycle(5, max_lr=[max_lr/10, max_lr/3, max_lr])"
   ]
  },
  {
   "cell_type": "markdown",
   "metadata": {},
   "source": [
    "### interpret"
   ]
  },
  {
   "cell_type": "code",
   "execution_count": 51,
   "metadata": {},
   "outputs": [],
   "source": [
    "# reset callbacks - this fails with get_preds\n",
    "learn.callbacks = []"
   ]
  },
  {
   "cell_type": "code",
   "execution_count": 52,
   "metadata": {},
   "outputs": [],
   "source": [
    "interp = ClassificationInterpretation.from_learner(learn, ds_type=DatasetType.Valid)"
   ]
  },
  {
   "cell_type": "code",
   "execution_count": 53,
   "metadata": {},
   "outputs": [
    {
     "data": {
      "image/png": "[encoded data removed]",
      "text/plain": [
       "<Figure size 432x288 with 1 Axes>"
      ]
     },
     "metadata": {
      "needs_background": "light"
     },
     "output_type": "display_data"
    }
   ],
   "source": [
    "interp.plot_confusion_matrix()"
   ]
  },
  {
   "cell_type": "markdown",
   "metadata": {},
   "source": [
    "### predict"
   ]
  },
  {
   "cell_type": "code",
   "execution_count": 54,
   "metadata": {},
   "outputs": [
    {
     "data": {
      "text/plain": [
       "{0: 0, 1: 1}"
      ]
     },
     "execution_count": 54,
     "metadata": {},
     "output_type": "execute_result"
    }
   ],
   "source": [
    "learn.data.train_ds.y.c2i"
   ]
  },
  {
   "cell_type": "code",
   "execution_count": 55,
   "metadata": {},
   "outputs": [],
   "source": [
    "test_preds = learn.get_preds(ds_type=DatasetType.Test)\n",
    "\n",
    "# pred outputs and dummy labels\n",
    "probas, _ = test_preds\n",
    "sample_submission = pd.read_csv(path/'sample_submission.csv')\n",
    "labels = [o.item() for o in probas[:,1]]\n",
    "names = [o.name.split('.')[0] for o in data.test_ds.items]\n",
    "sample_submission['label'] = sample_submission['id'].map(dict(zip(names, labels)))\n",
    "sample_submission.to_csv(path/f\"best_of_{model_name}.csv\", index=False)"
   ]
  },
  {
   "cell_type": "code",
   "execution_count": 56,
   "metadata": {},
   "outputs": [
    {
     "name": "stdout",
     "output_type": "stream",
     "text": [
      "100%|███████████████████████████████████████| 3.36M/3.36M [00:03<00:00, 882kB/s]\n",
      "Successfully submitted to Histopathologic Cancer Detection"
     ]
    }
   ],
   "source": [
    "!kaggle competitions submit -c histopathologic-cancer-detection -f \"{path}/models/best_of_{model_name}.csv\" -m \"init\""
   ]
  },
  {
   "cell_type": "markdown",
   "metadata": {},
   "source": [
    "### TTA"
   ]
  },
  {
   "cell_type": "code",
   "execution_count": 57,
   "metadata": {},
   "outputs": [
    {
     "data": {
      "text/html": [
       "Total time: 02:52 <p>"
      ],
      "text/plain": [
       "<IPython.core.display.HTML object>"
      ]
     },
     "metadata": {},
     "output_type": "display_data"
    }
   ],
   "source": [
    "outs = learn.TTA(ds_type=DatasetType.Test)"
   ]
  },
  {
   "cell_type": "code",
   "execution_count": 58,
   "metadata": {},
   "outputs": [],
   "source": [
    "# pred outputs and dummy labels\n",
    "probas, _ = outs\n",
    "\n",
    "sample_submission = pd.read_csv(path/'sample_submission.csv')\n",
    "labels = [o.item() for o in probas[:,1]]\n",
    "names = [o.name.split('.')[0] for o in data.test_ds.items]\n",
    "sample_submission['label'] = sample_submission['id'].map(dict(zip(names, labels)))\n",
    "sample_submission.to_csv(path/f\"best_of_{model_name}_tta.csv\", index=False)"
   ]
  },
  {
   "cell_type": "code",
   "execution_count": 60,
   "metadata": {},
   "outputs": [
    {
     "name": "stdout",
     "output_type": "stream",
     "text": [
      "100%|███████████████████████████████████████| 3.34M/3.34M [00:03<00:00, 975kB/s]\n",
      "Successfully submitted to Histopathologic Cancer Detection"
     ]
    }
   ],
   "source": [
    "!kaggle competitions submit -c histopathologic-cancer-detection -f \"{path}/models/best_of_{model_name}_tta.csv\" -m \"init\""
   ]
  },
  {
   "cell_type": "code",
   "execution_count": null,
   "metadata": {},
   "outputs": [],
   "source": []
  },
  {
   "cell_type": "code",
   "execution_count": null,
   "metadata": {},
   "outputs": [],
   "source": []
  },
  {
   "cell_type": "markdown",
   "metadata": {},
   "source": [
    "### INTERPRET"
   ]
  },
  {
   "cell_type": "code",
   "execution_count": null,
   "metadata": {},
   "outputs": [],
   "source": []
  },
  {
   "cell_type": "code",
   "execution_count": null,
   "metadata": {},
   "outputs": [],
   "source": []
  },
  {
   "cell_type": "code",
   "execution_count": null,
   "metadata": {},
   "outputs": [],
   "source": []
  }
 ],
 "metadata": {
  "kernelspec": {
   "display_name": "Python 3",
   "language": "python",
   "name": "python3"
  },
  "language_info": {
   "codemirror_mode": {
    "name": "ipython",
    "version": 3
   },
   "file_extension": ".py",
   "mimetype": "text/x-python",
   "name": "python",
   "nbconvert_exporter": "python",
   "pygments_lexer": "ipython3",
   "version": "3.7.0"
  }
 },
 "nbformat": 4,
 "nbformat_minor": 2
}
