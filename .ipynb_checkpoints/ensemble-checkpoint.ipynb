{
 "cells": [
  {
   "cell_type": "code",
   "execution_count": 1,
   "metadata": {},
   "outputs": [],
   "source": [
    "import warnings\n",
    "from fastai.vision import *\n",
    "from fastai.callbacks import *\n",
    "from fastai.vision.models import cadene_models \n",
    "warnings.filterwarnings('ignore')\n",
    "path = Path('../data/histopathologic/')\n",
    "sys.path.append(\"dev/\"); from metric_utils import AUC"
   ]
  },
  {
   "cell_type": "code",
   "execution_count": 2,
   "metadata": {},
   "outputs": [],
   "source": [
    "# create ensemble dir\n",
    "os.makedirs(path/'ensemble', exist_ok=True)"
   ]
  },
  {
   "cell_type": "code",
   "execution_count": 3,
   "metadata": {},
   "outputs": [],
   "source": [
    "preds_path = path/'preds'\n",
    "subs_path = path/'submissions'\n",
    "ens_path = path/'ensemble'"
   ]
  },
  {
   "cell_type": "code",
   "execution_count": 4,
   "metadata": {},
   "outputs": [
    {
     "data": {
      "text/plain": [
       "[PosixPath('../data/histopathologic/preds/best_of_densenet169'),\n",
       " PosixPath('../data/histopathologic/preds/best_of_densenet201'),\n",
       " PosixPath('../data/histopathologic/preds/best_of_vgg16_bn')]"
      ]
     },
     "execution_count": 4,
     "metadata": {},
     "output_type": "execute_result"
    }
   ],
   "source": [
    "preds_best_of_dirs = (preds_path).ls(); preds_best_of_dirs"
   ]
  },
  {
   "cell_type": "code",
   "execution_count": 5,
   "metadata": {},
   "outputs": [
    {
     "data": {
      "text/plain": [
       "[PosixPath('../data/histopathologic/preds/best_of_densenet169/fold0_preds.pkl'),\n",
       " PosixPath('../data/histopathologic/preds/best_of_densenet169/fold2_TTA_preds.pkl'),\n",
       " PosixPath('../data/histopathologic/preds/best_of_densenet169/fold1_preds.pkl'),\n",
       " PosixPath('../data/histopathologic/preds/best_of_densenet169/fold3_TTA_preds.pkl'),\n",
       " PosixPath('../data/histopathologic/preds/best_of_densenet169/fold4_preds.pkl'),\n",
       " PosixPath('../data/histopathologic/preds/best_of_densenet169/fold3_preds.pkl'),\n",
       " PosixPath('../data/histopathologic/preds/best_of_densenet169/fold2_preds.pkl'),\n",
       " PosixPath('../data/histopathologic/preds/best_of_densenet169/fold1_TTA_preds.pkl'),\n",
       " PosixPath('../data/histopathologic/preds/best_of_densenet169/fold0_TTA_preds.pkl'),\n",
       " PosixPath('../data/histopathologic/preds/best_of_densenet169/fold4_TTA_preds.pkl')]"
      ]
     },
     "execution_count": 5,
     "metadata": {},
     "output_type": "execute_result"
    }
   ],
   "source": [
    "(preds_path/'best_of_densenet169').ls()"
   ]
  },
  {
   "cell_type": "code",
   "execution_count": 6,
   "metadata": {},
   "outputs": [
    {
     "data": {
      "text/plain": [
       "[PosixPath('../data/histopathologic/preds/best_of_vgg16_bn/fold0_preds.pkl'),\n",
       " PosixPath('../data/histopathologic/preds/best_of_vgg16_bn/fold2_TTA_preds.pkl'),\n",
       " PosixPath('../data/histopathologic/preds/best_of_vgg16_bn/fold1_preds.pkl'),\n",
       " PosixPath('../data/histopathologic/preds/best_of_vgg16_bn/fold3_TTA_preds.pkl'),\n",
       " PosixPath('../data/histopathologic/preds/best_of_vgg16_bn/fold4_preds.pkl'),\n",
       " PosixPath('../data/histopathologic/preds/best_of_vgg16_bn/fold3_preds.pkl'),\n",
       " PosixPath('../data/histopathologic/preds/best_of_vgg16_bn/fold2_preds.pkl'),\n",
       " PosixPath('../data/histopathologic/preds/best_of_vgg16_bn/fold1_TTA_preds.pkl'),\n",
       " PosixPath('../data/histopathologic/preds/best_of_vgg16_bn/fold0_TTA_preds.pkl'),\n",
       " PosixPath('../data/histopathologic/preds/best_of_vgg16_bn/fold4_TTA_preds.pkl')]"
      ]
     },
     "execution_count": 6,
     "metadata": {},
     "output_type": "execute_result"
    }
   ],
   "source": [
    "(preds_path/'best_of_vgg16_bn').ls()"
   ]
  },
  {
   "cell_type": "code",
   "execution_count": 7,
   "metadata": {},
   "outputs": [
    {
     "data": {
      "text/plain": [
       "[PosixPath('../data/histopathologic/submissions/best_of_densenet169'),\n",
       " PosixPath('../data/histopathologic/submissions/best_of_densenet201'),\n",
       " PosixPath('../data/histopathologic/submissions/best_of_vgg16_bn')]"
      ]
     },
     "execution_count": 7,
     "metadata": {},
     "output_type": "execute_result"
    }
   ],
   "source": [
    "subs_best_of_dirs = (subs_path).ls(); subs_best_of_dirs"
   ]
  },
  {
   "cell_type": "code",
   "execution_count": 8,
   "metadata": {},
   "outputs": [
    {
     "data": {
      "text/plain": [
       "[PosixPath('../data/histopathologic/submissions/best_of_densenet169/densenet169_avg_non_TTA.csv'),\n",
       " PosixPath('../data/histopathologic/submissions/best_of_densenet169/densenet169_avg_TTA.csv')]"
      ]
     },
     "execution_count": 8,
     "metadata": {},
     "output_type": "execute_result"
    }
   ],
   "source": [
    "(subs_path/'best_of_densenet169').ls()"
   ]
  },
  {
   "cell_type": "code",
   "execution_count": 9,
   "metadata": {},
   "outputs": [
    {
     "data": {
      "text/plain": [
       "[PosixPath('../data/histopathologic/submissions/best_of_vgg16_bn/vgg16_bn_avg_TTA.csv'),\n",
       " PosixPath('../data/histopathologic/submissions/best_of_vgg16_bn/vgg16_bn_avg_non_TTA.csv')]"
      ]
     },
     "execution_count": 9,
     "metadata": {},
     "output_type": "execute_result"
    }
   ],
   "source": [
    "(subs_path/'best_of_vgg16_bn').ls()"
   ]
  },
  {
   "cell_type": "markdown",
   "metadata": {},
   "source": [
    "### simple average"
   ]
  },
  {
   "cell_type": "code",
   "execution_count": 10,
   "metadata": {},
   "outputs": [],
   "source": [
    "models = ['densenet169', 'vgg16_bn', 'densenet201']"
   ]
  },
  {
   "cell_type": "code",
   "execution_count": 11,
   "metadata": {},
   "outputs": [],
   "source": [
    "mean_label = np.mean([pd.read_csv(subs_path/f'best_of_{m}/{m}_avg_TTA.csv')['label'] for m\n",
    "           in models], axis=0)"
   ]
  },
  {
   "cell_type": "code",
   "execution_count": 12,
   "metadata": {},
   "outputs": [],
   "source": [
    "new_sub = pd.read_csv(subs_path/f'best_of_{models[0]}/{models[0]}_avg_TTA.csv')\n",
    "new_sub['label'] = mean_label"
   ]
  },
  {
   "cell_type": "code",
   "execution_count": 13,
   "metadata": {},
   "outputs": [],
   "source": [
    "fname = \"_\".join(models)\n",
    "new_sub.to_csv(ens_path/f\"avg_TTA_mean_{fname}\", index=False)"
   ]
  },
  {
   "cell_type": "code",
   "execution_count": 14,
   "metadata": {},
   "outputs": [],
   "source": [
    "sub_name = ens_path/f\"avg_TTA_mean_{fname}\""
   ]
  },
  {
   "cell_type": "code",
   "execution_count": 15,
   "metadata": {},
   "outputs": [
    {
     "data": {
      "text/plain": [
       "0"
      ]
     },
     "execution_count": 15,
     "metadata": {},
     "output_type": "execute_result"
    }
   ],
   "source": [
    "cmd = \"kaggle competitions submit -c histopathologic-cancer-detection -f {} -m {}_avg_TTA\".format(sub_name, fname)\n",
    "os.system(cmd)"
   ]
  },
  {
   "cell_type": "code",
   "execution_count": 16,
   "metadata": {},
   "outputs": [
    {
     "data": {
      "text/plain": [
       "PosixPath('../data/histopathologic/ensemble/avg_TTA_mean_densenet169_vgg16_bn_densenet201')"
      ]
     },
     "execution_count": 16,
     "metadata": {},
     "output_type": "execute_result"
    }
   ],
   "source": [
    "sub_name"
   ]
  },
  {
   "cell_type": "markdown",
   "metadata": {},
   "source": [
    "### simple all average"
   ]
  },
  {
   "cell_type": "code",
   "execution_count": 17,
   "metadata": {},
   "outputs": [],
   "source": [
    "csvs= []\n",
    "for m  in models:\n",
    "    csvs += (preds_path/f'best_of_{m}').ls()"
   ]
  },
  {
   "cell_type": "code",
   "execution_count": null,
   "metadata": {},
   "outputs": [],
   "source": []
  },
  {
   "cell_type": "code",
   "execution_count": 25,
   "metadata": {},
   "outputs": [
    {
     "data": {
      "text/plain": [
       "tensor([[8.5557e-04, 9.9914e-01],\n",
       "        [8.8339e-01, 1.1661e-01],\n",
       "        [9.9370e-01, 6.3002e-03],\n",
       "        ...,\n",
       "        [9.9839e-01, 1.6088e-03],\n",
       "        [9.9041e-01, 9.5919e-03],\n",
       "        [3.7081e-03, 9.9629e-01]])"
      ]
     },
     "execution_count": 25,
     "metadata": {},
     "output_type": "execute_result"
    }
   ],
   "source": [
    "pd.read_pickle('../data/histopathologic/preds/best_of_densenet169/fold0_preds.pkl')"
   ]
  },
  {
   "cell_type": "code",
   "execution_count": 28,
   "metadata": {},
   "outputs": [],
   "source": [
    "mean_label = np.mean([to_np(pd.read_pickle(csv)[:,1]) for csv in csvs], axis=0)"
   ]
  },
  {
   "cell_type": "code",
   "execution_count": 31,
   "metadata": {},
   "outputs": [],
   "source": [
    "new_sub = pd.read_csv(subs_path/f'best_of_{models[0]}/{models[0]}_avg_TTA.csv')\n",
    "new_sub['label'] = mean_label"
   ]
  },
  {
   "cell_type": "code",
   "execution_count": 33,
   "metadata": {},
   "outputs": [],
   "source": [
    "fname = \"all_simple_mean\"\n",
    "new_sub.to_csv(ens_path/f\"{fname}\", index=False)"
   ]
  },
  {
   "cell_type": "code",
   "execution_count": 34,
   "metadata": {},
   "outputs": [],
   "source": [
    "sub_name = ens_path/f\"{fname}\""
   ]
  },
  {
   "cell_type": "code",
   "execution_count": 35,
   "metadata": {},
   "outputs": [
    {
     "data": {
      "text/plain": [
       "0"
      ]
     },
     "execution_count": 35,
     "metadata": {},
     "output_type": "execute_result"
    }
   ],
   "source": [
    "cmd = \"kaggle competitions submit -c histopathologic-cancer-detection -f {} -m {}\".format(sub_name, fname)\n",
    "os.system(cmd)"
   ]
  },
  {
   "cell_type": "code",
   "execution_count": null,
   "metadata": {},
   "outputs": [],
   "source": []
  },
  {
   "cell_type": "code",
   "execution_count": null,
   "metadata": {},
   "outputs": [],
   "source": []
  },
  {
   "cell_type": "code",
   "execution_count": null,
   "metadata": {},
   "outputs": [],
   "source": []
  }
 ],
 "metadata": {
  "kernelspec": {
   "display_name": "Python 3",
   "language": "python",
   "name": "python3"
  },
  "language_info": {
   "codemirror_mode": {
    "name": "ipython",
    "version": 3
   },
   "file_extension": ".py",
   "mimetype": "text/x-python",
   "name": "python",
   "nbconvert_exporter": "python",
   "pygments_lexer": "ipython3",
   "version": "3.7.0"
  }
 },
 "nbformat": 4,
 "nbformat_minor": 2
}
