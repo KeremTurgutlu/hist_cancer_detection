{
 "cells": [
  {
   "cell_type": "markdown",
   "metadata": {},
   "source": [
    "https://camelyon16.grand-challenge.org/Data"
   ]
  },
  {
   "cell_type": "code",
   "execution_count": 1,
   "metadata": {},
   "outputs": [],
   "source": [
    "%load_ext autoreload\n",
    "%autoreload 2"
   ]
  },
  {
   "cell_type": "code",
   "execution_count": 2,
   "metadata": {
    "scrolled": true
   },
   "outputs": [],
   "source": [
    "import warnings\n",
    "warnings.filterwarnings('ignore')"
   ]
  },
  {
   "cell_type": "code",
   "execution_count": 3,
   "metadata": {},
   "outputs": [],
   "source": [
    "from fastai.vision import *\n",
    "sys.path.append(\"dev/\")"
   ]
  },
  {
   "cell_type": "code",
   "execution_count": 4,
   "metadata": {},
   "outputs": [],
   "source": [
    "path = Path('../data/histopathologic/')"
   ]
  },
  {
   "cell_type": "code",
   "execution_count": 5,
   "metadata": {},
   "outputs": [
    {
     "data": {
      "text/plain": [
       "[PosixPath('../data/histopathologic/train'),\n",
       " PosixPath('../data/histopathologic/sample_submission.csv'),\n",
       " PosixPath('../data/histopathologic/train_labels.csv'),\n",
       " PosixPath('../data/histopathologic/logs'),\n",
       " PosixPath('../data/histopathologic/models'),\n",
       " PosixPath('../data/histopathologic/test')]"
      ]
     },
     "execution_count": 5,
     "metadata": {},
     "output_type": "execute_result"
    }
   ],
   "source": [
    "path.ls()"
   ]
  },
  {
   "cell_type": "code",
   "execution_count": 6,
   "metadata": {},
   "outputs": [
    {
     "data": {
      "text/plain": [
       "(220025, 57458)"
      ]
     },
     "execution_count": 6,
     "metadata": {},
     "output_type": "execute_result"
    }
   ],
   "source": [
    "len((path/'train').ls()), len((path/'test').ls())"
   ]
  },
  {
   "cell_type": "markdown",
   "metadata": {},
   "source": [
    "### data"
   ]
  },
  {
   "cell_type": "markdown",
   "metadata": {},
   "source": [
    "**Important note:** resizing happens before tfms"
   ]
  },
  {
   "cell_type": "code",
   "execution_count": 7,
   "metadata": {},
   "outputs": [],
   "source": [
    "# For each id in the test set, you must predict a probability that\n",
    "# center 32x32px region of a patch contains at least one pixel of tumor tissue. \n",
    "from fastai.vision.transform import _crop_default\n",
    "def _rand_center_crop(x, a=40, b=96):\n",
    "    \"x: tensor, center crop an image creating a patch randomly between a,b\"\n",
    "    crop_sz = np.random.randint(a,b)\n",
    "    return _crop_default(x, crop_sz)\n",
    "\n",
    "def _rand_center_crop_and_resize(x, a=40, b=96, targ_sz=(96, 96)):\n",
    "    \"x: tensor, center crop an image creating a patch randomly between a,b with a tuple targ_sz\"\n",
    "    crop_sz = np.random.randint(a,b)\n",
    "    x = _crop_default(x, crop_sz)\n",
    "    return Image(x).resize((x.shape[0],) + targ_sz).data\n",
    "\n",
    "center_crop = TfmPixel(_rand_center_crop)\n",
    "center_crop_and_resize = TfmPixel(_rand_center_crop_and_resize)\n",
    "center_crop.order = 0\n",
    "center_crop_and_resize.order = 0\n",
    "center_crop_tfm, center_crop_and_resize_tfm = center_crop(p=1.), center_crop_and_resize(p=1.)"
   ]
  },
  {
   "cell_type": "markdown",
   "metadata": {},
   "source": [
    "### cv data"
   ]
  },
  {
   "cell_type": "code",
   "execution_count": 8,
   "metadata": {},
   "outputs": [],
   "source": [
    "from sklearn.model_selection import KFold"
   ]
  },
  {
   "cell_type": "code",
   "execution_count": 9,
   "metadata": {},
   "outputs": [],
   "source": [
    "kfold = KFold(5, random_state=42)\n",
    "n_train = len((path/'train').ls())\n",
    "cv_idxs = kfold.split(X=range(n_train))\n",
    "df = pd.read_csv(path/'train_labels.csv')\n",
    "\n",
    "def get_data(trn_idx, val_idx):\n",
    "    tfms = get_transforms(True, True, max_rotate=None, max_zoom=1., max_lighting=None,\n",
    "                      max_warp=0, p_affine=0.5, p_lighting=0.5, xtra_tfms=[])\n",
    "    data = (ImageList.from_df(df=df, path=path, folder='train', suffix='.tif')\n",
    "        .split_by_idx(valid_idx=val_idx)\n",
    "        .label_from_lists(train_labels=list(df['label'].iloc[trn_idx].values),\n",
    "                                        valid_labels=list(df['label'].iloc[val_idx].values))\n",
    "        .transform(tfms)\n",
    "        .databunch()\n",
    "        .normalize(imagenet_stats))\n",
    "    data.add_test(ImageList.from_folder(path/'test'))\n",
    "    return data"
   ]
  },
  {
   "cell_type": "code",
   "execution_count": 10,
   "metadata": {},
   "outputs": [],
   "source": [
    "cv_data = [get_data(*idxs) for idxs in cv_idxs]"
   ]
  },
  {
   "cell_type": "code",
   "execution_count": 11,
   "metadata": {},
   "outputs": [
    {
     "data": {
      "text/plain": [
       "5"
      ]
     },
     "execution_count": 11,
     "metadata": {},
     "output_type": "execute_result"
    }
   ],
   "source": [
    "len(cv_data)"
   ]
  },
  {
   "cell_type": "markdown",
   "metadata": {},
   "source": [
    "### model"
   ]
  },
  {
   "cell_type": "code",
   "execution_count": 12,
   "metadata": {},
   "outputs": [],
   "source": [
    "from metric_utils import AUC\n",
    "from fastai.callbacks import *"
   ]
  },
  {
   "cell_type": "code",
   "execution_count": 13,
   "metadata": {},
   "outputs": [],
   "source": [
    "i = 4\n",
    "fold_num = i\n",
    "fold_data = cv_data[i]"
   ]
  },
  {
   "cell_type": "code",
   "execution_count": 14,
   "metadata": {},
   "outputs": [],
   "source": [
    "auc = AUC()\n",
    "arch = models.vgg16_bn\n",
    "model_name = arch.__name__ \n",
    "os.makedirs(path/f'models/best_of_{model_name}', exist_ok=True)\n",
    "learn_callbacks = TerminateOnNaNCallback()\n",
    "learn_callback_fns = [partial(EarlyStoppingCallback, monitor='auc', mode='max', patience=2),\n",
    "                      partial(SaveModelCallback, monitor='auc', mode='max', every='improvement',\n",
    "                              name=f'best_of_{model_name}/fold{fold_num}'),\n",
    "                      partial(CSVLogger, filename=f'logs/{model_name}')]"
   ]
  },
  {
   "cell_type": "code",
   "execution_count": 15,
   "metadata": {},
   "outputs": [],
   "source": [
    "learn = cnn_learner(data=fold_data, base_arch=arch, metrics=[accuracy, auc], callbacks=learn_callbacks,\n",
    "                   callback_fns=learn_callback_fns)"
   ]
  },
  {
   "cell_type": "code",
   "execution_count": 16,
   "metadata": {},
   "outputs": [
    {
     "data": {
      "text/html": [],
      "text/plain": [
       "<IPython.core.display.HTML object>"
      ]
     },
     "metadata": {},
     "output_type": "display_data"
    },
    {
     "name": "stdout",
     "output_type": "stream",
     "text": [
      "LR Finder is complete, type {learner_name}.recorder.plot() to see the graph.\n",
      "Min numerical gradient: 5.25E-03\n"
     ]
    },
    {
     "data": {
      "image/png": "[encoded data removed]",
      "text/plain": [
       "<Figure size 432x288 with 1 Axes>"
      ]
     },
     "metadata": {
      "needs_background": "light"
     },
     "output_type": "display_data"
    }
   ],
   "source": [
    "learn.lr_find()\n",
    "learn.recorder.plot(suggestion=True, k=5)\n",
    "max_lr = learn.recorder.min_grad_lr"
   ]
  },
  {
   "cell_type": "code",
   "execution_count": 17,
   "metadata": {
    "scrolled": true
   },
   "outputs": [
    {
     "data": {
      "text/html": [
       "\n",
       "    <div>\n",
       "        <style>\n",
       "            /* Turns off some styling */\n",
       "            progress {\n",
       "                /* gets rid of default border in Firefox and Opera. */\n",
       "                border: none;\n",
       "                /* Needs to be in here for Safari polyfill so background images work as expected. */\n",
       "                background-size: auto;\n",
       "            }\n",
       "            .progress-bar-interrupted, .progress-bar-interrupted::-webkit-progress-bar {\n",
       "                background: #F44336;\n",
       "            }\n",
       "        </style>\n",
       "      <progress value='9' class='' max='50', style='width:300px; height:20px; vertical-align: middle;'></progress>\n",
       "      18.00% [9/50 1:40:08<7:36:12]\n",
       "    </div>\n",
       "    \n",
       "<table style='width:450px; margin-bottom:10px'>\n",
       "  <tr>\n",
       "    <th>epoch</th>\n",
       "    <th>train_loss</th>\n",
       "    <th>valid_loss</th>\n",
       "    <th>accuracy</th>\n",
       "    <th>auc</th>\n",
       "    <th>time</th>\n",
       "  </tr>\n",
       "  <tr>\n",
       "    <th>0</th>\n",
       "    <th>0.227052</th>\n",
       "    <th>0.191636</th>\n",
       "    <th>0.927349</th>\n",
       "    <th>0.969186</th>\n",
       "    <th>11:46</th>\n",
       "  </tr>\n",
       "  <tr>\n",
       "    <th>1</th>\n",
       "    <th>0.178809</th>\n",
       "    <th>0.164871</th>\n",
       "    <th>0.938848</th>\n",
       "    <th>0.980096</th>\n",
       "    <th>11:44</th>\n",
       "  </tr>\n",
       "  <tr>\n",
       "    <th>2</th>\n",
       "    <th>0.165547</th>\n",
       "    <th>0.144423</th>\n",
       "    <th>0.946211</th>\n",
       "    <th>0.980956</th>\n",
       "    <th>11:45</th>\n",
       "  </tr>\n",
       "  <tr>\n",
       "    <th>3</th>\n",
       "    <th>0.160910</th>\n",
       "    <th>0.144188</th>\n",
       "    <th>0.947074</th>\n",
       "    <th>0.982159</th>\n",
       "    <th>11:43</th>\n",
       "  </tr>\n",
       "  <tr>\n",
       "    <th>4</th>\n",
       "    <th>0.159898</th>\n",
       "    <th>0.136468</th>\n",
       "    <th>0.949074</th>\n",
       "    <th>0.986429</th>\n",
       "    <th>11:12</th>\n",
       "  </tr>\n",
       "  <tr>\n",
       "    <th>5</th>\n",
       "    <th>0.167917</th>\n",
       "    <th>0.141067</th>\n",
       "    <th>0.949369</th>\n",
       "    <th>0.986113</th>\n",
       "    <th>10:46</th>\n",
       "  </tr>\n",
       "  <tr>\n",
       "    <th>6</th>\n",
       "    <th>0.166201</th>\n",
       "    <th>0.141801</th>\n",
       "    <th>0.947142</th>\n",
       "    <th>0.986634</th>\n",
       "    <th>11:48</th>\n",
       "  </tr>\n",
       "  <tr>\n",
       "    <th>7</th>\n",
       "    <th>0.165884</th>\n",
       "    <th>0.150656</th>\n",
       "    <th>0.944279</th>\n",
       "    <th>0.985057</th>\n",
       "    <th>11:33</th>\n",
       "  </tr>\n",
       "  <tr>\n",
       "    <th>8</th>\n",
       "    <th>0.176576</th>\n",
       "    <th>0.155349</th>\n",
       "    <th>0.942257</th>\n",
       "    <th>0.985224</th>\n",
       "    <th>07:47</th>\n",
       "  </tr>\n",
       "</table>\n",
       "\n",
       "\n",
       "    <div>\n",
       "        <style>\n",
       "            /* Turns off some styling */\n",
       "            progress {\n",
       "                /* gets rid of default border in Firefox and Opera. */\n",
       "                border: none;\n",
       "                /* Needs to be in here for Safari polyfill so background images work as expected. */\n",
       "                background-size: auto;\n",
       "            }\n",
       "            .progress-bar-interrupted, .progress-bar-interrupted::-webkit-progress-bar {\n",
       "                background: #F44336;\n",
       "            }\n",
       "        </style>\n",
       "      <progress value='688' class='' max='688', style='width:300px; height:20px; vertical-align: middle;'></progress>\n",
       "      100.00% [688/688 00:29<00:00]\n",
       "    </div>\n",
       "    "
      ],
      "text/plain": [
       "<IPython.core.display.HTML object>"
      ]
     },
     "metadata": {},
     "output_type": "display_data"
    },
    {
     "name": "stdout",
     "output_type": "stream",
     "text": [
      "Better model found at epoch 0 with auc value: 0.9691862299650552.\n",
      "Better model found at epoch 1 with auc value: 0.9800956417995059.\n",
      "Better model found at epoch 2 with auc value: 0.9809559924010567.\n",
      "Better model found at epoch 3 with auc value: 0.982159008350969.\n",
      "Better model found at epoch 4 with auc value: 0.9864290840863328.\n",
      "Better model found at epoch 6 with auc value: 0.9866339695409769.\n",
      "Epoch 9: early stopping\n"
     ]
    }
   ],
   "source": [
    "learn.fit_one_cycle(50, max_lr=max_lr)"
   ]
  },
  {
   "cell_type": "code",
   "execution_count": 18,
   "metadata": {},
   "outputs": [
    {
     "data": {
      "text/html": [],
      "text/plain": [
       "<IPython.core.display.HTML object>"
      ]
     },
     "metadata": {},
     "output_type": "display_data"
    },
    {
     "name": "stdout",
     "output_type": "stream",
     "text": [
      "LR Finder is complete, type {learner_name}.recorder.plot() to see the graph.\n",
      "Min numerical gradient: 1.45E-05\n"
     ]
    },
    {
     "data": {
      "image/png": "[encoded data removed]",
      "text/plain": [
       "<Figure size 432x288 with 1 Axes>"
      ]
     },
     "metadata": {
      "needs_background": "light"
     },
     "output_type": "display_data"
    }
   ],
   "source": [
    "learn.freeze_to(1)\n",
    "learn.lr_find()\n",
    "learn.recorder.plot(suggestion=True, k=5)\n",
    "max_lr = learn.recorder.min_grad_lr"
   ]
  },
  {
   "cell_type": "code",
   "execution_count": 19,
   "metadata": {
    "scrolled": true
   },
   "outputs": [
    {
     "data": {
      "text/html": [
       "Total time: 4:26:55 <p><table style='width:450px; margin-bottom:10px'>\n",
       "  <tr>\n",
       "    <th>epoch</th>\n",
       "    <th>train_loss</th>\n",
       "    <th>valid_loss</th>\n",
       "    <th>accuracy</th>\n",
       "    <th>auc</th>\n",
       "    <th>time</th>\n",
       "  </tr>\n",
       "  <tr>\n",
       "    <th>0</th>\n",
       "    <th>0.132338</th>\n",
       "    <th>0.126948</th>\n",
       "    <th>0.954619</th>\n",
       "    <th>0.988587</th>\n",
       "    <th>13:21</th>\n",
       "  </tr>\n",
       "  <tr>\n",
       "    <th>1</th>\n",
       "    <th>0.140359</th>\n",
       "    <th>0.123647</th>\n",
       "    <th>0.955164</th>\n",
       "    <th>0.989306</th>\n",
       "    <th>13:20</th>\n",
       "  </tr>\n",
       "  <tr>\n",
       "    <th>2</th>\n",
       "    <th>0.140484</th>\n",
       "    <th>0.119728</th>\n",
       "    <th>0.957141</th>\n",
       "    <th>0.990041</th>\n",
       "    <th>13:20</th>\n",
       "  </tr>\n",
       "  <tr>\n",
       "    <th>3</th>\n",
       "    <th>0.127301</th>\n",
       "    <th>0.112937</th>\n",
       "    <th>0.960005</th>\n",
       "    <th>0.990845</th>\n",
       "    <th>13:20</th>\n",
       "  </tr>\n",
       "  <tr>\n",
       "    <th>4</th>\n",
       "    <th>0.130789</th>\n",
       "    <th>0.109421</th>\n",
       "    <th>0.961436</th>\n",
       "    <th>0.991499</th>\n",
       "    <th>13:19</th>\n",
       "  </tr>\n",
       "  <tr>\n",
       "    <th>5</th>\n",
       "    <th>0.124763</th>\n",
       "    <th>0.104995</th>\n",
       "    <th>0.963095</th>\n",
       "    <th>0.992180</th>\n",
       "    <th>13:19</th>\n",
       "  </tr>\n",
       "  <tr>\n",
       "    <th>6</th>\n",
       "    <th>0.117051</th>\n",
       "    <th>0.100797</th>\n",
       "    <th>0.964504</th>\n",
       "    <th>0.992584</th>\n",
       "    <th>13:20</th>\n",
       "  </tr>\n",
       "  <tr>\n",
       "    <th>7</th>\n",
       "    <th>0.111143</th>\n",
       "    <th>0.101403</th>\n",
       "    <th>0.964095</th>\n",
       "    <th>0.992776</th>\n",
       "    <th>13:18</th>\n",
       "  </tr>\n",
       "  <tr>\n",
       "    <th>8</th>\n",
       "    <th>0.113234</th>\n",
       "    <th>0.095856</th>\n",
       "    <th>0.966549</th>\n",
       "    <th>0.993304</th>\n",
       "    <th>13:19</th>\n",
       "  </tr>\n",
       "  <tr>\n",
       "    <th>9</th>\n",
       "    <th>0.103788</th>\n",
       "    <th>0.093724</th>\n",
       "    <th>0.967526</th>\n",
       "    <th>0.993438</th>\n",
       "    <th>13:19</th>\n",
       "  </tr>\n",
       "  <tr>\n",
       "    <th>10</th>\n",
       "    <th>0.100825</th>\n",
       "    <th>0.092866</th>\n",
       "    <th>0.968004</th>\n",
       "    <th>0.993640</th>\n",
       "    <th>13:19</th>\n",
       "  </tr>\n",
       "  <tr>\n",
       "    <th>11</th>\n",
       "    <th>0.098557</th>\n",
       "    <th>0.092844</th>\n",
       "    <th>0.967572</th>\n",
       "    <th>0.993758</th>\n",
       "    <th>13:18</th>\n",
       "  </tr>\n",
       "  <tr>\n",
       "    <th>12</th>\n",
       "    <th>0.102571</th>\n",
       "    <th>0.091048</th>\n",
       "    <th>0.968322</th>\n",
       "    <th>0.993959</th>\n",
       "    <th>13:20</th>\n",
       "  </tr>\n",
       "  <tr>\n",
       "    <th>13</th>\n",
       "    <th>0.106935</th>\n",
       "    <th>0.089298</th>\n",
       "    <th>0.969072</th>\n",
       "    <th>0.994069</th>\n",
       "    <th>13:11</th>\n",
       "  </tr>\n",
       "  <tr>\n",
       "    <th>14</th>\n",
       "    <th>0.091147</th>\n",
       "    <th>0.088159</th>\n",
       "    <th>0.969640</th>\n",
       "    <th>0.994196</th>\n",
       "    <th>13:26</th>\n",
       "  </tr>\n",
       "  <tr>\n",
       "    <th>15</th>\n",
       "    <th>0.097923</th>\n",
       "    <th>0.087360</th>\n",
       "    <th>0.969435</th>\n",
       "    <th>0.994294</th>\n",
       "    <th>13:26</th>\n",
       "  </tr>\n",
       "  <tr>\n",
       "    <th>16</th>\n",
       "    <th>0.092865</th>\n",
       "    <th>0.087367</th>\n",
       "    <th>0.970003</th>\n",
       "    <th>0.994341</th>\n",
       "    <th>13:33</th>\n",
       "  </tr>\n",
       "  <tr>\n",
       "    <th>17</th>\n",
       "    <th>0.094274</th>\n",
       "    <th>0.086980</th>\n",
       "    <th>0.969890</th>\n",
       "    <th>0.994352</th>\n",
       "    <th>13:27</th>\n",
       "  </tr>\n",
       "  <tr>\n",
       "    <th>18</th>\n",
       "    <th>0.097455</th>\n",
       "    <th>0.088582</th>\n",
       "    <th>0.969594</th>\n",
       "    <th>0.994367</th>\n",
       "    <th>13:26</th>\n",
       "  </tr>\n",
       "  <tr>\n",
       "    <th>19</th>\n",
       "    <th>0.089143</th>\n",
       "    <th>0.087641</th>\n",
       "    <th>0.969663</th>\n",
       "    <th>0.994344</th>\n",
       "    <th>12:55</th>\n",
       "  </tr>\n",
       "</table>\n"
      ],
      "text/plain": [
       "<IPython.core.display.HTML object>"
      ]
     },
     "metadata": {},
     "output_type": "display_data"
    },
    {
     "name": "stdout",
     "output_type": "stream",
     "text": [
      "Better model found at epoch 0 with auc value: 0.9885866966605021.\n",
      "Better model found at epoch 1 with auc value: 0.9893058229513947.\n",
      "Better model found at epoch 2 with auc value: 0.9900414498540384.\n",
      "Better model found at epoch 3 with auc value: 0.9908453915620253.\n",
      "Better model found at epoch 4 with auc value: 0.9914989152713096.\n",
      "Better model found at epoch 5 with auc value: 0.9921804660072068.\n",
      "Better model found at epoch 6 with auc value: 0.9925835699918278.\n",
      "Better model found at epoch 7 with auc value: 0.9927760724834825.\n",
      "Better model found at epoch 8 with auc value: 0.993303906599162.\n",
      "Better model found at epoch 9 with auc value: 0.9934381316573434.\n",
      "Better model found at epoch 10 with auc value: 0.9936398546376722.\n",
      "Better model found at epoch 11 with auc value: 0.9937582930528801.\n",
      "Better model found at epoch 12 with auc value: 0.9939591573410302.\n",
      "Better model found at epoch 13 with auc value: 0.9940687301079025.\n",
      "Better model found at epoch 14 with auc value: 0.9941959762820859.\n",
      "Better model found at epoch 15 with auc value: 0.9942942616957144.\n",
      "Better model found at epoch 16 with auc value: 0.9943407532842294.\n",
      "Better model found at epoch 17 with auc value: 0.9943522839871919.\n",
      "Better model found at epoch 18 with auc value: 0.9943669321394117.\n"
     ]
    }
   ],
   "source": [
    "learn.fit_one_cycle(20, max_lr=[max_lr/10, max_lr/3, max_lr])"
   ]
  },
  {
   "cell_type": "code",
   "execution_count": 20,
   "metadata": {},
   "outputs": [
    {
     "data": {
      "text/html": [],
      "text/plain": [
       "<IPython.core.display.HTML object>"
      ]
     },
     "metadata": {},
     "output_type": "display_data"
    },
    {
     "name": "stdout",
     "output_type": "stream",
     "text": [
      "LR Finder is complete, type {learner_name}.recorder.plot() to see the graph.\n",
      "Min numerical gradient: 6.31E-07\n"
     ]
    },
    {
     "data": {
      "text/html": [
       "Total time: 1:13:15 <p><table style='width:450px; margin-bottom:10px'>\n",
       "  <tr>\n",
       "    <th>epoch</th>\n",
       "    <th>train_loss</th>\n",
       "    <th>valid_loss</th>\n",
       "    <th>accuracy</th>\n",
       "    <th>auc</th>\n",
       "    <th>time</th>\n",
       "  </tr>\n",
       "  <tr>\n",
       "    <th>0</th>\n",
       "    <th>0.096340</th>\n",
       "    <th>0.087025</th>\n",
       "    <th>0.970231</th>\n",
       "    <th>0.994342</th>\n",
       "    <th>14:07</th>\n",
       "  </tr>\n",
       "  <tr>\n",
       "    <th>1</th>\n",
       "    <th>0.108259</th>\n",
       "    <th>0.089105</th>\n",
       "    <th>0.969799</th>\n",
       "    <th>0.994329</th>\n",
       "    <th>14:08</th>\n",
       "  </tr>\n",
       "  <tr>\n",
       "    <th>2</th>\n",
       "    <th>0.093975</th>\n",
       "    <th>0.086809</th>\n",
       "    <th>0.969890</th>\n",
       "    <th>0.994360</th>\n",
       "    <th>14:27</th>\n",
       "  </tr>\n",
       "  <tr>\n",
       "    <th>3</th>\n",
       "    <th>0.097844</th>\n",
       "    <th>0.088416</th>\n",
       "    <th>0.969640</th>\n",
       "    <th>0.994375</th>\n",
       "    <th>14:59</th>\n",
       "  </tr>\n",
       "  <tr>\n",
       "    <th>4</th>\n",
       "    <th>0.097811</th>\n",
       "    <th>0.086833</th>\n",
       "    <th>0.969753</th>\n",
       "    <th>0.994391</th>\n",
       "    <th>15:31</th>\n",
       "  </tr>\n",
       "</table>\n"
      ],
      "text/plain": [
       "<IPython.core.display.HTML object>"
      ]
     },
     "metadata": {},
     "output_type": "display_data"
    },
    {
     "name": "stdout",
     "output_type": "stream",
     "text": [
      "Better model found at epoch 0 with auc value: 0.994342086883568.\n",
      "Better model found at epoch 2 with auc value: 0.994360057241857.\n",
      "Better model found at epoch 3 with auc value: 0.9943753475371669.\n",
      "Better model found at epoch 4 with auc value: 0.9943906346164011.\n"
     ]
    },
    {
     "data": {
      "image/png": "[encoded data removed]",
      "text/plain": [
       "<Figure size 432x288 with 1 Axes>"
      ]
     },
     "metadata": {
      "needs_background": "light"
     },
     "output_type": "display_data"
    }
   ],
   "source": [
    "learn.unfreeze()\n",
    "learn.lr_find()\n",
    "learn.recorder.plot(suggestion=True, k=5)\n",
    "max_lr = learn.recorder.min_grad_lr\n",
    "learn.fit_one_cycle(5, max_lr=[max_lr/10, max_lr/3, max_lr])"
   ]
  },
  {
   "cell_type": "markdown",
   "metadata": {},
   "source": [
    "### interpret"
   ]
  },
  {
   "cell_type": "code",
   "execution_count": 51,
   "metadata": {},
   "outputs": [],
   "source": [
    "# reset callbacks - this fails with get_preds\n",
    "learn.callbacks = []"
   ]
  },
  {
   "cell_type": "code",
   "execution_count": 52,
   "metadata": {},
   "outputs": [],
   "source": [
    "interp = ClassificationInterpretation.from_learner(learn, ds_type=DatasetType.Valid)"
   ]
  },
  {
   "cell_type": "code",
   "execution_count": 53,
   "metadata": {},
   "outputs": [
    {
     "data": {
      "image/png": "[encoded data removed]",
      "text/plain": [
       "<Figure size 432x288 with 1 Axes>"
      ]
     },
     "metadata": {
      "needs_background": "light"
     },
     "output_type": "display_data"
    }
   ],
   "source": [
    "interp.plot_confusion_matrix()"
   ]
  },
  {
   "cell_type": "markdown",
   "metadata": {},
   "source": [
    "### predict"
   ]
  },
  {
   "cell_type": "code",
   "execution_count": 54,
   "metadata": {},
   "outputs": [
    {
     "data": {
      "text/plain": [
       "{0: 0, 1: 1}"
      ]
     },
     "execution_count": 54,
     "metadata": {},
     "output_type": "execute_result"
    }
   ],
   "source": [
    "learn.data.train_ds.y.c2i"
   ]
  },
  {
   "cell_type": "code",
   "execution_count": 55,
   "metadata": {},
   "outputs": [],
   "source": [
    "test_preds = learn.get_preds(ds_type=DatasetType.Test)\n",
    "\n",
    "# pred outputs and dummy labels\n",
    "probas, _ = test_preds\n",
    "sample_submission = pd.read_csv(path/'sample_submission.csv')\n",
    "labels = [o.item() for o in probas[:,1]]\n",
    "names = [o.name.split('.')[0] for o in data.test_ds.items]\n",
    "sample_submission['label'] = sample_submission['id'].map(dict(zip(names, labels)))\n",
    "sample_submission.to_csv(path/f\"best_of_{model_name}.csv\", index=False)"
   ]
  },
  {
   "cell_type": "code",
   "execution_count": 56,
   "metadata": {},
   "outputs": [
    {
     "name": "stdout",
     "output_type": "stream",
     "text": [
      "100%|███████████████████████████████████████| 3.36M/3.36M [00:03<00:00, 882kB/s]\n",
      "Successfully submitted to Histopathologic Cancer Detection"
     ]
    }
   ],
   "source": [
    "!kaggle competitions submit -c histopathologic-cancer-detection -f \"{path}/models/best_of_{model_name}.csv\" -m \"init\""
   ]
  },
  {
   "cell_type": "markdown",
   "metadata": {},
   "source": [
    "### TTA"
   ]
  },
  {
   "cell_type": "code",
   "execution_count": 57,
   "metadata": {},
   "outputs": [
    {
     "data": {
      "text/html": [
       "Total time: 02:52 <p>"
      ],
      "text/plain": [
       "<IPython.core.display.HTML object>"
      ]
     },
     "metadata": {},
     "output_type": "display_data"
    }
   ],
   "source": [
    "outs = learn.TTA(ds_type=DatasetType.Test)"
   ]
  },
  {
   "cell_type": "code",
   "execution_count": 58,
   "metadata": {},
   "outputs": [],
   "source": [
    "# pred outputs and dummy labels\n",
    "probas, _ = outs\n",
    "\n",
    "sample_submission = pd.read_csv(path/'sample_submission.csv')\n",
    "labels = [o.item() for o in probas[:,1]]\n",
    "names = [o.name.split('.')[0] for o in data.test_ds.items]\n",
    "sample_submission['label'] = sample_submission['id'].map(dict(zip(names, labels)))\n",
    "sample_submission.to_csv(path/f\"best_of_{model_name}_tta.csv\", index=False)"
   ]
  },
  {
   "cell_type": "code",
   "execution_count": 60,
   "metadata": {},
   "outputs": [
    {
     "name": "stdout",
     "output_type": "stream",
     "text": [
      "100%|███████████████████████████████████████| 3.34M/3.34M [00:03<00:00, 975kB/s]\n",
      "Successfully submitted to Histopathologic Cancer Detection"
     ]
    }
   ],
   "source": [
    "!kaggle competitions submit -c histopathologic-cancer-detection -f \"{path}/models/best_of_{model_name}_tta.csv\" -m \"init\""
   ]
  },
  {
   "cell_type": "code",
   "execution_count": null,
   "metadata": {},
   "outputs": [],
   "source": []
  },
  {
   "cell_type": "code",
   "execution_count": null,
   "metadata": {},
   "outputs": [],
   "source": []
  },
  {
   "cell_type": "markdown",
   "metadata": {},
   "source": [
    "### INTERPRET"
   ]
  },
  {
   "cell_type": "code",
   "execution_count": null,
   "metadata": {},
   "outputs": [],
   "source": []
  },
  {
   "cell_type": "code",
   "execution_count": null,
   "metadata": {},
   "outputs": [],
   "source": []
  },
  {
   "cell_type": "code",
   "execution_count": null,
   "metadata": {},
   "outputs": [],
   "source": []
  }
 ],
 "metadata": {
  "kernelspec": {
   "display_name": "Python 3",
   "language": "python",
   "name": "python3"
  },
  "language_info": {
   "codemirror_mode": {
    "name": "ipython",
    "version": 3
   },
   "file_extension": ".py",
   "mimetype": "text/x-python",
   "name": "python",
   "nbconvert_exporter": "python",
   "pygments_lexer": "ipython3",
   "version": "3.7.0"
  }
 },
 "nbformat": 4,
 "nbformat_minor": 2
}
