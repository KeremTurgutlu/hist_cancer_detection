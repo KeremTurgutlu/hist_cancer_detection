{
 "cells": [
  {
   "cell_type": "markdown",
   "metadata": {},
   "source": [
    "https://camelyon16.grand-challenge.org/Data"
   ]
  },
  {
   "cell_type": "code",
   "execution_count": 1,
   "metadata": {},
   "outputs": [],
   "source": [
    "%load_ext autoreload\n",
    "%autoreload 2"
   ]
  },
  {
   "cell_type": "code",
   "execution_count": 2,
   "metadata": {
    "scrolled": true
   },
   "outputs": [],
   "source": [
    "import warnings\n",
    "warnings.filterwarnings('ignore')"
   ]
  },
  {
   "cell_type": "code",
   "execution_count": 3,
   "metadata": {},
   "outputs": [],
   "source": [
    "from fastai.vision import *\n",
    "sys.path.append(\"dev/\")"
   ]
  },
  {
   "cell_type": "code",
   "execution_count": 4,
   "metadata": {},
   "outputs": [],
   "source": [
    "path = Path('../data/histopathologic/')"
   ]
  },
  {
   "cell_type": "code",
   "execution_count": 5,
   "metadata": {},
   "outputs": [
    {
     "data": {
      "text/plain": [
       "[PosixPath('../data/histopathologic/train'),\n",
       " PosixPath('../data/histopathologic/sample_submission.csv'),\n",
       " PosixPath('../data/histopathologic/train_labels.csv'),\n",
       " PosixPath('../data/histopathologic/logs'),\n",
       " PosixPath('../data/histopathologic/models'),\n",
       " PosixPath('../data/histopathologic/test')]"
      ]
     },
     "execution_count": 5,
     "metadata": {},
     "output_type": "execute_result"
    }
   ],
   "source": [
    "path.ls()"
   ]
  },
  {
   "cell_type": "code",
   "execution_count": 6,
   "metadata": {
    "scrolled": true
   },
   "outputs": [
    {
     "data": {
      "text/plain": [
       "(220025, 57458)"
      ]
     },
     "execution_count": 6,
     "metadata": {},
     "output_type": "execute_result"
    }
   ],
   "source": [
    "len((path/'train').ls()), len((path/'test').ls())"
   ]
  },
  {
   "cell_type": "markdown",
   "metadata": {},
   "source": [
    "### data"
   ]
  },
  {
   "cell_type": "markdown",
   "metadata": {},
   "source": [
    "**Important note:** resizing happens before tfms"
   ]
  },
  {
   "cell_type": "code",
   "execution_count": 7,
   "metadata": {},
   "outputs": [],
   "source": [
    "# For each id in the test set, you must predict a probability that\n",
    "# center 32x32px region of a patch contains at least one pixel of tumor tissue. \n",
    "from fastai.vision.transform import _crop_default\n",
    "def _rand_center_crop(x, a=40, b=96):\n",
    "    \"x: tensor, center crop an image creating a patch randomly between a,b\"\n",
    "    crop_sz = np.random.randint(a,b)\n",
    "    return _crop_default(x, crop_sz)\n",
    "\n",
    "def _rand_center_crop_and_resize(x, a=40, b=96, targ_sz=(96, 96)):\n",
    "    \"x: tensor, center crop an image creating a patch randomly between a,b with a tuple targ_sz\"\n",
    "    crop_sz = np.random.randint(a,b)\n",
    "    x = _crop_default(x, crop_sz)\n",
    "    return Image(x).resize((x.shape[0],) + targ_sz).data\n",
    "\n",
    "center_crop = TfmPixel(_rand_center_crop)\n",
    "center_crop_and_resize = TfmPixel(_rand_center_crop_and_resize)\n",
    "center_crop.order = 0\n",
    "center_crop_and_resize.order = 0\n",
    "center_crop_tfm, center_crop_and_resize_tfm = center_crop(p=1.), center_crop_and_resize(p=1.)"
   ]
  },
  {
   "cell_type": "markdown",
   "metadata": {},
   "source": [
    "### cv data"
   ]
  },
  {
   "cell_type": "code",
   "execution_count": 8,
   "metadata": {},
   "outputs": [],
   "source": [
    "from sklearn.model_selection import KFold"
   ]
  },
  {
   "cell_type": "code",
   "execution_count": 9,
   "metadata": {},
   "outputs": [],
   "source": [
    "kfold = KFold(5, random_state=42)\n",
    "n_train = len((path/'train').ls())\n",
    "cv_idxs = kfold.split(X=range(n_train))\n",
    "df = pd.read_csv(path/'train_labels.csv')\n",
    "\n",
    "def get_data(trn_idx, val_idx):\n",
    "    tfms = get_transforms(True, True, max_rotate=None, max_zoom=1., max_lighting=None,\n",
    "                      max_warp=0, p_affine=0.5, p_lighting=0.5, xtra_tfms=[])\n",
    "    data = (ImageList.from_df(df=df, path=path, folder='train', suffix='.tif')\n",
    "        .split_by_idx(valid_idx=val_idx)\n",
    "        .label_from_lists(train_labels=list(df['label'].iloc[trn_idx].values),\n",
    "                                        valid_labels=list(df['label'].iloc[val_idx].values))\n",
    "        .transform(tfms)\n",
    "        .databunch()\n",
    "        .normalize(imagenet_stats))\n",
    "    data.add_test(ImageList.from_folder(path/'test'))\n",
    "    return data"
   ]
  },
  {
   "cell_type": "code",
   "execution_count": 10,
   "metadata": {},
   "outputs": [],
   "source": [
    "cv_data = [get_data(*idxs) for idxs in cv_idxs]"
   ]
  },
  {
   "cell_type": "code",
   "execution_count": 11,
   "metadata": {},
   "outputs": [
    {
     "data": {
      "text/plain": [
       "5"
      ]
     },
     "execution_count": 11,
     "metadata": {},
     "output_type": "execute_result"
    }
   ],
   "source": [
    "len(cv_data)"
   ]
  },
  {
   "cell_type": "markdown",
   "metadata": {},
   "source": [
    "### model"
   ]
  },
  {
   "cell_type": "code",
   "execution_count": 12,
   "metadata": {},
   "outputs": [],
   "source": [
    "from metric_utils import AUC\n",
    "from fastai.callbacks import *"
   ]
  },
  {
   "cell_type": "code",
   "execution_count": 13,
   "metadata": {},
   "outputs": [],
   "source": [
    "i = 2\n",
    "fold_num = i\n",
    "fold_data = cv_data[i]"
   ]
  },
  {
   "cell_type": "code",
   "execution_count": 14,
   "metadata": {},
   "outputs": [],
   "source": [
    "auc = AUC()\n",
    "arch = models.vgg16_bn\n",
    "model_name = arch.__name__ \n",
    "os.makedirs(path/f'models/best_of_{model_name}', exist_ok=True)\n",
    "learn_callbacks = TerminateOnNaNCallback()\n",
    "learn_callback_fns = [partial(EarlyStoppingCallback, monitor='auc', mode='max', patience=2),\n",
    "                      partial(SaveModelCallback, monitor='auc', mode='max', every='improvement',\n",
    "                              name=f'best_of_{model_name}/fold{fold_num}'),\n",
    "                      partial(CSVLogger, filename=f'logs/{model_name}')]"
   ]
  },
  {
   "cell_type": "code",
   "execution_count": 15,
   "metadata": {},
   "outputs": [],
   "source": [
    "learn = cnn_learner(data=fold_data, base_arch=arch, metrics=[accuracy, auc], callbacks=learn_callbacks,\n",
    "                   callback_fns=learn_callback_fns)"
   ]
  },
  {
   "cell_type": "code",
   "execution_count": 16,
   "metadata": {},
   "outputs": [
    {
     "data": {
      "text/html": [],
      "text/plain": [
       "<IPython.core.display.HTML object>"
      ]
     },
     "metadata": {},
     "output_type": "display_data"
    },
    {
     "name": "stdout",
     "output_type": "stream",
     "text": [
      "LR Finder is complete, type {learner_name}.recorder.plot() to see the graph.\n",
      "Min numerical gradient: 6.31E-03\n"
     ]
    },
    {
     "data": {
      "image/png": "[encoded data removed]",
      "text/plain": [
       "<Figure size 432x288 with 1 Axes>"
      ]
     },
     "metadata": {
      "needs_background": "light"
     },
     "output_type": "display_data"
    }
   ],
   "source": [
    "learn.lr_find()\n",
    "learn.recorder.plot(suggestion=True, k=5)\n",
    "max_lr = learn.recorder.min_grad_lr"
   ]
  },
  {
   "cell_type": "code",
   "execution_count": 17,
   "metadata": {
    "scrolled": false
   },
   "outputs": [
    {
     "data": {
      "text/html": [
       "\n",
       "    <div>\n",
       "        <style>\n",
       "            /* Turns off some styling */\n",
       "            progress {\n",
       "                /* gets rid of default border in Firefox and Opera. */\n",
       "                border: none;\n",
       "                /* Needs to be in here for Safari polyfill so background images work as expected. */\n",
       "                background-size: auto;\n",
       "            }\n",
       "            .progress-bar-interrupted, .progress-bar-interrupted::-webkit-progress-bar {\n",
       "                background: #F44336;\n",
       "            }\n",
       "        </style>\n",
       "      <progress value='8' class='' max='50', style='width:300px; height:20px; vertical-align: middle;'></progress>\n",
       "      16.00% [8/50 1:32:11<8:03:59]\n",
       "    </div>\n",
       "    \n",
       "<table style='width:450px; margin-bottom:10px'>\n",
       "  <tr>\n",
       "    <th>epoch</th>\n",
       "    <th>train_loss</th>\n",
       "    <th>valid_loss</th>\n",
       "    <th>accuracy</th>\n",
       "    <th>auc</th>\n",
       "    <th>time</th>\n",
       "  </tr>\n",
       "  <tr>\n",
       "    <th>0</th>\n",
       "    <th>0.221779</th>\n",
       "    <th>0.186077</th>\n",
       "    <th>0.930303</th>\n",
       "    <th>0.971444</th>\n",
       "    <th>11:14</th>\n",
       "  </tr>\n",
       "  <tr>\n",
       "    <th>1</th>\n",
       "    <th>0.190489</th>\n",
       "    <th>0.157606</th>\n",
       "    <th>0.942529</th>\n",
       "    <th>0.978789</th>\n",
       "    <th>11:45</th>\n",
       "  </tr>\n",
       "  <tr>\n",
       "    <th>2</th>\n",
       "    <th>0.165627</th>\n",
       "    <th>0.146443</th>\n",
       "    <th>0.947415</th>\n",
       "    <th>0.981412</th>\n",
       "    <th>11:45</th>\n",
       "  </tr>\n",
       "  <tr>\n",
       "    <th>3</th>\n",
       "    <th>0.150992</th>\n",
       "    <th>0.140091</th>\n",
       "    <th>0.950051</th>\n",
       "    <th>0.985901</th>\n",
       "    <th>11:45</th>\n",
       "  </tr>\n",
       "  <tr>\n",
       "    <th>4</th>\n",
       "    <th>0.160027</th>\n",
       "    <th>0.139384</th>\n",
       "    <th>0.949506</th>\n",
       "    <th>0.986524</th>\n",
       "    <th>11:45</th>\n",
       "  </tr>\n",
       "  <tr>\n",
       "    <th>5</th>\n",
       "    <th>0.159900</th>\n",
       "    <th>0.135243</th>\n",
       "    <th>0.952483</th>\n",
       "    <th>0.987026</th>\n",
       "    <th>10:14</th>\n",
       "  </tr>\n",
       "  <tr>\n",
       "    <th>6</th>\n",
       "    <th>0.159349</th>\n",
       "    <th>0.171221</th>\n",
       "    <th>0.937393</th>\n",
       "    <th>0.983579</th>\n",
       "    <th>11:48</th>\n",
       "  </tr>\n",
       "  <tr>\n",
       "    <th>7</th>\n",
       "    <th>0.162757</th>\n",
       "    <th>0.175897</th>\n",
       "    <th>0.933030</th>\n",
       "    <th>0.985759</th>\n",
       "    <th>11:49</th>\n",
       "  </tr>\n",
       "</table>\n",
       "\n",
       "\n",
       "    <div>\n",
       "        <style>\n",
       "            /* Turns off some styling */\n",
       "            progress {\n",
       "                /* gets rid of default border in Firefox and Opera. */\n",
       "                border: none;\n",
       "                /* Needs to be in here for Safari polyfill so background images work as expected. */\n",
       "                background-size: auto;\n",
       "            }\n",
       "            .progress-bar-interrupted, .progress-bar-interrupted::-webkit-progress-bar {\n",
       "                background: #F44336;\n",
       "            }\n",
       "        </style>\n",
       "      <progress value='688' class='' max='688', style='width:300px; height:20px; vertical-align: middle;'></progress>\n",
       "      100.00% [688/688 00:48<00:00]\n",
       "    </div>\n",
       "    "
      ],
      "text/plain": [
       "<IPython.core.display.HTML object>"
      ]
     },
     "metadata": {},
     "output_type": "display_data"
    },
    {
     "name": "stdout",
     "output_type": "stream",
     "text": [
      "Better model found at epoch 0 with auc value: 0.9714441862412213.\n",
      "Better model found at epoch 1 with auc value: 0.9787889835260817.\n",
      "Better model found at epoch 2 with auc value: 0.9814117917839775.\n",
      "Better model found at epoch 3 with auc value: 0.9859006056835131.\n",
      "Better model found at epoch 4 with auc value: 0.9865241684327389.\n",
      "Better model found at epoch 5 with auc value: 0.9870261817496502.\n",
      "Epoch 8: early stopping\n"
     ]
    }
   ],
   "source": [
    "learn.fit_one_cycle(50, max_lr=max_lr)"
   ]
  },
  {
   "cell_type": "code",
   "execution_count": 18,
   "metadata": {},
   "outputs": [
    {
     "data": {
      "text/html": [],
      "text/plain": [
       "<IPython.core.display.HTML object>"
      ]
     },
     "metadata": {},
     "output_type": "display_data"
    },
    {
     "name": "stdout",
     "output_type": "stream",
     "text": [
      "LR Finder is complete, type {learner_name}.recorder.plot() to see the graph.\n",
      "Min numerical gradient: 8.32E-06\n"
     ]
    },
    {
     "data": {
      "image/png": "[encoded data removed]",
      "text/plain": [
       "<Figure size 432x288 with 1 Axes>"
      ]
     },
     "metadata": {
      "needs_background": "light"
     },
     "output_type": "display_data"
    }
   ],
   "source": [
    "learn.freeze_to(1)\n",
    "learn.lr_find()\n",
    "learn.recorder.plot(suggestion=True, k=5)\n",
    "max_lr = learn.recorder.min_grad_lr"
   ]
  },
  {
   "cell_type": "code",
   "execution_count": 19,
   "metadata": {
    "scrolled": true
   },
   "outputs": [
    {
     "data": {
      "text/html": [
       "Total time: 4:26:50 <p><table style='width:450px; margin-bottom:10px'>\n",
       "  <tr>\n",
       "    <th>epoch</th>\n",
       "    <th>train_loss</th>\n",
       "    <th>valid_loss</th>\n",
       "    <th>accuracy</th>\n",
       "    <th>auc</th>\n",
       "    <th>time</th>\n",
       "  </tr>\n",
       "  <tr>\n",
       "    <th>0</th>\n",
       "    <th>0.152432</th>\n",
       "    <th>0.127915</th>\n",
       "    <th>0.955710</th>\n",
       "    <th>0.988135</th>\n",
       "    <th>13:00</th>\n",
       "  </tr>\n",
       "  <tr>\n",
       "    <th>1</th>\n",
       "    <th>0.142717</th>\n",
       "    <th>0.125809</th>\n",
       "    <th>0.956255</th>\n",
       "    <th>0.988739</th>\n",
       "    <th>13:19</th>\n",
       "  </tr>\n",
       "  <tr>\n",
       "    <th>2</th>\n",
       "    <th>0.134324</th>\n",
       "    <th>0.120518</th>\n",
       "    <th>0.958005</th>\n",
       "    <th>0.989576</th>\n",
       "    <th>13:18</th>\n",
       "  </tr>\n",
       "  <tr>\n",
       "    <th>3</th>\n",
       "    <th>0.139160</th>\n",
       "    <th>0.116001</th>\n",
       "    <th>0.959800</th>\n",
       "    <th>0.990241</th>\n",
       "    <th>13:20</th>\n",
       "  </tr>\n",
       "  <tr>\n",
       "    <th>4</th>\n",
       "    <th>0.128913</th>\n",
       "    <th>0.113924</th>\n",
       "    <th>0.961073</th>\n",
       "    <th>0.990648</th>\n",
       "    <th>13:19</th>\n",
       "  </tr>\n",
       "  <tr>\n",
       "    <th>5</th>\n",
       "    <th>0.134259</th>\n",
       "    <th>0.109546</th>\n",
       "    <th>0.962186</th>\n",
       "    <th>0.991297</th>\n",
       "    <th>13:19</th>\n",
       "  </tr>\n",
       "  <tr>\n",
       "    <th>6</th>\n",
       "    <th>0.121398</th>\n",
       "    <th>0.107300</th>\n",
       "    <th>0.963095</th>\n",
       "    <th>0.991667</th>\n",
       "    <th>13:19</th>\n",
       "  </tr>\n",
       "  <tr>\n",
       "    <th>7</th>\n",
       "    <th>0.116998</th>\n",
       "    <th>0.104425</th>\n",
       "    <th>0.964209</th>\n",
       "    <th>0.992089</th>\n",
       "    <th>13:18</th>\n",
       "  </tr>\n",
       "  <tr>\n",
       "    <th>8</th>\n",
       "    <th>0.115898</th>\n",
       "    <th>0.105000</th>\n",
       "    <th>0.963822</th>\n",
       "    <th>0.992393</th>\n",
       "    <th>13:19</th>\n",
       "  </tr>\n",
       "  <tr>\n",
       "    <th>9</th>\n",
       "    <th>0.116324</th>\n",
       "    <th>0.100607</th>\n",
       "    <th>0.965208</th>\n",
       "    <th>0.992544</th>\n",
       "    <th>13:19</th>\n",
       "  </tr>\n",
       "  <tr>\n",
       "    <th>10</th>\n",
       "    <th>0.116826</th>\n",
       "    <th>0.098405</th>\n",
       "    <th>0.966027</th>\n",
       "    <th>0.992875</th>\n",
       "    <th>13:20</th>\n",
       "  </tr>\n",
       "  <tr>\n",
       "    <th>11</th>\n",
       "    <th>0.114431</th>\n",
       "    <th>0.099509</th>\n",
       "    <th>0.965913</th>\n",
       "    <th>0.992646</th>\n",
       "    <th>13:19</th>\n",
       "  </tr>\n",
       "  <tr>\n",
       "    <th>12</th>\n",
       "    <th>0.103851</th>\n",
       "    <th>0.097822</th>\n",
       "    <th>0.966776</th>\n",
       "    <th>0.992888</th>\n",
       "    <th>13:19</th>\n",
       "  </tr>\n",
       "  <tr>\n",
       "    <th>13</th>\n",
       "    <th>0.101546</th>\n",
       "    <th>0.096900</th>\n",
       "    <th>0.967186</th>\n",
       "    <th>0.993159</th>\n",
       "    <th>13:10</th>\n",
       "  </tr>\n",
       "  <tr>\n",
       "    <th>14</th>\n",
       "    <th>0.102340</th>\n",
       "    <th>0.097233</th>\n",
       "    <th>0.967617</th>\n",
       "    <th>0.993176</th>\n",
       "    <th>13:26</th>\n",
       "  </tr>\n",
       "  <tr>\n",
       "    <th>15</th>\n",
       "    <th>0.105156</th>\n",
       "    <th>0.095904</th>\n",
       "    <th>0.967345</th>\n",
       "    <th>0.993091</th>\n",
       "    <th>13:32</th>\n",
       "  </tr>\n",
       "  <tr>\n",
       "    <th>16</th>\n",
       "    <th>0.106684</th>\n",
       "    <th>0.095880</th>\n",
       "    <th>0.967845</th>\n",
       "    <th>0.993228</th>\n",
       "    <th>13:28</th>\n",
       "  </tr>\n",
       "  <tr>\n",
       "    <th>17</th>\n",
       "    <th>0.103749</th>\n",
       "    <th>0.095505</th>\n",
       "    <th>0.967935</th>\n",
       "    <th>0.993231</th>\n",
       "    <th>13:27</th>\n",
       "  </tr>\n",
       "  <tr>\n",
       "    <th>18</th>\n",
       "    <th>0.101339</th>\n",
       "    <th>0.095429</th>\n",
       "    <th>0.967685</th>\n",
       "    <th>0.993296</th>\n",
       "    <th>13:27</th>\n",
       "  </tr>\n",
       "  <tr>\n",
       "    <th>19</th>\n",
       "    <th>0.105509</th>\n",
       "    <th>0.095361</th>\n",
       "    <th>0.967822</th>\n",
       "    <th>0.993199</th>\n",
       "    <th>13:15</th>\n",
       "  </tr>\n",
       "</table>\n"
      ],
      "text/plain": [
       "<IPython.core.display.HTML object>"
      ]
     },
     "metadata": {},
     "output_type": "display_data"
    },
    {
     "name": "stdout",
     "output_type": "stream",
     "text": [
      "Better model found at epoch 0 with auc value: 0.9881350460150732.\n",
      "Better model found at epoch 1 with auc value: 0.9887390936177088.\n",
      "Better model found at epoch 2 with auc value: 0.9895761609041203.\n",
      "Better model found at epoch 3 with auc value: 0.9902412892861052.\n",
      "Better model found at epoch 4 with auc value: 0.9906479180895567.\n",
      "Better model found at epoch 5 with auc value: 0.9912965447877652.\n",
      "Better model found at epoch 6 with auc value: 0.9916673197086794.\n",
      "Better model found at epoch 7 with auc value: 0.992088809997364.\n",
      "Better model found at epoch 8 with auc value: 0.9923925576151899.\n",
      "Better model found at epoch 9 with auc value: 0.992544465728909.\n",
      "Better model found at epoch 10 with auc value: 0.9928745304931669.\n",
      "Better model found at epoch 12 with auc value: 0.9928883285294098.\n",
      "Better model found at epoch 13 with auc value: 0.9931589505688112.\n",
      "Better model found at epoch 14 with auc value: 0.9931755712473836.\n",
      "Better model found at epoch 16 with auc value: 0.9932275108679233.\n",
      "Better model found at epoch 17 with auc value: 0.993231304765077.\n",
      "Better model found at epoch 18 with auc value: 0.9932958288893423.\n"
     ]
    }
   ],
   "source": [
    "learn.fit_one_cycle(20, max_lr=[max_lr/10, max_lr/3, max_lr])"
   ]
  },
  {
   "cell_type": "code",
   "execution_count": 20,
   "metadata": {},
   "outputs": [
    {
     "data": {
      "text/html": [],
      "text/plain": [
       "<IPython.core.display.HTML object>"
      ]
     },
     "metadata": {},
     "output_type": "display_data"
    },
    {
     "name": "stdout",
     "output_type": "stream",
     "text": [
      "LR Finder is complete, type {learner_name}.recorder.plot() to see the graph.\n",
      "Min numerical gradient: 6.31E-07\n"
     ]
    },
    {
     "data": {
      "text/html": [
       "Total time: 1:13:53 <p><table style='width:450px; margin-bottom:10px'>\n",
       "  <tr>\n",
       "    <th>epoch</th>\n",
       "    <th>train_loss</th>\n",
       "    <th>valid_loss</th>\n",
       "    <th>accuracy</th>\n",
       "    <th>auc</th>\n",
       "    <th>time</th>\n",
       "  </tr>\n",
       "  <tr>\n",
       "    <th>0</th>\n",
       "    <th>0.107116</th>\n",
       "    <th>0.096973</th>\n",
       "    <th>0.967504</th>\n",
       "    <th>0.993231</th>\n",
       "    <th>14:07</th>\n",
       "  </tr>\n",
       "  <tr>\n",
       "    <th>1</th>\n",
       "    <th>0.102652</th>\n",
       "    <th>0.095892</th>\n",
       "    <th>0.967845</th>\n",
       "    <th>0.993246</th>\n",
       "    <th>14:08</th>\n",
       "  </tr>\n",
       "  <tr>\n",
       "    <th>2</th>\n",
       "    <th>0.109560</th>\n",
       "    <th>0.095003</th>\n",
       "    <th>0.968026</th>\n",
       "    <th>0.993310</th>\n",
       "    <th>14:22</th>\n",
       "  </tr>\n",
       "  <tr>\n",
       "    <th>3</th>\n",
       "    <th>0.098279</th>\n",
       "    <th>0.096319</th>\n",
       "    <th>0.967481</th>\n",
       "    <th>0.993064</th>\n",
       "    <th>14:51</th>\n",
       "  </tr>\n",
       "  <tr>\n",
       "    <th>4</th>\n",
       "    <th>0.107892</th>\n",
       "    <th>0.094730</th>\n",
       "    <th>0.968117</th>\n",
       "    <th>0.993170</th>\n",
       "    <th>16:22</th>\n",
       "  </tr>\n",
       "</table>\n"
      ],
      "text/plain": [
       "<IPython.core.display.HTML object>"
      ]
     },
     "metadata": {},
     "output_type": "display_data"
    },
    {
     "name": "stdout",
     "output_type": "stream",
     "text": [
      "Better model found at epoch 0 with auc value: 0.9932313744467145.\n",
      "Better model found at epoch 1 with auc value: 0.9932459904381784.\n",
      "Better model found at epoch 2 with auc value: 0.9933104641772597.\n"
     ]
    },
    {
     "data": {
      "image/png": "[encoded data removed]",
      "text/plain": [
       "<Figure size 432x288 with 1 Axes>"
      ]
     },
     "metadata": {
      "needs_background": "light"
     },
     "output_type": "display_data"
    }
   ],
   "source": [
    "learn.unfreeze()\n",
    "learn.lr_find()\n",
    "learn.recorder.plot(suggestion=True, k=5)\n",
    "max_lr = learn.recorder.min_grad_lr\n",
    "learn.fit_one_cycle(5, max_lr=[max_lr/10, max_lr/3, max_lr])"
   ]
  },
  {
   "cell_type": "markdown",
   "metadata": {},
   "source": [
    "### interpret"
   ]
  },
  {
   "cell_type": "code",
   "execution_count": 51,
   "metadata": {},
   "outputs": [],
   "source": [
    "# reset callbacks - this fails with get_preds\n",
    "learn.callbacks = []"
   ]
  },
  {
   "cell_type": "code",
   "execution_count": 52,
   "metadata": {},
   "outputs": [],
   "source": [
    "interp = ClassificationInterpretation.from_learner(learn, ds_type=DatasetType.Valid)"
   ]
  },
  {
   "cell_type": "code",
   "execution_count": 53,
   "metadata": {},
   "outputs": [
    {
     "data": {
      "image/png": "[encoded data removed]",
      "text/plain": [
       "<Figure size 432x288 with 1 Axes>"
      ]
     },
     "metadata": {
      "needs_background": "light"
     },
     "output_type": "display_data"
    }
   ],
   "source": [
    "interp.plot_confusion_matrix()"
   ]
  },
  {
   "cell_type": "markdown",
   "metadata": {},
   "source": [
    "### predict"
   ]
  },
  {
   "cell_type": "code",
   "execution_count": 54,
   "metadata": {},
   "outputs": [
    {
     "data": {
      "text/plain": [
       "{0: 0, 1: 1}"
      ]
     },
     "execution_count": 54,
     "metadata": {},
     "output_type": "execute_result"
    }
   ],
   "source": [
    "learn.data.train_ds.y.c2i"
   ]
  },
  {
   "cell_type": "code",
   "execution_count": 55,
   "metadata": {},
   "outputs": [],
   "source": [
    "test_preds = learn.get_preds(ds_type=DatasetType.Test)\n",
    "\n",
    "# pred outputs and dummy labels\n",
    "probas, _ = test_preds\n",
    "sample_submission = pd.read_csv(path/'sample_submission.csv')\n",
    "labels = [o.item() for o in probas[:,1]]\n",
    "names = [o.name.split('.')[0] for o in data.test_ds.items]\n",
    "sample_submission['label'] = sample_submission['id'].map(dict(zip(names, labels)))\n",
    "sample_submission.to_csv(path/f\"best_of_{model_name}.csv\", index=False)"
   ]
  },
  {
   "cell_type": "code",
   "execution_count": 56,
   "metadata": {},
   "outputs": [
    {
     "name": "stdout",
     "output_type": "stream",
     "text": [
      "100%|███████████████████████████████████████| 3.36M/3.36M [00:03<00:00, 882kB/s]\n",
      "Successfully submitted to Histopathologic Cancer Detection"
     ]
    }
   ],
   "source": [
    "!kaggle competitions submit -c histopathologic-cancer-detection -f \"{path}/models/best_of_{model_name}.csv\" -m \"init\""
   ]
  },
  {
   "cell_type": "markdown",
   "metadata": {},
   "source": [
    "### TTA"
   ]
  },
  {
   "cell_type": "code",
   "execution_count": 57,
   "metadata": {},
   "outputs": [
    {
     "data": {
      "text/html": [
       "Total time: 02:52 <p>"
      ],
      "text/plain": [
       "<IPython.core.display.HTML object>"
      ]
     },
     "metadata": {},
     "output_type": "display_data"
    }
   ],
   "source": [
    "outs = learn.TTA(ds_type=DatasetType.Test)"
   ]
  },
  {
   "cell_type": "code",
   "execution_count": 58,
   "metadata": {},
   "outputs": [],
   "source": [
    "# pred outputs and dummy labels\n",
    "probas, _ = outs\n",
    "\n",
    "sample_submission = pd.read_csv(path/'sample_submission.csv')\n",
    "labels = [o.item() for o in probas[:,1]]\n",
    "names = [o.name.split('.')[0] for o in data.test_ds.items]\n",
    "sample_submission['label'] = sample_submission['id'].map(dict(zip(names, labels)))\n",
    "sample_submission.to_csv(path/f\"best_of_{model_name}_tta.csv\", index=False)"
   ]
  },
  {
   "cell_type": "code",
   "execution_count": 60,
   "metadata": {},
   "outputs": [
    {
     "name": "stdout",
     "output_type": "stream",
     "text": [
      "100%|███████████████████████████████████████| 3.34M/3.34M [00:03<00:00, 975kB/s]\n",
      "Successfully submitted to Histopathologic Cancer Detection"
     ]
    }
   ],
   "source": [
    "!kaggle competitions submit -c histopathologic-cancer-detection -f \"{path}/models/best_of_{model_name}_tta.csv\" -m \"init\""
   ]
  },
  {
   "cell_type": "code",
   "execution_count": null,
   "metadata": {},
   "outputs": [],
   "source": []
  },
  {
   "cell_type": "code",
   "execution_count": null,
   "metadata": {},
   "outputs": [],
   "source": []
  },
  {
   "cell_type": "markdown",
   "metadata": {},
   "source": [
    "### INTERPRET"
   ]
  },
  {
   "cell_type": "code",
   "execution_count": null,
   "metadata": {},
   "outputs": [],
   "source": []
  },
  {
   "cell_type": "code",
   "execution_count": null,
   "metadata": {},
   "outputs": [],
   "source": []
  },
  {
   "cell_type": "code",
   "execution_count": null,
   "metadata": {},
   "outputs": [],
   "source": []
  }
 ],
 "metadata": {
  "kernelspec": {
   "display_name": "Python 3",
   "language": "python",
   "name": "python3"
  },
  "language_info": {
   "codemirror_mode": {
    "name": "ipython",
    "version": 3
   },
   "file_extension": ".py",
   "mimetype": "text/x-python",
   "name": "python",
   "nbconvert_exporter": "python",
   "pygments_lexer": "ipython3",
   "version": "3.7.0"
  }
 },
 "nbformat": 4,
 "nbformat_minor": 2
}
