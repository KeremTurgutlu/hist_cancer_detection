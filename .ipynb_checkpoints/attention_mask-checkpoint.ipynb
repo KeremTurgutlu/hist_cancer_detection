{
 "cells": [
  {
   "cell_type": "markdown",
   "metadata": {},
   "source": [
    "https://camelyon16.grand-challenge.org/Data"
   ]
  },
  {
   "cell_type": "code",
   "execution_count": 2,
   "metadata": {},
   "outputs": [],
   "source": [
    "%load_ext autoreload\n",
    "%autoreload 2"
   ]
  },
  {
   "cell_type": "code",
   "execution_count": 3,
   "metadata": {
    "scrolled": true
   },
   "outputs": [],
   "source": [
    "import warnings\n",
    "warnings.filterwarnings('ignore')"
   ]
  },
  {
   "cell_type": "code",
   "execution_count": 4,
   "metadata": {},
   "outputs": [],
   "source": [
    "from fastai.vision import *\n",
    "sys.path.append(\"dev/\")"
   ]
  },
  {
   "cell_type": "code",
   "execution_count": 5,
   "metadata": {},
   "outputs": [],
   "source": [
    "path = Path('../data/histopathologic/')"
   ]
  },
  {
   "cell_type": "code",
   "execution_count": 6,
   "metadata": {},
   "outputs": [
    {
     "data": {
      "text/plain": [
       "[PosixPath('../data/histopathologic/train'),\n",
       " PosixPath('../data/histopathologic/sample_submission.csv'),\n",
       " PosixPath('../data/histopathologic/preds'),\n",
       " PosixPath('../data/histopathologic/submissions'),\n",
       " PosixPath('../data/histopathologic/train_labels.csv'),\n",
       " PosixPath('../data/histopathologic/logs'),\n",
       " PosixPath('../data/histopathologic/models'),\n",
       " PosixPath('../data/histopathologic/ensemble'),\n",
       " PosixPath('../data/histopathologic/test')]"
      ]
     },
     "execution_count": 6,
     "metadata": {},
     "output_type": "execute_result"
    }
   ],
   "source": [
    "path.ls()"
   ]
  },
  {
   "cell_type": "code",
   "execution_count": 7,
   "metadata": {},
   "outputs": [
    {
     "data": {
      "text/plain": [
       "(220025, 57458)"
      ]
     },
     "execution_count": 7,
     "metadata": {},
     "output_type": "execute_result"
    }
   ],
   "source": [
    "len((path/'train').ls()), len((path/'test').ls())"
   ]
  },
  {
   "cell_type": "markdown",
   "metadata": {},
   "source": [
    "### Overview\n",
    "\n",
    "Main folders : `models/{model_name}/`, `preds/{model_name}/`, `submissions/{model_name}/`, `logs/{model_name}.csv`"
   ]
  },
  {
   "cell_type": "markdown",
   "metadata": {},
   "source": [
    "### Add center attention mask\n",
    "\n",
    "- Create 4D input channel"
   ]
  },
  {
   "cell_type": "code",
   "execution_count": 334,
   "metadata": {},
   "outputs": [],
   "source": [
    "# train_fns = Path(path/'train').ls()\n",
    "# test_fns = Path(path/'test').ls()\n",
    "\n",
    "# os.makedirs(path/'train_4d', exist_ok=True)\n",
    "# os.makedirs(path/'test_4d', exist_ok=True)\n",
    "\n",
    "# train_fns[:3]\n",
    "\n",
    "# def save4Dimg_train(fn):\n",
    "#     with warnings.catch_warnings():\n",
    "#         warnings.simplefilter(\"ignore\", UserWarning) # EXIF warning from TiffPlugin\n",
    "#         x = PIL.Image.open(fn).convert('RGB')\n",
    "#         center_mask = np.zeros((96,96))\n",
    "#         center_mask[32:64, 32:64] = 255\n",
    "#         x = np.append(np.asarray(x), center_mask[..., None], axis=2)\n",
    "#         np.save(path/f'train_4d/{fn.stem}', x.astype(np.uint8))\n",
    "\n",
    "# def save4Dimg_test(fn):\n",
    "#     with warnings.catch_warnings():\n",
    "#         warnings.simplefilter(\"ignore\", UserWarning) # EXIF warning from TiffPlugin\n",
    "#         x = PIL.Image.open(fn).convert('RGB')\n",
    "#         center_mask = np.zeros((96,96))\n",
    "#         center_mask[32:64, 32:64] = 255\n",
    "#         x = np.append(np.asarray(x), center_mask[..., None], axis=2)\n",
    "#         np.save(path/f'test_4d/{fn.stem}', x.astype(np.uint8))\n",
    "\n",
    "# [save4Dimg_train(fn) for fn in train_fns];\n",
    "\n",
    "# [save4Dimg_test(fn) for fn in test_fns];"
   ]
  },
  {
   "cell_type": "markdown",
   "metadata": {},
   "source": [
    "### convert model to 4D input"
   ]
  },
  {
   "cell_type": "code",
   "execution_count": 367,
   "metadata": {},
   "outputs": [],
   "source": [
    "def convert_model_to_4D_input(model):\n",
    "    conv1 = model[0][0][0]\n",
    "    mean_conv_weight = conv1.weight.data.mean(1).unsqueeze(1)\n",
    "    new_weight = torch.cat([conv1.weight.data, mean_conv_weight], dim=1)\n",
    "    new_conv = conv2d(conv1.in_channels+1, conv1.out_channels, \n",
    "                      conv1.kernel_size, conv1.stride, padding=conv1.padding).cuda()\n",
    "    model[0][0][0] = new_conv\n",
    "    return model"
   ]
  },
  {
   "cell_type": "markdown",
   "metadata": {},
   "source": [
    "### attention mask channel as last transform"
   ]
  },
  {
   "cell_type": "code",
   "execution_count": 338,
   "metadata": {},
   "outputs": [],
   "source": [
    "from transform_utils import center_attn_mask"
   ]
  },
  {
   "cell_type": "code",
   "execution_count": 345,
   "metadata": {},
   "outputs": [
    {
     "name": "stdout",
     "output_type": "stream",
     "text": [
      "torch.Size([3, 96, 96])\n"
     ]
    },
    {
     "data": {
      "image/jpeg": "[encoded data removed]",
      "image/png": "[encoded data removed]",
      "text/plain": [
       "Image (3, 96, 96)"
      ]
     },
     "execution_count": 345,
     "metadata": {},
     "output_type": "execute_result"
    }
   ],
   "source": [
    "img = open_image(fn); print(img.shape); img"
   ]
  },
  {
   "cell_type": "code",
   "execution_count": 346,
   "metadata": {},
   "outputs": [
    {
     "name": "stdout",
     "output_type": "stream",
     "text": [
      "torch.Size([4, 96, 96])\n"
     ]
    },
    {
     "data": {
      "image/jpeg": "[encoded data removed]",
      "image/png": "[encoded data removed]",
      "text/plain": [
       "Image (4, 96, 96)"
      ]
     },
     "execution_count": 346,
     "metadata": {},
     "output_type": "execute_result"
    }
   ],
   "source": [
    "new_img = center_attn_mask(p=1.)(img); print(new_img.shape); new_img"
   ]
  },
  {
   "cell_type": "markdown",
   "metadata": {},
   "source": [
    "### cv data\n",
    "\n",
    "- at the end we will add 32 x 32 attention mask as a new channel\n",
    "- don't do zoom\n",
    "- rotate, dihedral"
   ]
  },
  {
   "cell_type": "code",
   "execution_count": 347,
   "metadata": {},
   "outputs": [],
   "source": [
    "from transform_utils import center_attn_mask, center_crop, center_crop_and_resize"
   ]
  },
  {
   "cell_type": "code",
   "execution_count": 348,
   "metadata": {},
   "outputs": [],
   "source": [
    "from sklearn.model_selection import KFold\n",
    "kfold = KFold(5, random_state=42)\n",
    "n_train = len((path/'train').ls())\n",
    "cv_idxs = kfold.split(X=range(n_train))\n",
    "df = pd.read_csv(path/'train_labels.csv')"
   ]
  },
  {
   "cell_type": "code",
   "execution_count": 349,
   "metadata": {},
   "outputs": [],
   "source": [
    "imagenet_stats_4d = ([0.485, 0.456, 0.406, 0.406], [0.229, 0.224, 0.225, 0.225])"
   ]
  },
  {
   "cell_type": "code",
   "execution_count": 350,
   "metadata": {},
   "outputs": [],
   "source": [
    "def get_data(trn_idx, val_idx):\n",
    "    tfms = get_transforms(True, True, max_rotate=None, max_zoom=0., max_lighting=None,\n",
    "                      max_warp=0, p_affine=0.5, p_lighting=0.5, xtra_tfms=[])\n",
    "    tfms[0].append(center_attn_mask(p=1.))\n",
    "    tfms[1].append(center_attn_mask(p=1.))\n",
    "    data = (ImageList.from_df(df=df, path=path, folder='train', suffix='.tif')\n",
    "        .split_by_idx(valid_idx=val_idx)\n",
    "        .label_from_lists(train_labels=list(df['label'].iloc[trn_idx].values),\n",
    "                                        valid_labels=list(df['label'].iloc[val_idx].values))\n",
    "        .transform(tfms)\n",
    "        .databunch()\n",
    "        .normalize(imagenet_stats_4d))\n",
    "    data.add_test(ImageList.from_folder(path/'test'))\n",
    "    return data"
   ]
  },
  {
   "cell_type": "code",
   "execution_count": 351,
   "metadata": {
    "scrolled": true
   },
   "outputs": [],
   "source": [
    "cv_data = [get_data(*idxs) for idxs in cv_idxs]\n",
    "pd.to_pickle(cv_data, path/'models/cv_attn_mask_data.pkl')"
   ]
  },
  {
   "cell_type": "markdown",
   "metadata": {},
   "source": [
    "### kfold training"
   ]
  },
  {
   "cell_type": "code",
   "execution_count": 352,
   "metadata": {},
   "outputs": [],
   "source": [
    "from metric_utils import AUC\n",
    "from fastai.callbacks import *"
   ]
  },
  {
   "cell_type": "code",
   "execution_count": 353,
   "metadata": {},
   "outputs": [
    {
     "name": "stdout",
     "output_type": "stream",
     "text": [
      "Starting Training with model: densenet169\n"
     ]
    }
   ],
   "source": [
    "cv_data = pd.read_pickle(path/'models/cv_attn_mask_data.pkl')\n",
    "arch = models.densenet169\n",
    "model_name = arch.__name__ \n",
    "print(f\"Starting Training with model: {model_name}\")"
   ]
  },
  {
   "cell_type": "code",
   "execution_count": 363,
   "metadata": {},
   "outputs": [
    {
     "name": "stdout",
     "output_type": "stream",
     "text": [
      "Initialize Learner at fold0\n"
     ]
    }
   ],
   "source": [
    "# Define paths\n",
    "print(\"Define path for saving model and logging\")\n",
    "MODEL_DIR = path/f'models/best_of_{model_name}_attn'\n",
    "PREDS_DIR = path/f'preds/best_of_{model_name}_attn'\n",
    "SUBS_DIR = path/f'submissions/best_of_{model_name}_attn'\n",
    "LOG_FNAME = f'logs/{model_name}_attn.csv'\n",
    "os.makedirs(MODEL_DIR, exist_ok=True)\n",
    "auc = AUC()"
   ]
  },
  {
   "cell_type": "code",
   "execution_count": 354,
   "metadata": {},
   "outputs": [],
   "source": [
    "# Train with kfold models\n",
    "i = 0\n",
    "fold_num = i\n",
    "fold_data = cv_data[i]"
   ]
  },
  {
   "cell_type": "code",
   "execution_count": 382,
   "metadata": {},
   "outputs": [],
   "source": [
    "learn_callbacks = [TerminateOnNaNCallback()]\n",
    "learn_callback_fns = [partial(EarlyStoppingCallback, monitor='auc', mode='max', patience=2),\n",
    "                      \n",
    "                      partial(SaveModelCallback, monitor='auc', mode='max', every='improvement',\n",
    "                              name=Path(MODEL_DIR.name)/f'fold{fold_num}'),\n",
    "                      \n",
    "                      partial(CSVLogger, filename=LOG_FNAME)]\n",
    "\n",
    "learn = cnn_learner(data=fold_data, base_arch=arch, metrics=[accuracy, auc], callbacks=learn_callbacks,\n",
    "                    callback_fns=learn_callback_fns)"
   ]
  },
  {
   "cell_type": "code",
   "execution_count": 383,
   "metadata": {},
   "outputs": [],
   "source": [
    "# change model to 4D input\n",
    "convert_model_to_4D_input(learn.model);"
   ]
  },
  {
   "cell_type": "code",
   "execution_count": 384,
   "metadata": {},
   "outputs": [
    {
     "data": {
      "text/plain": [
       "Sequential(\n",
       "  (conv0): Conv2d(4, 64, kernel_size=(7, 7), stride=(2, 2), padding=(3, 3), bias=False)\n",
       "  (norm0): BatchNorm2d(64, eps=1e-05, momentum=0.1, affine=True, track_running_stats=True)\n",
       "  (relu0): ReLU(inplace)\n",
       "  (pool0): MaxPool2d(kernel_size=3, stride=2, padding=1, dilation=1, ceil_mode=False)\n",
       ")"
      ]
     },
     "execution_count": 384,
     "metadata": {},
     "output_type": "execute_result"
    }
   ],
   "source": [
    "learn.model[0][0][:4]"
   ]
  },
  {
   "cell_type": "code",
   "execution_count": 385,
   "metadata": {},
   "outputs": [],
   "source": [
    "cv_data = pd.read_pickle(path/'models/cv_attn_mask_data.pkl')\n",
    "i = 0\n",
    "fold_num = i\n",
    "fold_data = cv_data[i]"
   ]
  },
  {
   "cell_type": "code",
   "execution_count": 386,
   "metadata": {},
   "outputs": [],
   "source": [
    "# re-assign new 4d parameters to layer groups and freeze model \n",
    "from fastai.vision.learner import cnn_config\n",
    "meta = cnn_config(arch)\n",
    "learn.split(meta['split']);\n",
    "learn.freeze()"
   ]
  },
  {
   "cell_type": "code",
   "execution_count": 387,
   "metadata": {},
   "outputs": [
    {
     "data": {
      "text/html": [],
      "text/plain": [
       "<IPython.core.display.HTML object>"
      ]
     },
     "metadata": {},
     "output_type": "display_data"
    },
    {
     "name": "stdout",
     "output_type": "stream",
     "text": [
      "LR Finder is complete, type {learner_name}.recorder.plot() to see the graph.\n",
      "Min numerical gradient: 2.51E-03\n",
      "Stage-1 training with lr=0.002511886431509582\n"
     ]
    },
    {
     "data": {
      "image/png": "[encoded data removed]",
      "text/plain": [
       "<Figure size 432x288 with 1 Axes>"
      ]
     },
     "metadata": {
      "needs_background": "light"
     },
     "output_type": "display_data"
    }
   ],
   "source": [
    "# Stage-1 training\n",
    "learn.lr_find()\n",
    "learn.recorder.plot(suggestion=True, k=5)\n",
    "max_lr = learn.recorder.min_grad_lr\n",
    "print(f\"Stage-1 training with lr={max_lr}\")"
   ]
  },
  {
   "cell_type": "code",
   "execution_count": null,
   "metadata": {},
   "outputs": [
    {
     "data": {
      "text/html": [
       "\n",
       "    <div>\n",
       "        <style>\n",
       "            /* Turns off some styling */\n",
       "            progress {\n",
       "                /* gets rid of default border in Firefox and Opera. */\n",
       "                border: none;\n",
       "                /* Needs to be in here for Safari polyfill so background images work as expected. */\n",
       "                background-size: auto;\n",
       "            }\n",
       "            .progress-bar-interrupted, .progress-bar-interrupted::-webkit-progress-bar {\n",
       "                background: #F44336;\n",
       "            }\n",
       "        </style>\n",
       "      <progress value='1' class='' max='50', style='width:300px; height:20px; vertical-align: middle;'></progress>\n",
       "      2.00% [1/50 13:40<11:10:26]\n",
       "    </div>\n",
       "    \n",
       "<table style='width:450px; margin-bottom:10px'>\n",
       "  <tr>\n",
       "    <th>epoch</th>\n",
       "    <th>train_loss</th>\n",
       "    <th>valid_loss</th>\n",
       "    <th>accuracy</th>\n",
       "    <th>auc</th>\n",
       "    <th>time</th>\n",
       "  </tr>\n",
       "  <tr>\n",
       "    <th>0</th>\n",
       "    <th>0.381903</th>\n",
       "    <th>0.353406</th>\n",
       "    <th>0.847835</th>\n",
       "    <th>0.909952</th>\n",
       "    <th>13:40</th>\n",
       "  </tr>\n",
       "</table>\n",
       "\n",
       "\n",
       "    <div>\n",
       "        <style>\n",
       "            /* Turns off some styling */\n",
       "            progress {\n",
       "                /* gets rid of default border in Firefox and Opera. */\n",
       "                border: none;\n",
       "                /* Needs to be in here for Safari polyfill so background images work as expected. */\n",
       "                background-size: auto;\n",
       "            }\n",
       "            .progress-bar-interrupted, .progress-bar-interrupted::-webkit-progress-bar {\n",
       "                background: #F44336;\n",
       "            }\n",
       "        </style>\n",
       "      <progress value='1739' class='' max='2750', style='width:300px; height:20px; vertical-align: middle;'></progress>\n",
       "      63.24% [1739/2750 07:22<04:17 0.3538]\n",
       "    </div>\n",
       "    "
      ],
      "text/plain": [
       "<IPython.core.display.HTML object>"
      ]
     },
     "metadata": {},
     "output_type": "display_data"
    },
    {
     "name": "stdout",
     "output_type": "stream",
     "text": [
      "Better model found at epoch 0 with auc value: 0.909952316503588.\n"
     ]
    }
   ],
   "source": [
    "learn.fit_one_cycle(50, max_lr=max_lr)"
   ]
  },
  {
   "cell_type": "code",
   "execution_count": null,
   "metadata": {},
   "outputs": [],
   "source": [
    "# Stage-2 training\n",
    "learn.freeze_to(1)\n",
    "learn.lr_find()\n",
    "learn.recorder.plot(suggestion=True, k=5)\n",
    "max_lr = learn.recorder.min_grad_lr\n",
    "print(f\"Stage-2 training with lr={max_lr}\")"
   ]
  },
  {
   "cell_type": "code",
   "execution_count": null,
   "metadata": {},
   "outputs": [],
   "source": [
    "learn.fit_one_cycle(20, max_lr=[max_lr/10, max_lr/3, max_lr])"
   ]
  },
  {
   "cell_type": "code",
   "execution_count": null,
   "metadata": {},
   "outputs": [],
   "source": [
    "# Stage-3 training\n",
    "learn.unfreeze()\n",
    "learn.lr_find()\n",
    "learn.recorder.plot(suggestion=True, k=5)\n",
    "max_lr = learn.recorder.min_grad_lr\n",
    "print(f\"Stage-3 training with lr={max_lr}\")"
   ]
  },
  {
   "cell_type": "code",
   "execution_count": null,
   "metadata": {},
   "outputs": [],
   "source": [
    "learn.fit_one_cycle(5, max_lr=[max_lr/10, max_lr/3, max_lr])"
   ]
  },
  {
   "cell_type": "code",
   "execution_count": 12,
   "metadata": {},
   "outputs": [
    {
     "name": "stdout",
     "output_type": "stream",
     "text": [
      "0\n",
      "1\n",
      "2\n",
      "3\n",
      "4\n"
     ]
    }
   ],
   "source": [
    "print(f\"Training of fold{fold_num} model is done...destroying learner\")\n",
    "learn.destroy()"
   ]
  },
  {
   "cell_type": "markdown",
   "metadata": {},
   "source": [
    "### create preds and subs dir"
   ]
  },
  {
   "cell_type": "code",
   "execution_count": null,
   "metadata": {},
   "outputs": [],
   "source": [
    "# create preds and submissions directory for the model\n",
    "os.makedirs(PREDS_DIR, exist_ok=True)\n",
    "os.makedirs(SUBS_DIR, exist_ok=True)"
   ]
  },
  {
   "cell_type": "code",
   "execution_count": null,
   "metadata": {},
   "outputs": [],
   "source": [
    "print(f\"Initialize Learner to load trained models\")\n",
    "learn = cnn_learner(data=fold_data, base_arch=arch, metrics=[accuracy, auc], callbacks=learn_callbacks,\n",
    "               callback_fns=learn_callback_fns)"
   ]
  },
  {
   "cell_type": "markdown",
   "metadata": {},
   "source": [
    "### get_preds"
   ]
  },
  {
   "cell_type": "code",
   "execution_count": 46,
   "metadata": {},
   "outputs": [],
   "source": [
    "for i in range(5):\n",
    "    # disable TerminateOnNaNCallback for get_preds to work\n",
    "    learn.callbacks = [cb for cb in learn.callbacks if\n",
    "                       cb.__class__ == TerminateOnNaNCallback.__class__]\n",
    "\n",
    "    # load fold model\n",
    "    load_fold_num = i\n",
    "    learn.load(Path(MODEL_DIR.name)/f'fold{load_fold_num}')\n",
    "\n",
    "    # get preds\n",
    "    test_preds, _ = learn.get_preds(ds_type=DatasetType.Test)\n",
    "\n",
    "    # save preds as pickle file\n",
    "    pd.to_pickle(test_preds, PREDS_DIR/f'fold{load_fold_num}_preds.pkl')\n",
    "    "
   ]
  },
  {
   "cell_type": "markdown",
   "metadata": {},
   "source": [
    "### get_preds with TTA"
   ]
  },
  {
   "cell_type": "code",
   "execution_count": 47,
   "metadata": {},
   "outputs": [
    {
     "data": {
      "text/html": [
       "Total time: 03:05 <p>"
      ],
      "text/plain": [
       "<IPython.core.display.HTML object>"
      ]
     },
     "metadata": {},
     "output_type": "display_data"
    }
   ],
   "source": [
    "for i in range(5):\n",
    "    # disable TerminateOnNaNCallback for get_preds to work\n",
    "    learn.callbacks = [cb for cb in learn.callbacks if\n",
    "                       cb.__class__ == TerminateOnNaNCallback.__class__]\n",
    "\n",
    "    # load fold model\n",
    "    load_fold_num = i\n",
    "    learn.load(Path(MODEL_DIR.name)/f'fold{load_fold_num}')\n",
    "\n",
    "    # get preds\n",
    "    tta_preds,_  = learn.TTA(ds_type=DatasetType.Test)\n",
    "\n",
    "    # save preds as pickle file\n",
    "    pd.to_pickle(tta_preds, PREDS_DIR/f'fold{load_fold_num}_TTA_preds.pkl')\n",
    "    "
   ]
  },
  {
   "cell_type": "markdown",
   "metadata": {},
   "source": [
    "### create submission"
   ]
  },
  {
   "cell_type": "code",
   "execution_count": 56,
   "metadata": {},
   "outputs": [],
   "source": [
    "sample_submission = pd.read_csv(path/'sample_submission.csv')\n",
    "test_names = [o.name.split('.')[0] for o in learn.data.test_ds.items]"
   ]
  },
  {
   "cell_type": "code",
   "execution_count": 51,
   "metadata": {},
   "outputs": [],
   "source": [
    "pred_fnames = (path/f'preds/best_of_{model_name}').ls()"
   ]
  },
  {
   "cell_type": "code",
   "execution_count": 61,
   "metadata": {},
   "outputs": [],
   "source": [
    "TTA_fnames = [o for o in pred_fnames if \"TTA\" in str(o)]\n",
    "non_TTA_fnames = [o for o in pred_fnames if \"TTA\" not in str(o)]"
   ]
  },
  {
   "cell_type": "code",
   "execution_count": 62,
   "metadata": {},
   "outputs": [
    {
     "data": {
      "text/plain": [
       "[PosixPath('../data/histopathologic/preds/best_of_vgg16_bn/fold2_TTA_preds.pkl'),\n",
       " PosixPath('../data/histopathologic/preds/best_of_vgg16_bn/fold3_TTA_preds.pkl'),\n",
       " PosixPath('../data/histopathologic/preds/best_of_vgg16_bn/fold1_TTA_preds.pkl'),\n",
       " PosixPath('../data/histopathologic/preds/best_of_vgg16_bn/fold0_TTA_preds.pkl'),\n",
       " PosixPath('../data/histopathologic/preds/best_of_vgg16_bn/fold4_TTA_preds.pkl')]"
      ]
     },
     "execution_count": 62,
     "metadata": {},
     "output_type": "execute_result"
    }
   ],
   "source": [
    "TTA_fnames"
   ]
  },
  {
   "cell_type": "code",
   "execution_count": 63,
   "metadata": {},
   "outputs": [
    {
     "data": {
      "text/plain": [
       "[PosixPath('../data/histopathologic/preds/best_of_vgg16_bn/fold0_preds.pkl'),\n",
       " PosixPath('../data/histopathologic/preds/best_of_vgg16_bn/fold1_preds.pkl'),\n",
       " PosixPath('../data/histopathologic/preds/best_of_vgg16_bn/fold4_preds.pkl'),\n",
       " PosixPath('../data/histopathologic/preds/best_of_vgg16_bn/fold3_preds.pkl'),\n",
       " PosixPath('../data/histopathologic/preds/best_of_vgg16_bn/fold2_preds.pkl')]"
      ]
     },
     "execution_count": 63,
     "metadata": {},
     "output_type": "execute_result"
    }
   ],
   "source": [
    "non_TTA_fnames"
   ]
  },
  {
   "cell_type": "code",
   "execution_count": 71,
   "metadata": {},
   "outputs": [],
   "source": [
    "# average TTA_preds\n",
    "avg_TTA_labels = np.mean([pd.read_pickle(fn).numpy() for fn in TTA_fnames], axis=0)[:, 1]\n",
    "avg_non_TTA_labels = np.mean([pd.read_pickle(fn).numpy() for fn in non_TTA_fnames], axis=0)[:, 1]"
   ]
  },
  {
   "cell_type": "code",
   "execution_count": 76,
   "metadata": {},
   "outputs": [],
   "source": [
    "# create submission file\n",
    "avg_TTA_submission = sample_submission.copy()\n",
    "avg_non_TTA_submission = sample_submission.copy()\n",
    "\n",
    "avg_TTA_submission['label'] = sample_submission['id'].map(dict(zip(test_names, avg_TTA_labels)))\n",
    "avg_non_TTA_submission['label'] = sample_submission['id'].map(dict(zip(test_names, avg_non_TTA_labels)))"
   ]
  },
  {
   "cell_type": "code",
   "execution_count": 78,
   "metadata": {},
   "outputs": [],
   "source": [
    "# save submissions\n",
    "avg_TTA_path = path/f\"submissions/best_of_{model_name}/{model_name}_avg_TTA.csv\"\n",
    "avg_non_TTA_path = path/f\"submissions/best_of_{model_name}/{model_name}_avg_non_TTA.csv\"\n",
    "avg_TTA_submission.to_csv(avg_TTA_path, index=False)\n",
    "avg_non_TTA_submission.to_csv(avg_non_TTA_path, index=False)"
   ]
  },
  {
   "cell_type": "code",
   "execution_count": 79,
   "metadata": {},
   "outputs": [
    {
     "data": {
      "text/plain": [
       "PosixPath('../data/histopathologic/submissions/best_of_vgg16_bn/vgg16_bn_avg_TTA.csv')"
      ]
     },
     "execution_count": 79,
     "metadata": {},
     "output_type": "execute_result"
    }
   ],
   "source": [
    "avg_TTA_path"
   ]
  },
  {
   "cell_type": "code",
   "execution_count": 80,
   "metadata": {},
   "outputs": [
    {
     "name": "stdout",
     "output_type": "stream",
     "text": [
      "100%|██████████████████████████████████████| 3.34M/3.34M [00:02<00:00, 1.23MB/s]\n",
      "100%|██████████████████████████████████████| 3.36M/3.36M [00:02<00:00, 1.21MB/s]\n",
      "Successfully submitted to Histopathologic Cancer Detection"
     ]
    }
   ],
   "source": [
    "# submit to Kaggle\n",
    "!kaggle competitions submit -c histopathologic-cancer-detection -f {avg_TTA_path} -m f\"{model_name}_avg_TTA\"\n",
    "!kaggle competitions submit -c histopathologic-cancer-detection -f {avg_non_TTA_path} -m f\"{model_name}_avg_non_TTA\""
   ]
  },
  {
   "cell_type": "code",
   "execution_count": null,
   "metadata": {},
   "outputs": [],
   "source": []
  }
 ],
 "metadata": {
  "kernelspec": {
   "display_name": "Python 3",
   "language": "python",
   "name": "python3"
  },
  "language_info": {
   "codemirror_mode": {
    "name": "ipython",
    "version": 3
   },
   "file_extension": ".py",
   "mimetype": "text/x-python",
   "name": "python",
   "nbconvert_exporter": "python",
   "pygments_lexer": "ipython3",
   "version": "3.7.0"
  }
 },
 "nbformat": 4,
 "nbformat_minor": 2
}
