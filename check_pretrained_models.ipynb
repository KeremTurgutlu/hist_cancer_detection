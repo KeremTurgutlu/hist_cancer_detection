{
 "cells": [
  {
   "cell_type": "code",
   "execution_count": 7,
   "metadata": {},
   "outputs": [],
   "source": [
    "from fastai.vision import *\n",
    "from fastai.vision import models \n",
    "from fastai.vision.models import cadene_models \n",
    "from fastai.vision.learner import cnn_config"
   ]
  },
  {
   "cell_type": "markdown",
   "metadata": {},
   "source": [
    "**Note**: Some models have 4 layer groups, e.g. squeezenet"
   ]
  },
  {
   "cell_type": "code",
   "execution_count": 4,
   "metadata": {},
   "outputs": [],
   "source": [
    "path = untar_data(URLs.MNIST_TINY)\n",
    "data = ImageDataBunch.from_folder(path)"
   ]
  },
  {
   "cell_type": "code",
   "execution_count": 5,
   "metadata": {
    "scrolled": true
   },
   "outputs": [],
   "source": [
    "fastai_model_list = [m for m in dir(models) if m[:2] != '__']"
   ]
  },
  {
   "cell_type": "code",
   "execution_count": 6,
   "metadata": {
    "scrolled": true
   },
   "outputs": [
    {
     "data": {
      "text/plain": [
       "['BasicBlock',\n",
       " 'Darknet',\n",
       " 'DynamicUnet',\n",
       " 'ResLayer',\n",
       " 'ResNet',\n",
       " 'SqueezeNet',\n",
       " 'UnetBlock',\n",
       " 'WideResNet',\n",
       " 'XResNet',\n",
       " 'alexnet',\n",
       " 'cadene_models',\n",
       " 'darknet',\n",
       " 'densenet121',\n",
       " 'densenet161',\n",
       " 'densenet169',\n",
       " 'densenet201',\n",
       " 'resnet101',\n",
       " 'resnet152',\n",
       " 'resnet18',\n",
       " 'resnet34',\n",
       " 'resnet50',\n",
       " 'squeezenet1_0',\n",
       " 'squeezenet1_1',\n",
       " 'unet',\n",
       " 'vgg16_bn',\n",
       " 'vgg19_bn',\n",
       " 'wrn',\n",
       " 'wrn_22',\n",
       " 'xception',\n",
       " 'xresnet',\n",
       " 'xresnet101',\n",
       " 'xresnet152',\n",
       " 'xresnet18',\n",
       " 'xresnet34',\n",
       " 'xresnet50']"
      ]
     },
     "execution_count": 6,
     "metadata": {},
     "output_type": "execute_result"
    }
   ],
   "source": [
    "fastai_model_list"
   ]
  },
  {
   "cell_type": "code",
   "execution_count": 36,
   "metadata": {
    "scrolled": true
   },
   "outputs": [
    {
     "name": "stdout",
     "output_type": "stream",
     "text": [
      "got cadene model inceptionv4\n"
     ]
    },
    {
     "name": "stderr",
     "output_type": "stream",
     "text": [
      "Downloading: \"http://data.lip6.fr/cadene/pretrainedmodels/inceptionv4-8e4777a0.pth\" to /home/ubuntu/.torch/models/inceptionv4-8e4777a0.pth\n",
      "100%|██████████| 171082495/171082495 [00:18<00:00, 9477261.89it/s] \n"
     ]
    },
    {
     "name": "stdout",
     "output_type": "stream",
     "text": [
      "Leaner created successfully\n",
      "got cadene model inceptionresnetv2\n"
     ]
    },
    {
     "name": "stderr",
     "output_type": "stream",
     "text": [
      "Downloading: \"http://data.lip6.fr/cadene/pretrainedmodels/inceptionresnetv2-520b38e4.pth\" to /home/ubuntu/.torch/models/inceptionresnetv2-520b38e4.pth\n",
      "100%|██████████| 223774246/223774246 [00:23<00:00, 9596907.38it/s] \n"
     ]
    },
    {
     "name": "stdout",
     "output_type": "stream",
     "text": [
      "Leaner created successfully\n",
      "got cadene model nasnetamobile\n"
     ]
    },
    {
     "name": "stderr",
     "output_type": "stream",
     "text": [
      "Downloading: \"http://data.lip6.fr/cadene/pretrainedmodels/nasnetamobile-7e03cead.pth\" to /home/ubuntu/.torch/models/nasnetamobile-7e03cead.pth\n",
      "100%|██████████| 21483659/21483659 [00:03<00:00, 7093053.61it/s]\n"
     ]
    },
    {
     "name": "stdout",
     "output_type": "stream",
     "text": [
      "Leaner created successfully\n",
      "got cadene model dpn92\n"
     ]
    },
    {
     "name": "stderr",
     "output_type": "stream",
     "text": [
      "Downloading: \"http://data.lip6.fr/cadene/pretrainedmodels/dpn92_extra-fda993c95.pth\" to /home/ubuntu/.torch/models/dpn92_extra-fda993c95.pth\n",
      "100%|██████████| 151248424/151248424 [00:16<00:00, 9440060.44it/s] \n"
     ]
    },
    {
     "name": "stdout",
     "output_type": "stream",
     "text": [
      "Leaner created successfully\n",
      "got cadene model xception_cadene\n"
     ]
    },
    {
     "name": "stderr",
     "output_type": "stream",
     "text": [
      "Downloading: \"http://data.lip6.fr/cadene/pretrainedmodels/xception-43020ad28.pth\" to /home/ubuntu/.torch/models/xception-43020ad28.pth\n",
      "100%|██████████| 91675053/91675053 [00:10<00:00, 9115325.04it/s] \n"
     ]
    },
    {
     "name": "stdout",
     "output_type": "stream",
     "text": [
      "Leaner created successfully\n",
      "got cadene model se_resnet50\n"
     ]
    },
    {
     "name": "stderr",
     "output_type": "stream",
     "text": [
      "Downloading: \"http://data.lip6.fr/cadene/pretrainedmodels/se_resnet50-ce0d4300.pth\" to /home/ubuntu/.torch/models/se_resnet50-ce0d4300.pth\n",
      "100%|██████████| 112611220/112611220 [00:12<00:00, 9222981.03it/s] \n"
     ]
    },
    {
     "name": "stdout",
     "output_type": "stream",
     "text": [
      "Leaner created successfully\n",
      "got cadene model se_resnet101\n"
     ]
    },
    {
     "name": "stderr",
     "output_type": "stream",
     "text": [
      "Downloading: \"http://data.lip6.fr/cadene/pretrainedmodels/se_resnet101-7e38fcc6.pth\" to /home/ubuntu/.torch/models/se_resnet101-7e38fcc6.pth\n",
      "100%|██████████| 197822624/197822624 [00:20<00:00, 9486159.67it/s] \n"
     ]
    },
    {
     "name": "stdout",
     "output_type": "stream",
     "text": [
      "Leaner created successfully\n",
      "got cadene model se_resnext50_32x4d\n"
     ]
    },
    {
     "name": "stderr",
     "output_type": "stream",
     "text": [
      "Downloading: \"http://data.lip6.fr/cadene/pretrainedmodels/se_resnext50_32x4d-a260b3a4.pth\" to /home/ubuntu/.torch/models/se_resnext50_32x4d-a260b3a4.pth\n",
      "100%|██████████| 110559176/110559176 [00:12<00:00, 9104236.64it/s] \n"
     ]
    },
    {
     "name": "stdout",
     "output_type": "stream",
     "text": [
      "Leaner created successfully\n",
      "got cadene model senet154\n"
     ]
    },
    {
     "name": "stderr",
     "output_type": "stream",
     "text": [
      "Downloading: \"http://data.lip6.fr/cadene/pretrainedmodels/senet154-c7b49a05.pth\" to /home/ubuntu/.torch/models/senet154-c7b49a05.pth\n",
      "100%|██████████| 461488402/461488402 [00:48<00:00, 9572196.04it/s] \n"
     ]
    },
    {
     "name": "stdout",
     "output_type": "stream",
     "text": [
      "Leaner created successfully\n",
      "got cadene model pnasnet5large\n",
      "Leaner cannot be created with pnasnet5large\n",
      "got fastai model densenet201\n"
     ]
    },
    {
     "name": "stderr",
     "output_type": "stream",
     "text": [
      "/home/ubuntu/anaconda3/lib/python3.7/site-packages/torchvision/models/densenet.py:212: UserWarning: nn.init.kaiming_normal is now deprecated in favor of nn.init.kaiming_normal_.\n",
      "  nn.init.kaiming_normal(m.weight.data)\n",
      "Downloading: \"https://download.pytorch.org/models/densenet201-c1103571.pth\" to /home/ubuntu/.torch/models/densenet201-c1103571.pth\n",
      "100%|██████████| 81131730/81131730 [00:36<00:00, 2196575.53it/s]\n"
     ]
    },
    {
     "name": "stdout",
     "output_type": "stream",
     "text": [
      "Leaner created successfully\n",
      "got fastai model resnet152\n"
     ]
    },
    {
     "name": "stderr",
     "output_type": "stream",
     "text": [
      "Downloading: \"https://download.pytorch.org/models/resnet152-b121ed2d.pth\" to /home/ubuntu/.torch/models/resnet152-b121ed2d.pth\n",
      "100%|██████████| 241530880/241530880 [00:08<00:00, 29557417.32it/s]\n"
     ]
    },
    {
     "name": "stdout",
     "output_type": "stream",
     "text": [
      "Leaner created successfully\n",
      "got fastai model resnet18\n",
      "Leaner created successfully\n",
      "got fastai model resnet50\n",
      "Leaner created successfully\n",
      "got fastai model squeezenet1_0\n"
     ]
    },
    {
     "name": "stderr",
     "output_type": "stream",
     "text": [
      "/home/ubuntu/anaconda3/lib/python3.7/site-packages/torchvision/models/squeezenet.py:94: UserWarning: nn.init.kaiming_uniform is now deprecated in favor of nn.init.kaiming_uniform_.\n",
      "  init.kaiming_uniform(m.weight.data)\n",
      "/home/ubuntu/anaconda3/lib/python3.7/site-packages/torchvision/models/squeezenet.py:92: UserWarning: nn.init.normal is now deprecated in favor of nn.init.normal_.\n",
      "  init.normal(m.weight.data, mean=0.0, std=0.01)\n",
      "Downloading: \"https://download.pytorch.org/models/squeezenet1_0-a815701f.pth\" to /home/ubuntu/.torch/models/squeezenet1_0-a815701f.pth\n",
      "100%|██████████| 5017600/5017600 [00:00<00:00, 7530659.70it/s]\n",
      "Downloading: \"https://download.pytorch.org/models/squeezenet1_1-f364aa15.pth\" to /home/ubuntu/.torch/models/squeezenet1_1-f364aa15.pth\n"
     ]
    },
    {
     "name": "stdout",
     "output_type": "stream",
     "text": [
      "Leaner created successfully\n",
      "got fastai model squeezenet1_1\n"
     ]
    },
    {
     "name": "stderr",
     "output_type": "stream",
     "text": [
      "100%|██████████| 4966400/4966400 [00:00<00:00, 8466646.26it/s]\n"
     ]
    },
    {
     "name": "stdout",
     "output_type": "stream",
     "text": [
      "Leaner created successfully\n",
      "got fastai model wrn\n",
      "Leaner cannot be created with wrn\n",
      "got fastai model wrn_22\n",
      "Leaner cannot be created with wrn_22\n",
      "got fastai model xception\n",
      "Leaner cannot be created with xception\n",
      "got fastai model xresnet152\n",
      "Leaner cannot be created with xresnet152\n",
      "got fastai model xresnet18\n",
      "Leaner cannot be created with xresnet18\n",
      "got fastai model xresnet50\n",
      "Leaner cannot be created with xresnet50\n"
     ]
    }
   ],
   "source": [
    "full_model_list = cadene_model_list + fastai_model_list\n",
    "\n",
    "for model_name in full_model_list:\n",
    "    try:\n",
    "        arch = getattr(models, model_name)\n",
    "        print(f\"got fastai model {model_name}\")\n",
    "    except:\n",
    "        arch = getattr(cadene_models, model_name)\n",
    "        print(f\"got cadene model {model_name}\")\n",
    "    try:\n",
    "        learn = cnn_learner(data, base_arch=arch, metrics=[accuracy, error_rate])\n",
    "        print(\"Leaner created successfully\")\n",
    "    except:\n",
    "        print(f\"Leaner cannot be created with {model_name}\")    "
   ]
  },
  {
   "cell_type": "code",
   "execution_count": null,
   "metadata": {},
   "outputs": [],
   "source": []
  },
  {
   "cell_type": "code",
   "execution_count": null,
   "metadata": {},
   "outputs": [],
   "source": []
  },
  {
   "cell_type": "code",
   "execution_count": null,
   "metadata": {},
   "outputs": [],
   "source": []
  },
  {
   "cell_type": "code",
   "execution_count": null,
   "metadata": {},
   "outputs": [],
   "source": []
  },
  {
   "cell_type": "code",
   "execution_count": null,
   "metadata": {},
   "outputs": [],
   "source": []
  },
  {
   "cell_type": "code",
   "execution_count": null,
   "metadata": {},
   "outputs": [],
   "source": []
  },
  {
   "cell_type": "code",
   "execution_count": null,
   "metadata": {},
   "outputs": [],
   "source": []
  },
  {
   "cell_type": "code",
   "execution_count": null,
   "metadata": {},
   "outputs": [],
   "source": []
  },
  {
   "cell_type": "code",
   "execution_count": null,
   "metadata": {},
   "outputs": [],
   "source": []
  },
  {
   "cell_type": "code",
   "execution_count": null,
   "metadata": {},
   "outputs": [],
   "source": []
  },
  {
   "cell_type": "code",
   "execution_count": null,
   "metadata": {},
   "outputs": [],
   "source": []
  },
  {
   "cell_type": "code",
   "execution_count": null,
   "metadata": {},
   "outputs": [],
   "source": []
  },
  {
   "cell_type": "code",
   "execution_count": null,
   "metadata": {},
   "outputs": [],
   "source": []
  },
  {
   "cell_type": "code",
   "execution_count": null,
   "metadata": {},
   "outputs": [],
   "source": []
  }
 ],
 "metadata": {
  "kernelspec": {
   "display_name": "Python 3",
   "language": "python",
   "name": "python3"
  },
  "language_info": {
   "codemirror_mode": {
    "name": "ipython",
    "version": 3
   },
   "file_extension": ".py",
   "mimetype": "text/x-python",
   "name": "python",
   "nbconvert_exporter": "python",
   "pygments_lexer": "ipython3",
   "version": "3.7.2"
  }
 },
 "nbformat": 4,
 "nbformat_minor": 2
}
