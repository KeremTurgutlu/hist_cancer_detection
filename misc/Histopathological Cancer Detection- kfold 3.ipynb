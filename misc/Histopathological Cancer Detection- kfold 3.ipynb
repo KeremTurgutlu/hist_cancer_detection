{
 "cells": [
  {
   "cell_type": "markdown",
   "metadata": {},
   "source": [
    "https://camelyon16.grand-challenge.org/Data"
   ]
  },
  {
   "cell_type": "code",
   "execution_count": 1,
   "metadata": {},
   "outputs": [],
   "source": [
    "%load_ext autoreload\n",
    "%autoreload 2"
   ]
  },
  {
   "cell_type": "code",
   "execution_count": 2,
   "metadata": {
    "scrolled": true
   },
   "outputs": [],
   "source": [
    "import warnings\n",
    "warnings.filterwarnings('ignore')"
   ]
  },
  {
   "cell_type": "code",
   "execution_count": 3,
   "metadata": {},
   "outputs": [],
   "source": [
    "from fastai.vision import *\n",
    "sys.path.append(\"dev/\")"
   ]
  },
  {
   "cell_type": "code",
   "execution_count": 4,
   "metadata": {},
   "outputs": [],
   "source": [
    "path = Path('../data/histopathologic/')"
   ]
  },
  {
   "cell_type": "code",
   "execution_count": 5,
   "metadata": {},
   "outputs": [
    {
     "data": {
      "text/plain": [
       "[PosixPath('../data/histopathologic/train'),\n",
       " PosixPath('../data/histopathologic/sample_submission.csv'),\n",
       " PosixPath('../data/histopathologic/train_labels.csv'),\n",
       " PosixPath('../data/histopathologic/logs'),\n",
       " PosixPath('../data/histopathologic/models'),\n",
       " PosixPath('../data/histopathologic/test')]"
      ]
     },
     "execution_count": 5,
     "metadata": {},
     "output_type": "execute_result"
    }
   ],
   "source": [
    "path.ls()"
   ]
  },
  {
   "cell_type": "code",
   "execution_count": 6,
   "metadata": {},
   "outputs": [
    {
     "data": {
      "text/plain": [
       "(220025, 57458)"
      ]
     },
     "execution_count": 6,
     "metadata": {},
     "output_type": "execute_result"
    }
   ],
   "source": [
    "len((path/'train').ls()), len((path/'test').ls())"
   ]
  },
  {
   "cell_type": "markdown",
   "metadata": {},
   "source": [
    "### data"
   ]
  },
  {
   "cell_type": "markdown",
   "metadata": {},
   "source": [
    "**Important note:** resizing happens before tfms"
   ]
  },
  {
   "cell_type": "code",
   "execution_count": 7,
   "metadata": {},
   "outputs": [],
   "source": [
    "# For each id in the test set, you must predict a probability that\n",
    "# center 32x32px region of a patch contains at least one pixel of tumor tissue. \n",
    "from fastai.vision.transform import _crop_default\n",
    "def _rand_center_crop(x, a=40, b=96):\n",
    "    \"x: tensor, center crop an image creating a patch randomly between a,b\"\n",
    "    crop_sz = np.random.randint(a,b)\n",
    "    return _crop_default(x, crop_sz)\n",
    "\n",
    "def _rand_center_crop_and_resize(x, a=40, b=96, targ_sz=(96, 96)):\n",
    "    \"x: tensor, center crop an image creating a patch randomly between a,b with a tuple targ_sz\"\n",
    "    crop_sz = np.random.randint(a,b)\n",
    "    x = _crop_default(x, crop_sz)\n",
    "    return Image(x).resize((x.shape[0],) + targ_sz).data\n",
    "\n",
    "center_crop = TfmPixel(_rand_center_crop)\n",
    "center_crop_and_resize = TfmPixel(_rand_center_crop_and_resize)\n",
    "center_crop.order = 0\n",
    "center_crop_and_resize.order = 0\n",
    "center_crop_tfm, center_crop_and_resize_tfm = center_crop(p=1.), center_crop_and_resize(p=1.)"
   ]
  },
  {
   "cell_type": "markdown",
   "metadata": {},
   "source": [
    "### cv data"
   ]
  },
  {
   "cell_type": "code",
   "execution_count": 8,
   "metadata": {},
   "outputs": [],
   "source": [
    "from sklearn.model_selection import KFold"
   ]
  },
  {
   "cell_type": "code",
   "execution_count": 9,
   "metadata": {},
   "outputs": [],
   "source": [
    "kfold = KFold(5, random_state=42)\n",
    "n_train = len((path/'train').ls())\n",
    "cv_idxs = kfold.split(X=range(n_train))\n",
    "df = pd.read_csv(path/'train_labels.csv')\n",
    "\n",
    "def get_data(trn_idx, val_idx):\n",
    "    tfms = get_transforms(True, True, max_rotate=None, max_zoom=1., max_lighting=None,\n",
    "                      max_warp=0, p_affine=0.5, p_lighting=0.5, xtra_tfms=[])\n",
    "    data = (ImageList.from_df(df=df, path=path, folder='train', suffix='.tif')\n",
    "        .split_by_idx(valid_idx=val_idx)\n",
    "        .label_from_lists(train_labels=list(df['label'].iloc[trn_idx].values),\n",
    "                                        valid_labels=list(df['label'].iloc[val_idx].values))\n",
    "        .transform(tfms)\n",
    "        .databunch()\n",
    "        .normalize(imagenet_stats))\n",
    "    data.add_test(ImageList.from_folder(path/'test'))\n",
    "    return data"
   ]
  },
  {
   "cell_type": "code",
   "execution_count": 10,
   "metadata": {},
   "outputs": [],
   "source": [
    "cv_data = [get_data(*idxs) for idxs in cv_idxs]"
   ]
  },
  {
   "cell_type": "code",
   "execution_count": 11,
   "metadata": {},
   "outputs": [
    {
     "data": {
      "text/plain": [
       "5"
      ]
     },
     "execution_count": 11,
     "metadata": {},
     "output_type": "execute_result"
    }
   ],
   "source": [
    "len(cv_data)"
   ]
  },
  {
   "cell_type": "markdown",
   "metadata": {},
   "source": [
    "### model"
   ]
  },
  {
   "cell_type": "code",
   "execution_count": 12,
   "metadata": {},
   "outputs": [],
   "source": [
    "from metric_utils import AUC\n",
    "from fastai.callbacks import *"
   ]
  },
  {
   "cell_type": "code",
   "execution_count": 13,
   "metadata": {},
   "outputs": [],
   "source": [
    "i = 3\n",
    "fold_num = i\n",
    "fold_data = cv_data[i]"
   ]
  },
  {
   "cell_type": "code",
   "execution_count": 14,
   "metadata": {},
   "outputs": [],
   "source": [
    "auc = AUC()\n",
    "arch = models.vgg16_bn\n",
    "model_name = arch.__name__ \n",
    "os.makedirs(path/f'models/best_of_{model_name}', exist_ok=True)\n",
    "learn_callbacks = TerminateOnNaNCallback()\n",
    "learn_callback_fns = [partial(EarlyStoppingCallback, monitor='auc', mode='max', patience=2),\n",
    "                      partial(SaveModelCallback, monitor='auc', mode='max', every='improvement',\n",
    "                              name=f'best_of_{model_name}/fold{fold_num}'),\n",
    "                      partial(CSVLogger, filename=f'logs/{model_name}')]"
   ]
  },
  {
   "cell_type": "code",
   "execution_count": 15,
   "metadata": {},
   "outputs": [],
   "source": [
    "learn = cnn_learner(data=fold_data, base_arch=arch, metrics=[accuracy, auc], callbacks=learn_callbacks,\n",
    "                   callback_fns=learn_callback_fns)"
   ]
  },
  {
   "cell_type": "code",
   "execution_count": 16,
   "metadata": {},
   "outputs": [
    {
     "data": {
      "text/html": [],
      "text/plain": [
       "<IPython.core.display.HTML object>"
      ]
     },
     "metadata": {},
     "output_type": "display_data"
    },
    {
     "name": "stdout",
     "output_type": "stream",
     "text": [
      "LR Finder is complete, type {learner_name}.recorder.plot() to see the graph.\n",
      "Min numerical gradient: 7.59E-03\n"
     ]
    },
    {
     "data": {
      "image/png": "[encoded data removed]",
      "text/plain": [
       "<Figure size 432x288 with 1 Axes>"
      ]
     },
     "metadata": {
      "needs_background": "light"
     },
     "output_type": "display_data"
    }
   ],
   "source": [
    "learn.lr_find()\n",
    "learn.recorder.plot(suggestion=True, k=5)\n",
    "max_lr = learn.recorder.min_grad_lr"
   ]
  },
  {
   "cell_type": "code",
   "execution_count": 17,
   "metadata": {
    "scrolled": true
   },
   "outputs": [
    {
     "data": {
      "text/html": [
       "\n",
       "    <div>\n",
       "        <style>\n",
       "            /* Turns off some styling */\n",
       "            progress {\n",
       "                /* gets rid of default border in Firefox and Opera. */\n",
       "                border: none;\n",
       "                /* Needs to be in here for Safari polyfill so background images work as expected. */\n",
       "                background-size: auto;\n",
       "            }\n",
       "            .progress-bar-interrupted, .progress-bar-interrupted::-webkit-progress-bar {\n",
       "                background: #F44336;\n",
       "            }\n",
       "        </style>\n",
       "      <progress value='7' class='' max='50', style='width:300px; height:20px; vertical-align: middle;'></progress>\n",
       "      14.00% [7/50 1:20:47<8:16:20]\n",
       "    </div>\n",
       "    \n",
       "<table style='width:450px; margin-bottom:10px'>\n",
       "  <tr>\n",
       "    <th>epoch</th>\n",
       "    <th>train_loss</th>\n",
       "    <th>valid_loss</th>\n",
       "    <th>accuracy</th>\n",
       "    <th>auc</th>\n",
       "    <th>time</th>\n",
       "  </tr>\n",
       "  <tr>\n",
       "    <th>0</th>\n",
       "    <th>0.212398</th>\n",
       "    <th>0.183683</th>\n",
       "    <th>0.930803</th>\n",
       "    <th>0.971808</th>\n",
       "    <th>11:39</th>\n",
       "  </tr>\n",
       "  <tr>\n",
       "    <th>1</th>\n",
       "    <th>0.187585</th>\n",
       "    <th>0.167296</th>\n",
       "    <th>0.936007</th>\n",
       "    <th>0.981252</th>\n",
       "    <th>11:45</th>\n",
       "  </tr>\n",
       "  <tr>\n",
       "    <th>2</th>\n",
       "    <th>0.171522</th>\n",
       "    <th>0.144987</th>\n",
       "    <th>0.946801</th>\n",
       "    <th>0.984627</th>\n",
       "    <th>11:46</th>\n",
       "  </tr>\n",
       "  <tr>\n",
       "    <th>3</th>\n",
       "    <th>0.164578</th>\n",
       "    <th>0.137076</th>\n",
       "    <th>0.949188</th>\n",
       "    <th>0.986167</th>\n",
       "    <th>11:45</th>\n",
       "  </tr>\n",
       "  <tr>\n",
       "    <th>4</th>\n",
       "    <th>0.164503</th>\n",
       "    <th>0.136060</th>\n",
       "    <th>0.949528</th>\n",
       "    <th>0.987062</th>\n",
       "    <th>11:29</th>\n",
       "  </tr>\n",
       "  <tr>\n",
       "    <th>5</th>\n",
       "    <th>0.163504</th>\n",
       "    <th>0.151738</th>\n",
       "    <th>0.943643</th>\n",
       "    <th>0.985083</th>\n",
       "    <th>10:32</th>\n",
       "  </tr>\n",
       "  <tr>\n",
       "    <th>6</th>\n",
       "    <th>0.169565</th>\n",
       "    <th>0.146966</th>\n",
       "    <th>0.945393</th>\n",
       "    <th>0.985699</th>\n",
       "    <th>11:47</th>\n",
       "  </tr>\n",
       "</table>\n",
       "\n",
       "\n",
       "    <div>\n",
       "        <style>\n",
       "            /* Turns off some styling */\n",
       "            progress {\n",
       "                /* gets rid of default border in Firefox and Opera. */\n",
       "                border: none;\n",
       "                /* Needs to be in here for Safari polyfill so background images work as expected. */\n",
       "                background-size: auto;\n",
       "            }\n",
       "            .progress-bar-interrupted, .progress-bar-interrupted::-webkit-progress-bar {\n",
       "                background: #F44336;\n",
       "            }\n",
       "        </style>\n",
       "      <progress value='688' class='' max='688', style='width:300px; height:20px; vertical-align: middle;'></progress>\n",
       "      100.00% [688/688 01:29<00:00]\n",
       "    </div>\n",
       "    "
      ],
      "text/plain": [
       "<IPython.core.display.HTML object>"
      ]
     },
     "metadata": {},
     "output_type": "display_data"
    },
    {
     "name": "stdout",
     "output_type": "stream",
     "text": [
      "Better model found at epoch 0 with auc value: 0.9718083818814268.\n",
      "Better model found at epoch 1 with auc value: 0.9812522065040756.\n",
      "Better model found at epoch 2 with auc value: 0.98462660721181.\n",
      "Better model found at epoch 3 with auc value: 0.9861670450891448.\n",
      "Better model found at epoch 4 with auc value: 0.9870616876838942.\n",
      "Epoch 7: early stopping\n"
     ]
    }
   ],
   "source": [
    "learn.fit_one_cycle(50, max_lr=max_lr)"
   ]
  },
  {
   "cell_type": "code",
   "execution_count": 18,
   "metadata": {},
   "outputs": [
    {
     "data": {
      "text/html": [],
      "text/plain": [
       "<IPython.core.display.HTML object>"
      ]
     },
     "metadata": {},
     "output_type": "display_data"
    },
    {
     "name": "stdout",
     "output_type": "stream",
     "text": [
      "LR Finder is complete, type {learner_name}.recorder.plot() to see the graph.\n",
      "Min numerical gradient: 1.74E-05\n"
     ]
    },
    {
     "data": {
      "image/png": "[encoded data removed]",
      "text/plain": [
       "<Figure size 432x288 with 1 Axes>"
      ]
     },
     "metadata": {
      "needs_background": "light"
     },
     "output_type": "display_data"
    }
   ],
   "source": [
    "learn.freeze_to(1)\n",
    "learn.lr_find()\n",
    "learn.recorder.plot(suggestion=True, k=5)\n",
    "max_lr = learn.recorder.min_grad_lr"
   ]
  },
  {
   "cell_type": "code",
   "execution_count": 19,
   "metadata": {
    "scrolled": true
   },
   "outputs": [
    {
     "data": {
      "text/html": [
       "Total time: 4:27:11 <p><table style='width:450px; margin-bottom:10px'>\n",
       "  <tr>\n",
       "    <th>epoch</th>\n",
       "    <th>train_loss</th>\n",
       "    <th>valid_loss</th>\n",
       "    <th>accuracy</th>\n",
       "    <th>auc</th>\n",
       "    <th>time</th>\n",
       "  </tr>\n",
       "  <tr>\n",
       "    <th>0</th>\n",
       "    <th>0.151745</th>\n",
       "    <th>0.128768</th>\n",
       "    <th>0.952733</th>\n",
       "    <th>0.988365</th>\n",
       "    <th>13:18</th>\n",
       "  </tr>\n",
       "  <tr>\n",
       "    <th>1</th>\n",
       "    <th>0.143800</th>\n",
       "    <th>0.122805</th>\n",
       "    <th>0.955028</th>\n",
       "    <th>0.989324</th>\n",
       "    <th>13:21</th>\n",
       "  </tr>\n",
       "  <tr>\n",
       "    <th>2</th>\n",
       "    <th>0.152088</th>\n",
       "    <th>0.118303</th>\n",
       "    <th>0.957664</th>\n",
       "    <th>0.990150</th>\n",
       "    <th>13:21</th>\n",
       "  </tr>\n",
       "  <tr>\n",
       "    <th>3</th>\n",
       "    <th>0.121245</th>\n",
       "    <th>0.111606</th>\n",
       "    <th>0.960118</th>\n",
       "    <th>0.990897</th>\n",
       "    <th>13:20</th>\n",
       "  </tr>\n",
       "  <tr>\n",
       "    <th>4</th>\n",
       "    <th>0.127301</th>\n",
       "    <th>0.107642</th>\n",
       "    <th>0.960686</th>\n",
       "    <th>0.991653</th>\n",
       "    <th>13:19</th>\n",
       "  </tr>\n",
       "  <tr>\n",
       "    <th>5</th>\n",
       "    <th>0.115301</th>\n",
       "    <th>0.103359</th>\n",
       "    <th>0.962663</th>\n",
       "    <th>0.992342</th>\n",
       "    <th>13:19</th>\n",
       "  </tr>\n",
       "  <tr>\n",
       "    <th>6</th>\n",
       "    <th>0.113094</th>\n",
       "    <th>0.101430</th>\n",
       "    <th>0.963300</th>\n",
       "    <th>0.992370</th>\n",
       "    <th>13:19</th>\n",
       "  </tr>\n",
       "  <tr>\n",
       "    <th>7</th>\n",
       "    <th>0.109541</th>\n",
       "    <th>0.098190</th>\n",
       "    <th>0.964481</th>\n",
       "    <th>0.992953</th>\n",
       "    <th>13:20</th>\n",
       "  </tr>\n",
       "  <tr>\n",
       "    <th>8</th>\n",
       "    <th>0.104995</th>\n",
       "    <th>0.094916</th>\n",
       "    <th>0.966254</th>\n",
       "    <th>0.993341</th>\n",
       "    <th>13:20</th>\n",
       "  </tr>\n",
       "  <tr>\n",
       "    <th>9</th>\n",
       "    <th>0.111028</th>\n",
       "    <th>0.094589</th>\n",
       "    <th>0.966140</th>\n",
       "    <th>0.993408</th>\n",
       "    <th>13:19</th>\n",
       "  </tr>\n",
       "  <tr>\n",
       "    <th>10</th>\n",
       "    <th>0.099420</th>\n",
       "    <th>0.092531</th>\n",
       "    <th>0.967526</th>\n",
       "    <th>0.993591</th>\n",
       "    <th>13:19</th>\n",
       "  </tr>\n",
       "  <tr>\n",
       "    <th>11</th>\n",
       "    <th>0.092610</th>\n",
       "    <th>0.091018</th>\n",
       "    <th>0.967754</th>\n",
       "    <th>0.993918</th>\n",
       "    <th>13:20</th>\n",
       "  </tr>\n",
       "  <tr>\n",
       "    <th>12</th>\n",
       "    <th>0.087076</th>\n",
       "    <th>0.088515</th>\n",
       "    <th>0.969163</th>\n",
       "    <th>0.994037</th>\n",
       "    <th>13:19</th>\n",
       "  </tr>\n",
       "  <tr>\n",
       "    <th>13</th>\n",
       "    <th>0.092648</th>\n",
       "    <th>0.087387</th>\n",
       "    <th>0.969640</th>\n",
       "    <th>0.994240</th>\n",
       "    <th>13:11</th>\n",
       "  </tr>\n",
       "  <tr>\n",
       "    <th>14</th>\n",
       "    <th>0.087611</th>\n",
       "    <th>0.087694</th>\n",
       "    <th>0.969276</th>\n",
       "    <th>0.994098</th>\n",
       "    <th>13:27</th>\n",
       "  </tr>\n",
       "  <tr>\n",
       "    <th>15</th>\n",
       "    <th>0.085781</th>\n",
       "    <th>0.085909</th>\n",
       "    <th>0.969640</th>\n",
       "    <th>0.994402</th>\n",
       "    <th>13:29</th>\n",
       "  </tr>\n",
       "  <tr>\n",
       "    <th>16</th>\n",
       "    <th>0.081270</th>\n",
       "    <th>0.086138</th>\n",
       "    <th>0.969890</th>\n",
       "    <th>0.994336</th>\n",
       "    <th>13:34</th>\n",
       "  </tr>\n",
       "  <tr>\n",
       "    <th>17</th>\n",
       "    <th>0.086969</th>\n",
       "    <th>0.085937</th>\n",
       "    <th>0.970094</th>\n",
       "    <th>0.994326</th>\n",
       "    <th>13:28</th>\n",
       "  </tr>\n",
       "  <tr>\n",
       "    <th>18</th>\n",
       "    <th>0.083032</th>\n",
       "    <th>0.085418</th>\n",
       "    <th>0.970322</th>\n",
       "    <th>0.994485</th>\n",
       "    <th>13:28</th>\n",
       "  </tr>\n",
       "  <tr>\n",
       "    <th>19</th>\n",
       "    <th>0.084534</th>\n",
       "    <th>0.086258</th>\n",
       "    <th>0.970072</th>\n",
       "    <th>0.994387</th>\n",
       "    <th>13:03</th>\n",
       "  </tr>\n",
       "</table>\n"
      ],
      "text/plain": [
       "<IPython.core.display.HTML object>"
      ]
     },
     "metadata": {},
     "output_type": "display_data"
    },
    {
     "name": "stdout",
     "output_type": "stream",
     "text": [
      "Better model found at epoch 0 with auc value: 0.9883648063774657.\n",
      "Better model found at epoch 1 with auc value: 0.9893238387511127.\n",
      "Better model found at epoch 2 with auc value: 0.9901498670795044.\n",
      "Better model found at epoch 3 with auc value: 0.9908974325513995.\n",
      "Better model found at epoch 4 with auc value: 0.9916528038162598.\n",
      "Better model found at epoch 5 with auc value: 0.9923416954950719.\n",
      "Better model found at epoch 6 with auc value: 0.9923702722189205.\n",
      "Better model found at epoch 7 with auc value: 0.9929532108888971.\n",
      "Better model found at epoch 8 with auc value: 0.9933410464026804.\n",
      "Better model found at epoch 9 with auc value: 0.9934084640514471.\n",
      "Better model found at epoch 10 with auc value: 0.9935912452516773.\n",
      "Better model found at epoch 11 with auc value: 0.9939181825457485.\n",
      "Better model found at epoch 12 with auc value: 0.9940370130830004.\n",
      "Better model found at epoch 13 with auc value: 0.9942398119860766.\n",
      "Better model found at epoch 15 with auc value: 0.9944024408639814.\n",
      "Better model found at epoch 18 with auc value: 0.994485494672075.\n"
     ]
    }
   ],
   "source": [
    "learn.fit_one_cycle(20, max_lr=[max_lr/10, max_lr/3, max_lr])"
   ]
  },
  {
   "cell_type": "code",
   "execution_count": 20,
   "metadata": {},
   "outputs": [
    {
     "data": {
      "text/html": [],
      "text/plain": [
       "<IPython.core.display.HTML object>"
      ]
     },
     "metadata": {},
     "output_type": "display_data"
    },
    {
     "name": "stdout",
     "output_type": "stream",
     "text": [
      "LR Finder is complete, type {learner_name}.recorder.plot() to see the graph.\n",
      "Min numerical gradient: 6.31E-07\n"
     ]
    },
    {
     "data": {
      "text/html": [
       "\n",
       "    <div>\n",
       "        <style>\n",
       "            /* Turns off some styling */\n",
       "            progress {\n",
       "                /* gets rid of default border in Firefox and Opera. */\n",
       "                border: none;\n",
       "                /* Needs to be in here for Safari polyfill so background images work as expected. */\n",
       "                background-size: auto;\n",
       "            }\n",
       "            .progress-bar-interrupted, .progress-bar-interrupted::-webkit-progress-bar {\n",
       "                background: #F44336;\n",
       "            }\n",
       "        </style>\n",
       "      <progress value='4' class='' max='5', style='width:300px; height:20px; vertical-align: middle;'></progress>\n",
       "      80.00% [4/5 57:40<14:25]\n",
       "    </div>\n",
       "    \n",
       "<table style='width:450px; margin-bottom:10px'>\n",
       "  <tr>\n",
       "    <th>epoch</th>\n",
       "    <th>train_loss</th>\n",
       "    <th>valid_loss</th>\n",
       "    <th>accuracy</th>\n",
       "    <th>auc</th>\n",
       "    <th>time</th>\n",
       "  </tr>\n",
       "  <tr>\n",
       "    <th>0</th>\n",
       "    <th>0.081326</th>\n",
       "    <th>0.085478</th>\n",
       "    <th>0.970276</th>\n",
       "    <th>0.994436</th>\n",
       "    <th>14:08</th>\n",
       "  </tr>\n",
       "  <tr>\n",
       "    <th>1</th>\n",
       "    <th>0.088158</th>\n",
       "    <th>0.085923</th>\n",
       "    <th>0.970322</th>\n",
       "    <th>0.994455</th>\n",
       "    <th>14:08</th>\n",
       "  </tr>\n",
       "  <tr>\n",
       "    <th>2</th>\n",
       "    <th>0.084793</th>\n",
       "    <th>0.086169</th>\n",
       "    <th>0.969981</th>\n",
       "    <th>0.994384</th>\n",
       "    <th>14:27</th>\n",
       "  </tr>\n",
       "  <tr>\n",
       "    <th>3</th>\n",
       "    <th>0.080650</th>\n",
       "    <th>0.086133</th>\n",
       "    <th>0.969731</th>\n",
       "    <th>0.994385</th>\n",
       "    <th>14:55</th>\n",
       "  </tr>\n",
       "</table>\n",
       "\n",
       "\n",
       "    <div>\n",
       "        <style>\n",
       "            /* Turns off some styling */\n",
       "            progress {\n",
       "                /* gets rid of default border in Firefox and Opera. */\n",
       "                border: none;\n",
       "                /* Needs to be in here for Safari polyfill so background images work as expected. */\n",
       "                background-size: auto;\n",
       "            }\n",
       "            .progress-bar-interrupted, .progress-bar-interrupted::-webkit-progress-bar {\n",
       "                background: #F44336;\n",
       "            }\n",
       "        </style>\n",
       "      <progress value='688' class='' max='688', style='width:300px; height:20px; vertical-align: middle;'></progress>\n",
       "      100.00% [688/688 00:48<00:00]\n",
       "    </div>\n",
       "    "
      ],
      "text/plain": [
       "<IPython.core.display.HTML object>"
      ]
     },
     "metadata": {},
     "output_type": "display_data"
    },
    {
     "name": "stdout",
     "output_type": "stream",
     "text": [
      "Better model found at epoch 0 with auc value: 0.9944363500149703.\n",
      "Better model found at epoch 1 with auc value: 0.9944550193862091.\n",
      "Epoch 4: early stopping\n"
     ]
    },
    {
     "data": {
      "image/png": "[encoded data removed]",
      "text/plain": [
       "<Figure size 432x288 with 1 Axes>"
      ]
     },
     "metadata": {
      "needs_background": "light"
     },
     "output_type": "display_data"
    }
   ],
   "source": [
    "learn.unfreeze()\n",
    "learn.lr_find()\n",
    "learn.recorder.plot(suggestion=True, k=5)\n",
    "max_lr = learn.recorder.min_grad_lr\n",
    "learn.fit_one_cycle(5, max_lr=[max_lr/10, max_lr/3, max_lr])"
   ]
  },
  {
   "cell_type": "markdown",
   "metadata": {},
   "source": [
    "### interpret"
   ]
  },
  {
   "cell_type": "code",
   "execution_count": 51,
   "metadata": {},
   "outputs": [],
   "source": [
    "# reset callbacks - this fails with get_preds\n",
    "learn.callbacks = []"
   ]
  },
  {
   "cell_type": "code",
   "execution_count": 52,
   "metadata": {},
   "outputs": [],
   "source": [
    "interp = ClassificationInterpretation.from_learner(learn, ds_type=DatasetType.Valid)"
   ]
  },
  {
   "cell_type": "code",
   "execution_count": 53,
   "metadata": {},
   "outputs": [
    {
     "data": {
      "image/png": "[encoded data removed]",
      "text/plain": [
       "<Figure size 432x288 with 1 Axes>"
      ]
     },
     "metadata": {
      "needs_background": "light"
     },
     "output_type": "display_data"
    }
   ],
   "source": [
    "interp.plot_confusion_matrix()"
   ]
  },
  {
   "cell_type": "markdown",
   "metadata": {},
   "source": [
    "### predict"
   ]
  },
  {
   "cell_type": "code",
   "execution_count": 54,
   "metadata": {},
   "outputs": [
    {
     "data": {
      "text/plain": [
       "{0: 0, 1: 1}"
      ]
     },
     "execution_count": 54,
     "metadata": {},
     "output_type": "execute_result"
    }
   ],
   "source": [
    "learn.data.train_ds.y.c2i"
   ]
  },
  {
   "cell_type": "code",
   "execution_count": 55,
   "metadata": {},
   "outputs": [],
   "source": [
    "test_preds = learn.get_preds(ds_type=DatasetType.Test)\n",
    "\n",
    "# pred outputs and dummy labels\n",
    "probas, _ = test_preds\n",
    "sample_submission = pd.read_csv(path/'sample_submission.csv')\n",
    "labels = [o.item() for o in probas[:,1]]\n",
    "names = [o.name.split('.')[0] for o in data.test_ds.items]\n",
    "sample_submission['label'] = sample_submission['id'].map(dict(zip(names, labels)))\n",
    "sample_submission.to_csv(path/f\"best_of_{model_name}.csv\", index=False)"
   ]
  },
  {
   "cell_type": "code",
   "execution_count": 56,
   "metadata": {},
   "outputs": [
    {
     "name": "stdout",
     "output_type": "stream",
     "text": [
      "100%|███████████████████████████████████████| 3.36M/3.36M [00:03<00:00, 882kB/s]\n",
      "Successfully submitted to Histopathologic Cancer Detection"
     ]
    }
   ],
   "source": [
    "!kaggle competitions submit -c histopathologic-cancer-detection -f \"{path}/models/best_of_{model_name}.csv\" -m \"init\""
   ]
  },
  {
   "cell_type": "markdown",
   "metadata": {},
   "source": [
    "### TTA"
   ]
  },
  {
   "cell_type": "code",
   "execution_count": 57,
   "metadata": {},
   "outputs": [
    {
     "data": {
      "text/html": [
       "Total time: 02:52 <p>"
      ],
      "text/plain": [
       "<IPython.core.display.HTML object>"
      ]
     },
     "metadata": {},
     "output_type": "display_data"
    }
   ],
   "source": [
    "outs = learn.TTA(ds_type=DatasetType.Test)"
   ]
  },
  {
   "cell_type": "code",
   "execution_count": 58,
   "metadata": {},
   "outputs": [],
   "source": [
    "# pred outputs and dummy labels\n",
    "probas, _ = outs\n",
    "\n",
    "sample_submission = pd.read_csv(path/'sample_submission.csv')\n",
    "labels = [o.item() for o in probas[:,1]]\n",
    "names = [o.name.split('.')[0] for o in data.test_ds.items]\n",
    "sample_submission['label'] = sample_submission['id'].map(dict(zip(names, labels)))\n",
    "sample_submission.to_csv(path/f\"best_of_{model_name}_tta.csv\", index=False)"
   ]
  },
  {
   "cell_type": "code",
   "execution_count": 60,
   "metadata": {},
   "outputs": [
    {
     "name": "stdout",
     "output_type": "stream",
     "text": [
      "100%|███████████████████████████████████████| 3.34M/3.34M [00:03<00:00, 975kB/s]\n",
      "Successfully submitted to Histopathologic Cancer Detection"
     ]
    }
   ],
   "source": [
    "!kaggle competitions submit -c histopathologic-cancer-detection -f \"{path}/models/best_of_{model_name}_tta.csv\" -m \"init\""
   ]
  },
  {
   "cell_type": "code",
   "execution_count": null,
   "metadata": {},
   "outputs": [],
   "source": []
  },
  {
   "cell_type": "code",
   "execution_count": null,
   "metadata": {},
   "outputs": [],
   "source": []
  },
  {
   "cell_type": "markdown",
   "metadata": {},
   "source": [
    "### INTERPRET"
   ]
  },
  {
   "cell_type": "code",
   "execution_count": null,
   "metadata": {},
   "outputs": [],
   "source": []
  },
  {
   "cell_type": "code",
   "execution_count": null,
   "metadata": {},
   "outputs": [],
   "source": []
  },
  {
   "cell_type": "code",
   "execution_count": null,
   "metadata": {},
   "outputs": [],
   "source": []
  }
 ],
 "metadata": {
  "kernelspec": {
   "display_name": "Python 3",
   "language": "python",
   "name": "python3"
  },
  "language_info": {
   "codemirror_mode": {
    "name": "ipython",
    "version": 3
   },
   "file_extension": ".py",
   "mimetype": "text/x-python",
   "name": "python",
   "nbconvert_exporter": "python",
   "pygments_lexer": "ipython3",
   "version": "3.7.0"
  }
 },
 "nbformat": 4,
 "nbformat_minor": 2
}
