{
 "cells": [
  {
   "cell_type": "code",
   "execution_count": 1,
   "metadata": {},
   "outputs": [],
   "source": [
    "import warnings\n",
    "from fastai.vision import *\n",
    "from fastai.callbacks import *\n",
    "from fastai.vision import models \n",
    "from fastai.vision.models import cadene_models \n",
    "warnings.filterwarnings('ignore')\n",
    "path = Path('../data/histopathologic/')\n",
    "sys.path.append(\"dev/\"); from metric_utils import AUC"
   ]
  },
  {
   "cell_type": "code",
   "execution_count": 2,
   "metadata": {},
   "outputs": [],
   "source": [
    "# create ensemble dir\n",
    "os.makedirs(path/'ensemble', exist_ok=True)"
   ]
  },
  {
   "cell_type": "code",
   "execution_count": 3,
   "metadata": {},
   "outputs": [],
   "source": [
    "preds_path = path/'preds'\n",
    "subs_path = path/'submissions'\n",
    "ens_path = path/'ensemble'"
   ]
  },
  {
   "cell_type": "code",
   "execution_count": 4,
   "metadata": {},
   "outputs": [
    {
     "data": {
      "text/plain": [
       "[PosixPath('../data/histopathologic/preds/best_of_resnet152_non_overlap'),\n",
       " PosixPath('../data/histopathologic/preds/best_of_densenet201_non_overlap'),\n",
       " PosixPath('../data/histopathologic/preds/best_of_densenet169_non_overlap'),\n",
       " PosixPath('../data/histopathologic/preds/best_of_dpn92_non_overlap'),\n",
       " PosixPath('../data/histopathologic/preds/best_of_resnet101_non_overlap')]"
      ]
     },
     "execution_count": 4,
     "metadata": {},
     "output_type": "execute_result"
    }
   ],
   "source": [
    "preds_best_of_dirs = (preds_path).ls(); preds_best_of_dirs"
   ]
  },
  {
   "cell_type": "code",
   "execution_count": 5,
   "metadata": {},
   "outputs": [
    {
     "data": {
      "text/plain": [
       "[PosixPath('../data/histopathologic/preds/best_of_resnet152_non_overlap/fold4_preds.pkl'),\n",
       " PosixPath('../data/histopathologic/preds/best_of_resnet152_non_overlap/fold1_TTA_preds.pkl'),\n",
       " PosixPath('../data/histopathologic/preds/best_of_resnet152_non_overlap/fold2_TTA_preds.pkl'),\n",
       " PosixPath('../data/histopathologic/preds/best_of_resnet152_non_overlap/fold2_preds.pkl'),\n",
       " PosixPath('../data/histopathologic/preds/best_of_resnet152_non_overlap/fold0_TTA_preds.pkl'),\n",
       " PosixPath('../data/histopathologic/preds/best_of_resnet152_non_overlap/fold3_TTA_preds.pkl'),\n",
       " PosixPath('../data/histopathologic/preds/best_of_resnet152_non_overlap/fold3_preds.pkl'),\n",
       " PosixPath('../data/histopathologic/preds/best_of_resnet152_non_overlap/fold1_preds.pkl'),\n",
       " PosixPath('../data/histopathologic/preds/best_of_resnet152_non_overlap/fold0_preds.pkl'),\n",
       " PosixPath('../data/histopathologic/preds/best_of_resnet152_non_overlap/fold4_TTA_preds.pkl')]"
      ]
     },
     "execution_count": 5,
     "metadata": {},
     "output_type": "execute_result"
    }
   ],
   "source": [
    "(preds_path/'best_of_resnet152_non_overlap').ls()"
   ]
  },
  {
   "cell_type": "code",
   "execution_count": 8,
   "metadata": {},
   "outputs": [
    {
     "data": {
      "text/plain": [
       "['resnet152_non_overlap',\n",
       " 'densenet201_non_overlap',\n",
       " 'densenet169_non_overlap',\n",
       " 'dpn92_non_overlap',\n",
       " 'resnet101_non_overlap']"
      ]
     },
     "execution_count": 8,
     "metadata": {},
     "output_type": "execute_result"
    }
   ],
   "source": [
    "[o.name.strip(\"best_of_\") for o in preds_best_of_dirs]"
   ]
  },
  {
   "cell_type": "markdown",
   "metadata": {},
   "source": [
    "### simple average"
   ]
  },
  {
   "cell_type": "code",
   "execution_count": 23,
   "metadata": {},
   "outputs": [],
   "source": [
    "models = [o.name.strip(\"best_of_\") for o in preds_best_of_dirs]\n",
    "models  = ['resnet152_non_overlap',\n",
    " 'densenet201_non_overlap',\n",
    " 'dpn92_non_overlap']"
   ]
  },
  {
   "cell_type": "code",
   "execution_count": 24,
   "metadata": {},
   "outputs": [],
   "source": [
    "mean_label = np.mean([pd.read_csv(subs_path/f'best_of_{m}/{m}_avg_TTA.csv')['label'] for m\n",
    "           in models], axis=0)"
   ]
  },
  {
   "cell_type": "code",
   "execution_count": 25,
   "metadata": {},
   "outputs": [],
   "source": [
    "new_sub = pd.read_csv(subs_path/f'best_of_{models[0]}/{models[0]}_avg_TTA.csv')\n",
    "new_sub['label'] = mean_label"
   ]
  },
  {
   "cell_type": "code",
   "execution_count": 26,
   "metadata": {},
   "outputs": [],
   "source": [
    "fname = \"_\".join(models)\n",
    "new_sub.to_csv(ens_path/f\"avg_TTA_mean_{fname}\", index=False)"
   ]
  },
  {
   "cell_type": "code",
   "execution_count": 27,
   "metadata": {},
   "outputs": [],
   "source": [
    "sub_name = ens_path/f\"avg_TTA_mean_{fname}\""
   ]
  },
  {
   "cell_type": "code",
   "execution_count": 28,
   "metadata": {
    "scrolled": true
   },
   "outputs": [
    {
     "data": {
      "text/plain": [
       "(PosixPath('../data/histopathologic/ensemble/avg_TTA_mean_resnet152_non_overlap_densenet201_non_overlap_dpn92_non_overlap_resnet101_non_overlap'),\n",
       "                                              id     label\n",
       " 0      0b2ea2a822ad23fdb1b5dd26653da899fbd2c0d5  0.005553\n",
       " 1      95596b92e5066c5c52466c90b69ff089b39f2737  0.090460\n",
       " 2      248e6738860e2ebcf6258cdc1f32f299e0c76914  0.000990\n",
       " 3      2c35657e312966e9294eac6841726ff3a748febf  0.017133\n",
       " 4      145782eb7caa1c516acbe2eda34d9a3f31c41fd6  0.026611\n",
       " 5      725dabe6ecccc68b958a2c7dd75bcbf362c7cb03  0.943567\n",
       " 6      aa0307865281d4484ddf8c637c348292968b93a7  0.416751\n",
       " 7      f4e5dc9c949920f1b3362982e15e99bf6f3ef83b  0.304668\n",
       " 8      95e08c9cedc28a9b4a86f4fc1e06c1972134be08  0.008162\n",
       " 9      ee1f5345a8d4e28403b7e61b97b5f76c201ce9cb  0.025626\n",
       " 10     14b1e9a72e27a35f13056db611feb3c8825916f4  0.866853\n",
       " 11     4f7710b24b9b776f6bfc89fad5469592d18e5431  0.006693\n",
       " 12     2b0668109c7c446c94d29e1b554016b486e84bde  0.001228\n",
       " 13     8dbd712b5b5e86c18c97da3fb7845cfe23cdf1c5  0.000338\n",
       " 14     0084317dbb3398aed9f7c915c2cdef5a07ada5be  0.012997\n",
       " 15     5685c695bb0926d8ce434bb787a58affdc9277df  0.934862\n",
       " 16     715ea4b61896620422f4c9c954db514077633745  0.014446\n",
       " 17     a218c12c700277dd50b2da4e0e3a0089d5094186  0.032965\n",
       " 18     c0a44513db67635cc99370f24d962e272dbf7a11  0.204835\n",
       " 19     dd52e9ad03e746aff71b1d81c1cf168ec6dcdf57  0.998710\n",
       " 20     a67f22a204960680de09f88c9a588014e78e314c  0.996938\n",
       " 21     5a895b4562c4d67d194b76094690a8cba046f9f3  0.000101\n",
       " 22     09f704e216dab50f7d759746bb1f132cc7b59939  0.086490\n",
       " 23     e1d48393c5fa0bca3d3469f8a42e1991f2939a3d  0.026088\n",
       " 24     42301acb5c16684fbde86e0210f19f6adf232316  0.946128\n",
       " 25     4c3b7d71422fe2c35153a821c84538516ee89573  0.928555\n",
       " 26     edf908d325da428766464beb035c744e589e2ba0  0.067356\n",
       " 27     c68144b44b49d96d4b2e1870f854781a84ec3e20  0.004814\n",
       " 28     81d0aa3c20f021c2fc12a79c359ea29fa499425f  0.242265\n",
       " 29     564804ca8f0e05b7790108a24e7f2a36f1732375  0.120795\n",
       " ...                                         ...       ...\n",
       " 57428  c3936a5ab82c8429d337c2af505d12e8fed53800  0.012141\n",
       " 57429  3a51838cb2d914b1eae479ed07887a25ad898130  0.027916\n",
       " 57430  5cd2c886445fa12b1a5fd7476f59f6b9ff641048  0.005483\n",
       " 57431  73b6d3a082011e64bff624fe718bb66cc7757572  0.000143\n",
       " 57432  5bb1f5a647fed58bfa69a820f16c959e4f8e418b  0.998957\n",
       " 57433  cbfe076d09dbbfe899d2276d38d1e6b2669e06b9  0.006776\n",
       " 57434  3f713d1d1b0e8cd18daf3bc014b21f09f243ac4d  0.021704\n",
       " 57435  5e6e3443a9145a43e10e4fcc35df3fd8bc3c4411  0.941234\n",
       " 57436  aaff0630a066416f374cd2e65a169d8378840376  0.600035\n",
       " 57437  a36a9295354c700739b369dd7de4df54e801c185  0.518954\n",
       " 57438  86cbac8eef45d436a8b1c7469ada0894f0b684cc  0.010875\n",
       " 57439  64c1b67a3d4409c3de1da54b88771da63620dd53  0.001266\n",
       " 57440  da50fba013af3e308867f47183e7d037f574dc10  0.001100\n",
       " 57441  b0f5c94b69b5c76a5f0a9364c5d102826d29e0b3  0.995878\n",
       " 57442  8464c48f09addf99e79aee5422a66cfff48c2929  0.998166\n",
       " 57443  f18483fb465cd92c73b5f5e775f23b58cc5b2d36  0.019586\n",
       " 57444  d92e5dc32ff59711a94e0f4edfcd6a8b2eff583f  0.911236\n",
       " 57445  7e43b15f9b04dfa36a80ffc8787a2115fe3633df  0.998349\n",
       " 57446  1817497e85ef6d779852d4bae488b45fbccb4305  0.003181\n",
       " 57447  7c553e582d5a67f2bc90273d8f62940f6d46aba0  0.437445\n",
       " 57448  5481ea07d17fed3a807294a1c2ddbba2a64eb9e3  0.335265\n",
       " 57449  d5b3051b33d56ae6b46069225739ba2005d3ae61  0.000632\n",
       " 57450  69097bf5ae9632515d2e70c7cd3880ea7980820c  0.001794\n",
       " 57451  a3c0f54a1e82f1bb3f9527eb619cec2bb229fa5d  0.000852\n",
       " 57452  f93cadad45c3d7763af25d3412bd0019a95fa0f1  0.964437\n",
       " 57453  061847314ded6f81e1cd670748bfa2003442c9c7  0.001819\n",
       " 57454  6f3977130212641fd5808210015a609c658dcbff  0.007138\n",
       " 57455  46935f247278539eca74b54d07d666efb528a753  0.000290\n",
       " 57456  a09bcae08a82120183352e0e869181b2911d3dc1  0.000226\n",
       " 57457  d29233dc0b90c2e1a8fcedbc3e1234c3d4dbd55b  0.081850\n",
       " \n",
       " [57458 rows x 2 columns])"
      ]
     },
     "execution_count": 28,
     "metadata": {},
     "output_type": "execute_result"
    }
   ],
   "source": [
    "sub_name, new_sub"
   ]
  },
  {
   "cell_type": "code",
   "execution_count": 29,
   "metadata": {},
   "outputs": [
    {
     "name": "stdout",
     "output_type": "stream",
     "text": [
      "kaggle competitions submit -c histopathologic-cancer-detection -f ../data/histopathologic/ensemble/avg_TTA_mean_resnet152_non_overlap_densenet201_non_overlap_dpn92_non_overlap_resnet101_non_overlap -m resnet152_non_overlap_densenet201_non_overlap_dpn92_non_overlap_resnet101_non_overlap_avg_TTA\n"
     ]
    },
    {
     "data": {
      "text/plain": [
       "(0, None)"
      ]
     },
     "execution_count": 29,
     "metadata": {},
     "output_type": "execute_result"
    }
   ],
   "source": [
    "cmd = \"kaggle competitions submit -c histopathologic-cancer-detection -f {} -m {}_avg_TTA\".format(sub_name, fname)\n",
    "os.system(cmd), print(cmd)"
   ]
  },
  {
   "cell_type": "code",
   "execution_count": null,
   "metadata": {},
   "outputs": [],
   "source": []
  },
  {
   "cell_type": "code",
   "execution_count": null,
   "metadata": {},
   "outputs": [],
   "source": []
  }
 ],
 "metadata": {
  "kernelspec": {
   "display_name": "Python 3",
   "language": "python",
   "name": "python3"
  },
  "language_info": {
   "codemirror_mode": {
    "name": "ipython",
    "version": 3
   },
   "file_extension": ".py",
   "mimetype": "text/x-python",
   "name": "python",
   "nbconvert_exporter": "python",
   "pygments_lexer": "ipython3",
   "version": "3.7.2"
  }
 },
 "nbformat": 4,
 "nbformat_minor": 2
}
