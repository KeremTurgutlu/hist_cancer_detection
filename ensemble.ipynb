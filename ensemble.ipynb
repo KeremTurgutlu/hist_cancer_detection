{
 "cells": [
  {
   "cell_type": "code",
   "execution_count": 1,
   "metadata": {},
   "outputs": [],
   "source": [
    "import warnings\n",
    "from fastai.vision import *\n",
    "from fastai.callbacks import *\n",
    "from fastai.vision.models import cadene_models \n",
    "warnings.filterwarnings('ignore')\n",
    "path = Path('../data/histopathologic/')\n",
    "sys.path.append(\"dev/\"); from metric_utils import AUC"
   ]
  },
  {
   "cell_type": "code",
   "execution_count": 2,
   "metadata": {},
   "outputs": [],
   "source": [
    "# create ensemble dir\n",
    "os.makedirs(path/'ensemble', exist_ok=True)"
   ]
  },
  {
   "cell_type": "code",
   "execution_count": 3,
   "metadata": {},
   "outputs": [],
   "source": [
    "preds_path = path/'preds'\n",
    "subs_path = path/'submissions'\n",
    "ens_path = path/'ensemble'"
   ]
  },
  {
   "cell_type": "code",
   "execution_count": 4,
   "metadata": {},
   "outputs": [
    {
     "data": {
      "text/plain": [
       "[PosixPath('../data/histopathologic/preds/best_of_resnet101'),\n",
       " PosixPath('../data/histopathologic/preds/best_of_densenet169'),\n",
       " PosixPath('../data/histopathologic/preds/best_of_densenet201'),\n",
       " PosixPath('../data/histopathologic/preds/best_of_resnet152'),\n",
       " PosixPath('../data/histopathologic/preds/best_of_vgg16_bn')]"
      ]
     },
     "execution_count": 4,
     "metadata": {},
     "output_type": "execute_result"
    }
   ],
   "source": [
    "preds_best_of_dirs = (preds_path).ls(); preds_best_of_dirs"
   ]
  },
  {
   "cell_type": "code",
   "execution_count": 5,
   "metadata": {},
   "outputs": [
    {
     "data": {
      "text/plain": [
       "[PosixPath('../data/histopathologic/preds/best_of_densenet169/fold0_preds.pkl'),\n",
       " PosixPath('../data/histopathologic/preds/best_of_densenet169/fold2_TTA_preds.pkl'),\n",
       " PosixPath('../data/histopathologic/preds/best_of_densenet169/fold1_preds.pkl'),\n",
       " PosixPath('../data/histopathologic/preds/best_of_densenet169/fold3_TTA_preds.pkl'),\n",
       " PosixPath('../data/histopathologic/preds/best_of_densenet169/fold4_preds.pkl'),\n",
       " PosixPath('../data/histopathologic/preds/best_of_densenet169/fold3_preds.pkl'),\n",
       " PosixPath('../data/histopathologic/preds/best_of_densenet169/fold2_preds.pkl'),\n",
       " PosixPath('../data/histopathologic/preds/best_of_densenet169/fold1_TTA_preds.pkl'),\n",
       " PosixPath('../data/histopathologic/preds/best_of_densenet169/fold0_TTA_preds.pkl'),\n",
       " PosixPath('../data/histopathologic/preds/best_of_densenet169/fold4_TTA_preds.pkl')]"
      ]
     },
     "execution_count": 5,
     "metadata": {},
     "output_type": "execute_result"
    }
   ],
   "source": [
    "(preds_path/'best_of_densenet169').ls()"
   ]
  },
  {
   "cell_type": "markdown",
   "metadata": {},
   "source": [
    "### simple average"
   ]
  },
  {
   "cell_type": "code",
   "execution_count": 27,
   "metadata": {},
   "outputs": [],
   "source": [
    "models = ['densenet169', 'densenet201', 'resnet101']"
   ]
  },
  {
   "cell_type": "code",
   "execution_count": 28,
   "metadata": {},
   "outputs": [],
   "source": [
    "mean_label = np.mean([pd.read_csv(subs_path/f'best_of_{m}/{m}_avg_TTA.csv')['label'] for m\n",
    "           in models], axis=0)"
   ]
  },
  {
   "cell_type": "code",
   "execution_count": 29,
   "metadata": {},
   "outputs": [],
   "source": [
    "new_sub = pd.read_csv(subs_path/f'best_of_{models[0]}/{models[0]}_avg_TTA.csv')\n",
    "new_sub['label'] = mean_label"
   ]
  },
  {
   "cell_type": "code",
   "execution_count": 30,
   "metadata": {},
   "outputs": [],
   "source": [
    "fname = \"_\".join(models)\n",
    "new_sub.to_csv(ens_path/f\"avg_TTA_mean_{fname}\", index=False)"
   ]
  },
  {
   "cell_type": "code",
   "execution_count": 31,
   "metadata": {},
   "outputs": [],
   "source": [
    "sub_name = ens_path/f\"avg_TTA_mean_{fname}\""
   ]
  },
  {
   "cell_type": "code",
   "execution_count": 32,
   "metadata": {
    "scrolled": true
   },
   "outputs": [
    {
     "data": {
      "text/plain": [
       "(PosixPath('../data/histopathologic/ensemble/avg_TTA_mean_densenet169_densenet201_resnet101'),\n",
       "                                              id     label\n",
       " 0      0b2ea2a822ad23fdb1b5dd26653da899fbd2c0d5  0.036974\n",
       " 1      95596b92e5066c5c52466c90b69ff089b39f2737  0.238685\n",
       " 2      248e6738860e2ebcf6258cdc1f32f299e0c76914  0.001165\n",
       " 3      2c35657e312966e9294eac6841726ff3a748febf  0.002457\n",
       " 4      145782eb7caa1c516acbe2eda34d9a3f31c41fd6  0.264971\n",
       " 5      725dabe6ecccc68b958a2c7dd75bcbf362c7cb03  0.802345\n",
       " 6      aa0307865281d4484ddf8c637c348292968b93a7  0.545319\n",
       " 7      f4e5dc9c949920f1b3362982e15e99bf6f3ef83b  0.371964\n",
       " 8      95e08c9cedc28a9b4a86f4fc1e06c1972134be08  0.009611\n",
       " 9      ee1f5345a8d4e28403b7e61b97b5f76c201ce9cb  0.050511\n",
       " 10     14b1e9a72e27a35f13056db611feb3c8825916f4  0.869793\n",
       " 11     4f7710b24b9b776f6bfc89fad5469592d18e5431  0.050666\n",
       " 12     2b0668109c7c446c94d29e1b554016b486e84bde  0.012559\n",
       " 13     8dbd712b5b5e86c18c97da3fb7845cfe23cdf1c5  0.001311\n",
       " 14     0084317dbb3398aed9f7c915c2cdef5a07ada5be  0.012963\n",
       " 15     5685c695bb0926d8ce434bb787a58affdc9277df  0.917764\n",
       " 16     715ea4b61896620422f4c9c954db514077633745  0.065924\n",
       " 17     a218c12c700277dd50b2da4e0e3a0089d5094186  0.078568\n",
       " 18     c0a44513db67635cc99370f24d962e272dbf7a11  0.254278\n",
       " 19     dd52e9ad03e746aff71b1d81c1cf168ec6dcdf57  0.992980\n",
       " 20     a67f22a204960680de09f88c9a588014e78e314c  0.928722\n",
       " 21     5a895b4562c4d67d194b76094690a8cba046f9f3  0.002035\n",
       " 22     09f704e216dab50f7d759746bb1f132cc7b59939  0.180909\n",
       " 23     e1d48393c5fa0bca3d3469f8a42e1991f2939a3d  0.145355\n",
       " 24     42301acb5c16684fbde86e0210f19f6adf232316  0.958578\n",
       " 25     4c3b7d71422fe2c35153a821c84538516ee89573  0.920837\n",
       " 26     edf908d325da428766464beb035c744e589e2ba0  0.047064\n",
       " 27     c68144b44b49d96d4b2e1870f854781a84ec3e20  0.012505\n",
       " 28     81d0aa3c20f021c2fc12a79c359ea29fa499425f  0.018748\n",
       " 29     564804ca8f0e05b7790108a24e7f2a36f1732375  0.165633\n",
       " ...                                         ...       ...\n",
       " 57428  c3936a5ab82c8429d337c2af505d12e8fed53800  0.032607\n",
       " 57429  3a51838cb2d914b1eae479ed07887a25ad898130  0.014745\n",
       " 57430  5cd2c886445fa12b1a5fd7476f59f6b9ff641048  0.010187\n",
       " 57431  73b6d3a082011e64bff624fe718bb66cc7757572  0.001407\n",
       " 57432  5bb1f5a647fed58bfa69a820f16c959e4f8e418b  0.994825\n",
       " 57433  cbfe076d09dbbfe899d2276d38d1e6b2669e06b9  0.002557\n",
       " 57434  3f713d1d1b0e8cd18daf3bc014b21f09f243ac4d  0.005849\n",
       " 57435  5e6e3443a9145a43e10e4fcc35df3fd8bc3c4411  0.867905\n",
       " 57436  aaff0630a066416f374cd2e65a169d8378840376  0.785324\n",
       " 57437  a36a9295354c700739b369dd7de4df54e801c185  0.794862\n",
       " 57438  86cbac8eef45d436a8b1c7469ada0894f0b684cc  0.095791\n",
       " 57439  64c1b67a3d4409c3de1da54b88771da63620dd53  0.002033\n",
       " 57440  da50fba013af3e308867f47183e7d037f574dc10  0.003720\n",
       " 57441  b0f5c94b69b5c76a5f0a9364c5d102826d29e0b3  0.982219\n",
       " 57442  8464c48f09addf99e79aee5422a66cfff48c2929  0.933359\n",
       " 57443  f18483fb465cd92c73b5f5e775f23b58cc5b2d36  0.014148\n",
       " 57444  d92e5dc32ff59711a94e0f4edfcd6a8b2eff583f  0.947768\n",
       " 57445  7e43b15f9b04dfa36a80ffc8787a2115fe3633df  0.998315\n",
       " 57446  1817497e85ef6d779852d4bae488b45fbccb4305  0.006085\n",
       " 57447  7c553e582d5a67f2bc90273d8f62940f6d46aba0  0.731763\n",
       " 57448  5481ea07d17fed3a807294a1c2ddbba2a64eb9e3  0.509056\n",
       " 57449  d5b3051b33d56ae6b46069225739ba2005d3ae61  0.003329\n",
       " 57450  69097bf5ae9632515d2e70c7cd3880ea7980820c  0.003583\n",
       " 57451  a3c0f54a1e82f1bb3f9527eb619cec2bb229fa5d  0.002957\n",
       " 57452  f93cadad45c3d7763af25d3412bd0019a95fa0f1  0.985325\n",
       " 57453  061847314ded6f81e1cd670748bfa2003442c9c7  0.004193\n",
       " 57454  6f3977130212641fd5808210015a609c658dcbff  0.007168\n",
       " 57455  46935f247278539eca74b54d07d666efb528a753  0.000918\n",
       " 57456  a09bcae08a82120183352e0e869181b2911d3dc1  0.001237\n",
       " 57457  d29233dc0b90c2e1a8fcedbc3e1234c3d4dbd55b  0.156999\n",
       " \n",
       " [57458 rows x 2 columns])"
      ]
     },
     "execution_count": 32,
     "metadata": {},
     "output_type": "execute_result"
    }
   ],
   "source": [
    "sub_name, new_sub"
   ]
  },
  {
   "cell_type": "code",
   "execution_count": 33,
   "metadata": {},
   "outputs": [
    {
     "name": "stdout",
     "output_type": "stream",
     "text": [
      "kaggle competitions submit -c histopathologic-cancer-detection -f ../data/histopathologic/ensemble/avg_TTA_mean_densenet169_densenet201_resnet101 -m densenet169_densenet201_resnet101_avg_TTA\n"
     ]
    },
    {
     "data": {
      "text/plain": [
       "(0, None)"
      ]
     },
     "execution_count": 33,
     "metadata": {},
     "output_type": "execute_result"
    }
   ],
   "source": [
    "cmd = \"kaggle competitions submit -c histopathologic-cancer-detection -f {} -m {}_avg_TTA\".format(sub_name, fname)\n",
    "os.system(cmd), print(cmd)"
   ]
  },
  {
   "cell_type": "code",
   "execution_count": null,
   "metadata": {},
   "outputs": [],
   "source": []
  },
  {
   "cell_type": "markdown",
   "metadata": {},
   "source": [
    "### simple rank average"
   ]
  },
  {
   "cell_type": "code",
   "execution_count": null,
   "metadata": {},
   "outputs": [],
   "source": []
  },
  {
   "cell_type": "code",
   "execution_count": null,
   "metadata": {},
   "outputs": [],
   "source": []
  },
  {
   "cell_type": "markdown",
   "metadata": {},
   "source": [
    "### simple all average"
   ]
  },
  {
   "cell_type": "code",
   "execution_count": 17,
   "metadata": {},
   "outputs": [],
   "source": [
    "csvs= []\n",
    "for m  in models:\n",
    "    csvs += (preds_path/f'best_of_{m}').ls()"
   ]
  },
  {
   "cell_type": "code",
   "execution_count": 30,
   "metadata": {
    "scrolled": true
   },
   "outputs": [
    {
     "data": {
      "text/plain": [
       "[PosixPath('../data/histopathologic/preds/best_of_densenet169/fold2_TTA_preds.pkl'),\n",
       " PosixPath('../data/histopathologic/preds/best_of_densenet169/fold3_TTA_preds.pkl'),\n",
       " PosixPath('../data/histopathologic/preds/best_of_densenet169/fold1_TTA_preds.pkl'),\n",
       " PosixPath('../data/histopathologic/preds/best_of_densenet169/fold0_TTA_preds.pkl'),\n",
       " PosixPath('../data/histopathologic/preds/best_of_densenet169/fold4_TTA_preds.pkl'),\n",
       " PosixPath('../data/histopathologic/preds/best_of_vgg16_bn/fold2_TTA_preds.pkl'),\n",
       " PosixPath('../data/histopathologic/preds/best_of_vgg16_bn/fold3_TTA_preds.pkl'),\n",
       " PosixPath('../data/histopathologic/preds/best_of_vgg16_bn/fold1_TTA_preds.pkl'),\n",
       " PosixPath('../data/histopathologic/preds/best_of_vgg16_bn/fold0_TTA_preds.pkl'),\n",
       " PosixPath('../data/histopathologic/preds/best_of_vgg16_bn/fold4_TTA_preds.pkl'),\n",
       " PosixPath('../data/histopathologic/preds/best_of_densenet201/fold2_TTA_preds.pkl'),\n",
       " PosixPath('../data/histopathologic/preds/best_of_densenet201/fold3_TTA_preds.pkl'),\n",
       " PosixPath('../data/histopathologic/preds/best_of_densenet201/fold1_TTA_preds.pkl'),\n",
       " PosixPath('../data/histopathologic/preds/best_of_densenet201/fold0_TTA_preds.pkl'),\n",
       " PosixPath('../data/histopathologic/preds/best_of_densenet201/fold4_TTA_preds.pkl')]"
      ]
     },
     "execution_count": 30,
     "metadata": {},
     "output_type": "execute_result"
    }
   ],
   "source": [
    "csvs = [o for o in csvs if 'TTA' in o.stem];csvs"
   ]
  },
  {
   "cell_type": "code",
   "execution_count": 31,
   "metadata": {},
   "outputs": [
    {
     "data": {
      "text/plain": [
       "tensor([[8.5557e-04, 9.9914e-01],\n",
       "        [8.8339e-01, 1.1661e-01],\n",
       "        [9.9370e-01, 6.3002e-03],\n",
       "        ...,\n",
       "        [9.9839e-01, 1.6088e-03],\n",
       "        [9.9041e-01, 9.5919e-03],\n",
       "        [3.7081e-03, 9.9629e-01]])"
      ]
     },
     "execution_count": 31,
     "metadata": {},
     "output_type": "execute_result"
    }
   ],
   "source": [
    "pd.read_pickle('../data/histopathologic/preds/best_of_densenet169/fold0_preds.pkl')"
   ]
  },
  {
   "cell_type": "code",
   "execution_count": 32,
   "metadata": {},
   "outputs": [],
   "source": [
    "mean_label = np.mean([to_np(pd.read_pickle(csv)[:,1]) for csv in csvs], axis=0)"
   ]
  },
  {
   "cell_type": "code",
   "execution_count": 33,
   "metadata": {},
   "outputs": [],
   "source": [
    "new_sub = pd.read_csv(path/'sample_submission.csv')\n",
    "new_sub['label'] = mean_label"
   ]
  },
  {
   "cell_type": "code",
   "execution_count": 34,
   "metadata": {
    "scrolled": true
   },
   "outputs": [
    {
     "data": {
      "text/html": [
       "<div>\n",
       "<style scoped>\n",
       "    .dataframe tbody tr th:only-of-type {\n",
       "        vertical-align: middle;\n",
       "    }\n",
       "\n",
       "    .dataframe tbody tr th {\n",
       "        vertical-align: top;\n",
       "    }\n",
       "\n",
       "    .dataframe thead th {\n",
       "        text-align: right;\n",
       "    }\n",
       "</style>\n",
       "<table border=\"1\" class=\"dataframe\">\n",
       "  <thead>\n",
       "    <tr style=\"text-align: right;\">\n",
       "      <th></th>\n",
       "      <th>id</th>\n",
       "      <th>label</th>\n",
       "    </tr>\n",
       "  </thead>\n",
       "  <tbody>\n",
       "    <tr>\n",
       "      <th>0</th>\n",
       "      <td>0b2ea2a822ad23fdb1b5dd26653da899fbd2c0d5</td>\n",
       "      <td>0.995882</td>\n",
       "    </tr>\n",
       "    <tr>\n",
       "      <th>1</th>\n",
       "      <td>95596b92e5066c5c52466c90b69ff089b39f2737</td>\n",
       "      <td>0.477222</td>\n",
       "    </tr>\n",
       "    <tr>\n",
       "      <th>2</th>\n",
       "      <td>248e6738860e2ebcf6258cdc1f32f299e0c76914</td>\n",
       "      <td>0.050597</td>\n",
       "    </tr>\n",
       "    <tr>\n",
       "      <th>3</th>\n",
       "      <td>2c35657e312966e9294eac6841726ff3a748febf</td>\n",
       "      <td>0.109161</td>\n",
       "    </tr>\n",
       "    <tr>\n",
       "      <th>4</th>\n",
       "      <td>145782eb7caa1c516acbe2eda34d9a3f31c41fd6</td>\n",
       "      <td>0.079293</td>\n",
       "    </tr>\n",
       "    <tr>\n",
       "      <th>5</th>\n",
       "      <td>725dabe6ecccc68b958a2c7dd75bcbf362c7cb03</td>\n",
       "      <td>0.962757</td>\n",
       "    </tr>\n",
       "    <tr>\n",
       "      <th>6</th>\n",
       "      <td>aa0307865281d4484ddf8c637c348292968b93a7</td>\n",
       "      <td>0.002694</td>\n",
       "    </tr>\n",
       "    <tr>\n",
       "      <th>7</th>\n",
       "      <td>f4e5dc9c949920f1b3362982e15e99bf6f3ef83b</td>\n",
       "      <td>0.735044</td>\n",
       "    </tr>\n",
       "    <tr>\n",
       "      <th>8</th>\n",
       "      <td>95e08c9cedc28a9b4a86f4fc1e06c1972134be08</td>\n",
       "      <td>0.999680</td>\n",
       "    </tr>\n",
       "    <tr>\n",
       "      <th>9</th>\n",
       "      <td>ee1f5345a8d4e28403b7e61b97b5f76c201ce9cb</td>\n",
       "      <td>0.960282</td>\n",
       "    </tr>\n",
       "    <tr>\n",
       "      <th>10</th>\n",
       "      <td>14b1e9a72e27a35f13056db611feb3c8825916f4</td>\n",
       "      <td>0.003976</td>\n",
       "    </tr>\n",
       "    <tr>\n",
       "      <th>11</th>\n",
       "      <td>4f7710b24b9b776f6bfc89fad5469592d18e5431</td>\n",
       "      <td>0.791670</td>\n",
       "    </tr>\n",
       "    <tr>\n",
       "      <th>12</th>\n",
       "      <td>2b0668109c7c446c94d29e1b554016b486e84bde</td>\n",
       "      <td>0.007687</td>\n",
       "    </tr>\n",
       "    <tr>\n",
       "      <th>13</th>\n",
       "      <td>8dbd712b5b5e86c18c97da3fb7845cfe23cdf1c5</td>\n",
       "      <td>0.001088</td>\n",
       "    </tr>\n",
       "    <tr>\n",
       "      <th>14</th>\n",
       "      <td>0084317dbb3398aed9f7c915c2cdef5a07ada5be</td>\n",
       "      <td>0.059485</td>\n",
       "    </tr>\n",
       "    <tr>\n",
       "      <th>15</th>\n",
       "      <td>5685c695bb0926d8ce434bb787a58affdc9277df</td>\n",
       "      <td>0.757606</td>\n",
       "    </tr>\n",
       "    <tr>\n",
       "      <th>16</th>\n",
       "      <td>715ea4b61896620422f4c9c954db514077633745</td>\n",
       "      <td>0.984576</td>\n",
       "    </tr>\n",
       "    <tr>\n",
       "      <th>17</th>\n",
       "      <td>a218c12c700277dd50b2da4e0e3a0089d5094186</td>\n",
       "      <td>0.446653</td>\n",
       "    </tr>\n",
       "    <tr>\n",
       "      <th>18</th>\n",
       "      <td>c0a44513db67635cc99370f24d962e272dbf7a11</td>\n",
       "      <td>0.011756</td>\n",
       "    </tr>\n",
       "    <tr>\n",
       "      <th>19</th>\n",
       "      <td>dd52e9ad03e746aff71b1d81c1cf168ec6dcdf57</td>\n",
       "      <td>0.002115</td>\n",
       "    </tr>\n",
       "    <tr>\n",
       "      <th>20</th>\n",
       "      <td>a67f22a204960680de09f88c9a588014e78e314c</td>\n",
       "      <td>0.998337</td>\n",
       "    </tr>\n",
       "    <tr>\n",
       "      <th>21</th>\n",
       "      <td>5a895b4562c4d67d194b76094690a8cba046f9f3</td>\n",
       "      <td>0.810223</td>\n",
       "    </tr>\n",
       "    <tr>\n",
       "      <th>22</th>\n",
       "      <td>09f704e216dab50f7d759746bb1f132cc7b59939</td>\n",
       "      <td>0.841072</td>\n",
       "    </tr>\n",
       "    <tr>\n",
       "      <th>23</th>\n",
       "      <td>e1d48393c5fa0bca3d3469f8a42e1991f2939a3d</td>\n",
       "      <td>0.002659</td>\n",
       "    </tr>\n",
       "    <tr>\n",
       "      <th>24</th>\n",
       "      <td>42301acb5c16684fbde86e0210f19f6adf232316</td>\n",
       "      <td>0.000076</td>\n",
       "    </tr>\n",
       "    <tr>\n",
       "      <th>25</th>\n",
       "      <td>4c3b7d71422fe2c35153a821c84538516ee89573</td>\n",
       "      <td>0.230112</td>\n",
       "    </tr>\n",
       "    <tr>\n",
       "      <th>26</th>\n",
       "      <td>edf908d325da428766464beb035c744e589e2ba0</td>\n",
       "      <td>0.008722</td>\n",
       "    </tr>\n",
       "    <tr>\n",
       "      <th>27</th>\n",
       "      <td>c68144b44b49d96d4b2e1870f854781a84ec3e20</td>\n",
       "      <td>0.961316</td>\n",
       "    </tr>\n",
       "    <tr>\n",
       "      <th>28</th>\n",
       "      <td>81d0aa3c20f021c2fc12a79c359ea29fa499425f</td>\n",
       "      <td>0.304041</td>\n",
       "    </tr>\n",
       "    <tr>\n",
       "      <th>29</th>\n",
       "      <td>564804ca8f0e05b7790108a24e7f2a36f1732375</td>\n",
       "      <td>0.999096</td>\n",
       "    </tr>\n",
       "    <tr>\n",
       "      <th>...</th>\n",
       "      <td>...</td>\n",
       "      <td>...</td>\n",
       "    </tr>\n",
       "    <tr>\n",
       "      <th>57428</th>\n",
       "      <td>c3936a5ab82c8429d337c2af505d12e8fed53800</td>\n",
       "      <td>0.503660</td>\n",
       "    </tr>\n",
       "    <tr>\n",
       "      <th>57429</th>\n",
       "      <td>3a51838cb2d914b1eae479ed07887a25ad898130</td>\n",
       "      <td>0.000788</td>\n",
       "    </tr>\n",
       "    <tr>\n",
       "      <th>57430</th>\n",
       "      <td>5cd2c886445fa12b1a5fd7476f59f6b9ff641048</td>\n",
       "      <td>0.481643</td>\n",
       "    </tr>\n",
       "    <tr>\n",
       "      <th>57431</th>\n",
       "      <td>73b6d3a082011e64bff624fe718bb66cc7757572</td>\n",
       "      <td>0.035649</td>\n",
       "    </tr>\n",
       "    <tr>\n",
       "      <th>57432</th>\n",
       "      <td>5bb1f5a647fed58bfa69a820f16c959e4f8e418b</td>\n",
       "      <td>0.261785</td>\n",
       "    </tr>\n",
       "    <tr>\n",
       "      <th>57433</th>\n",
       "      <td>cbfe076d09dbbfe899d2276d38d1e6b2669e06b9</td>\n",
       "      <td>0.006473</td>\n",
       "    </tr>\n",
       "    <tr>\n",
       "      <th>57434</th>\n",
       "      <td>3f713d1d1b0e8cd18daf3bc014b21f09f243ac4d</td>\n",
       "      <td>0.977264</td>\n",
       "    </tr>\n",
       "    <tr>\n",
       "      <th>57435</th>\n",
       "      <td>5e6e3443a9145a43e10e4fcc35df3fd8bc3c4411</td>\n",
       "      <td>0.985705</td>\n",
       "    </tr>\n",
       "    <tr>\n",
       "      <th>57436</th>\n",
       "      <td>aaff0630a066416f374cd2e65a169d8378840376</td>\n",
       "      <td>0.042886</td>\n",
       "    </tr>\n",
       "    <tr>\n",
       "      <th>57437</th>\n",
       "      <td>a36a9295354c700739b369dd7de4df54e801c185</td>\n",
       "      <td>0.019407</td>\n",
       "    </tr>\n",
       "    <tr>\n",
       "      <th>57438</th>\n",
       "      <td>86cbac8eef45d436a8b1c7469ada0894f0b684cc</td>\n",
       "      <td>0.644860</td>\n",
       "    </tr>\n",
       "    <tr>\n",
       "      <th>57439</th>\n",
       "      <td>64c1b67a3d4409c3de1da54b88771da63620dd53</td>\n",
       "      <td>0.014398</td>\n",
       "    </tr>\n",
       "    <tr>\n",
       "      <th>57440</th>\n",
       "      <td>da50fba013af3e308867f47183e7d037f574dc10</td>\n",
       "      <td>0.778043</td>\n",
       "    </tr>\n",
       "    <tr>\n",
       "      <th>57441</th>\n",
       "      <td>b0f5c94b69b5c76a5f0a9364c5d102826d29e0b3</td>\n",
       "      <td>0.000776</td>\n",
       "    </tr>\n",
       "    <tr>\n",
       "      <th>57442</th>\n",
       "      <td>8464c48f09addf99e79aee5422a66cfff48c2929</td>\n",
       "      <td>0.006564</td>\n",
       "    </tr>\n",
       "    <tr>\n",
       "      <th>57443</th>\n",
       "      <td>f18483fb465cd92c73b5f5e775f23b58cc5b2d36</td>\n",
       "      <td>0.732923</td>\n",
       "    </tr>\n",
       "    <tr>\n",
       "      <th>57444</th>\n",
       "      <td>d92e5dc32ff59711a94e0f4edfcd6a8b2eff583f</td>\n",
       "      <td>0.982592</td>\n",
       "    </tr>\n",
       "    <tr>\n",
       "      <th>57445</th>\n",
       "      <td>7e43b15f9b04dfa36a80ffc8787a2115fe3633df</td>\n",
       "      <td>0.041926</td>\n",
       "    </tr>\n",
       "    <tr>\n",
       "      <th>57446</th>\n",
       "      <td>1817497e85ef6d779852d4bae488b45fbccb4305</td>\n",
       "      <td>0.874789</td>\n",
       "    </tr>\n",
       "    <tr>\n",
       "      <th>57447</th>\n",
       "      <td>7c553e582d5a67f2bc90273d8f62940f6d46aba0</td>\n",
       "      <td>0.215232</td>\n",
       "    </tr>\n",
       "    <tr>\n",
       "      <th>57448</th>\n",
       "      <td>5481ea07d17fed3a807294a1c2ddbba2a64eb9e3</td>\n",
       "      <td>0.518428</td>\n",
       "    </tr>\n",
       "    <tr>\n",
       "      <th>57449</th>\n",
       "      <td>d5b3051b33d56ae6b46069225739ba2005d3ae61</td>\n",
       "      <td>0.479195</td>\n",
       "    </tr>\n",
       "    <tr>\n",
       "      <th>57450</th>\n",
       "      <td>69097bf5ae9632515d2e70c7cd3880ea7980820c</td>\n",
       "      <td>0.072792</td>\n",
       "    </tr>\n",
       "    <tr>\n",
       "      <th>57451</th>\n",
       "      <td>a3c0f54a1e82f1bb3f9527eb619cec2bb229fa5d</td>\n",
       "      <td>0.789389</td>\n",
       "    </tr>\n",
       "    <tr>\n",
       "      <th>57452</th>\n",
       "      <td>f93cadad45c3d7763af25d3412bd0019a95fa0f1</td>\n",
       "      <td>0.558607</td>\n",
       "    </tr>\n",
       "    <tr>\n",
       "      <th>57453</th>\n",
       "      <td>061847314ded6f81e1cd670748bfa2003442c9c7</td>\n",
       "      <td>0.340557</td>\n",
       "    </tr>\n",
       "    <tr>\n",
       "      <th>57454</th>\n",
       "      <td>6f3977130212641fd5808210015a609c658dcbff</td>\n",
       "      <td>0.986997</td>\n",
       "    </tr>\n",
       "    <tr>\n",
       "      <th>57455</th>\n",
       "      <td>46935f247278539eca74b54d07d666efb528a753</td>\n",
       "      <td>0.002689</td>\n",
       "    </tr>\n",
       "    <tr>\n",
       "      <th>57456</th>\n",
       "      <td>a09bcae08a82120183352e0e869181b2911d3dc1</td>\n",
       "      <td>0.182700</td>\n",
       "    </tr>\n",
       "    <tr>\n",
       "      <th>57457</th>\n",
       "      <td>d29233dc0b90c2e1a8fcedbc3e1234c3d4dbd55b</td>\n",
       "      <td>0.929580</td>\n",
       "    </tr>\n",
       "  </tbody>\n",
       "</table>\n",
       "<p>57458 rows × 2 columns</p>\n",
       "</div>"
      ],
      "text/plain": [
       "                                             id     label\n",
       "0      0b2ea2a822ad23fdb1b5dd26653da899fbd2c0d5  0.995882\n",
       "1      95596b92e5066c5c52466c90b69ff089b39f2737  0.477222\n",
       "2      248e6738860e2ebcf6258cdc1f32f299e0c76914  0.050597\n",
       "3      2c35657e312966e9294eac6841726ff3a748febf  0.109161\n",
       "4      145782eb7caa1c516acbe2eda34d9a3f31c41fd6  0.079293\n",
       "5      725dabe6ecccc68b958a2c7dd75bcbf362c7cb03  0.962757\n",
       "6      aa0307865281d4484ddf8c637c348292968b93a7  0.002694\n",
       "7      f4e5dc9c949920f1b3362982e15e99bf6f3ef83b  0.735044\n",
       "8      95e08c9cedc28a9b4a86f4fc1e06c1972134be08  0.999680\n",
       "9      ee1f5345a8d4e28403b7e61b97b5f76c201ce9cb  0.960282\n",
       "10     14b1e9a72e27a35f13056db611feb3c8825916f4  0.003976\n",
       "11     4f7710b24b9b776f6bfc89fad5469592d18e5431  0.791670\n",
       "12     2b0668109c7c446c94d29e1b554016b486e84bde  0.007687\n",
       "13     8dbd712b5b5e86c18c97da3fb7845cfe23cdf1c5  0.001088\n",
       "14     0084317dbb3398aed9f7c915c2cdef5a07ada5be  0.059485\n",
       "15     5685c695bb0926d8ce434bb787a58affdc9277df  0.757606\n",
       "16     715ea4b61896620422f4c9c954db514077633745  0.984576\n",
       "17     a218c12c700277dd50b2da4e0e3a0089d5094186  0.446653\n",
       "18     c0a44513db67635cc99370f24d962e272dbf7a11  0.011756\n",
       "19     dd52e9ad03e746aff71b1d81c1cf168ec6dcdf57  0.002115\n",
       "20     a67f22a204960680de09f88c9a588014e78e314c  0.998337\n",
       "21     5a895b4562c4d67d194b76094690a8cba046f9f3  0.810223\n",
       "22     09f704e216dab50f7d759746bb1f132cc7b59939  0.841072\n",
       "23     e1d48393c5fa0bca3d3469f8a42e1991f2939a3d  0.002659\n",
       "24     42301acb5c16684fbde86e0210f19f6adf232316  0.000076\n",
       "25     4c3b7d71422fe2c35153a821c84538516ee89573  0.230112\n",
       "26     edf908d325da428766464beb035c744e589e2ba0  0.008722\n",
       "27     c68144b44b49d96d4b2e1870f854781a84ec3e20  0.961316\n",
       "28     81d0aa3c20f021c2fc12a79c359ea29fa499425f  0.304041\n",
       "29     564804ca8f0e05b7790108a24e7f2a36f1732375  0.999096\n",
       "...                                         ...       ...\n",
       "57428  c3936a5ab82c8429d337c2af505d12e8fed53800  0.503660\n",
       "57429  3a51838cb2d914b1eae479ed07887a25ad898130  0.000788\n",
       "57430  5cd2c886445fa12b1a5fd7476f59f6b9ff641048  0.481643\n",
       "57431  73b6d3a082011e64bff624fe718bb66cc7757572  0.035649\n",
       "57432  5bb1f5a647fed58bfa69a820f16c959e4f8e418b  0.261785\n",
       "57433  cbfe076d09dbbfe899d2276d38d1e6b2669e06b9  0.006473\n",
       "57434  3f713d1d1b0e8cd18daf3bc014b21f09f243ac4d  0.977264\n",
       "57435  5e6e3443a9145a43e10e4fcc35df3fd8bc3c4411  0.985705\n",
       "57436  aaff0630a066416f374cd2e65a169d8378840376  0.042886\n",
       "57437  a36a9295354c700739b369dd7de4df54e801c185  0.019407\n",
       "57438  86cbac8eef45d436a8b1c7469ada0894f0b684cc  0.644860\n",
       "57439  64c1b67a3d4409c3de1da54b88771da63620dd53  0.014398\n",
       "57440  da50fba013af3e308867f47183e7d037f574dc10  0.778043\n",
       "57441  b0f5c94b69b5c76a5f0a9364c5d102826d29e0b3  0.000776\n",
       "57442  8464c48f09addf99e79aee5422a66cfff48c2929  0.006564\n",
       "57443  f18483fb465cd92c73b5f5e775f23b58cc5b2d36  0.732923\n",
       "57444  d92e5dc32ff59711a94e0f4edfcd6a8b2eff583f  0.982592\n",
       "57445  7e43b15f9b04dfa36a80ffc8787a2115fe3633df  0.041926\n",
       "57446  1817497e85ef6d779852d4bae488b45fbccb4305  0.874789\n",
       "57447  7c553e582d5a67f2bc90273d8f62940f6d46aba0  0.215232\n",
       "57448  5481ea07d17fed3a807294a1c2ddbba2a64eb9e3  0.518428\n",
       "57449  d5b3051b33d56ae6b46069225739ba2005d3ae61  0.479195\n",
       "57450  69097bf5ae9632515d2e70c7cd3880ea7980820c  0.072792\n",
       "57451  a3c0f54a1e82f1bb3f9527eb619cec2bb229fa5d  0.789389\n",
       "57452  f93cadad45c3d7763af25d3412bd0019a95fa0f1  0.558607\n",
       "57453  061847314ded6f81e1cd670748bfa2003442c9c7  0.340557\n",
       "57454  6f3977130212641fd5808210015a609c658dcbff  0.986997\n",
       "57455  46935f247278539eca74b54d07d666efb528a753  0.002689\n",
       "57456  a09bcae08a82120183352e0e869181b2911d3dc1  0.182700\n",
       "57457  d29233dc0b90c2e1a8fcedbc3e1234c3d4dbd55b  0.929580\n",
       "\n",
       "[57458 rows x 2 columns]"
      ]
     },
     "execution_count": 34,
     "metadata": {},
     "output_type": "execute_result"
    }
   ],
   "source": [
    "new_sub"
   ]
  },
  {
   "cell_type": "code",
   "execution_count": 35,
   "metadata": {},
   "outputs": [],
   "source": [
    "fname = \"all_simple_TTA_mean.csv\"\n",
    "new_sub.to_csv(ens_path/f\"{fname}\", index=False)"
   ]
  },
  {
   "cell_type": "code",
   "execution_count": 36,
   "metadata": {},
   "outputs": [
    {
     "data": {
      "text/plain": [
       "PosixPath('../data/histopathologic/ensemble/all_simple_TTA_mean')"
      ]
     },
     "execution_count": 36,
     "metadata": {},
     "output_type": "execute_result"
    }
   ],
   "source": [
    "sub_name = ens_path/f\"{fname}\"; sub_name"
   ]
  },
  {
   "cell_type": "code",
   "execution_count": 37,
   "metadata": {},
   "outputs": [
    {
     "data": {
      "text/plain": [
       "0"
      ]
     },
     "execution_count": 37,
     "metadata": {},
     "output_type": "execute_result"
    }
   ],
   "source": [
    "cmd = \"kaggle competitions submit -c histopathologic-cancer-detection -f {} -m {}\".format(sub_name, fname)\n",
    "os.system(cmd)"
   ]
  },
  {
   "cell_type": "code",
   "execution_count": 38,
   "metadata": {},
   "outputs": [
    {
     "data": {
      "text/plain": [
       "'kaggle competitions submit -c histopathologic-cancer-detection -f ../data/histopathologic/ensemble/all_simple_TTA_mean -m all_simple_TTA_mean'"
      ]
     },
     "execution_count": 38,
     "metadata": {},
     "output_type": "execute_result"
    }
   ],
   "source": [
    "cmd"
   ]
  },
  {
   "cell_type": "code",
   "execution_count": null,
   "metadata": {},
   "outputs": [],
   "source": []
  },
  {
   "cell_type": "code",
   "execution_count": null,
   "metadata": {},
   "outputs": [],
   "source": []
  }
 ],
 "metadata": {
  "kernelspec": {
   "display_name": "Python 3",
   "language": "python",
   "name": "python3"
  },
  "language_info": {
   "codemirror_mode": {
    "name": "ipython",
    "version": 3
   },
   "file_extension": ".py",
   "mimetype": "text/x-python",
   "name": "python",
   "nbconvert_exporter": "python",
   "pygments_lexer": "ipython3",
   "version": "3.6.8"
  }
 },
 "nbformat": 4,
 "nbformat_minor": 2
}
